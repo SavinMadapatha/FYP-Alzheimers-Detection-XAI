{
 "cells": [
  {
   "cell_type": "markdown",
   "id": "3d0685ca",
   "metadata": {},
   "source": [
    "## Modified AlexNet Architecture"
   ]
  },
  {
   "cell_type": "code",
   "execution_count": 42,
   "id": "3634c26e",
   "metadata": {},
   "outputs": [],
   "source": [
    "import os\n",
    "import torch\n",
    "import torch.nn as nn\n",
    "from torchsummary import summary\n",
    "import torch.optim as optim\n",
    "import torch.nn.functional as F\n",
    "from torch.utils import data\n",
    "from torchvision import datasets, transforms, models\n",
    "from collections import Counter\n",
    "from torchvision.transforms import Resize, CenterCrop, ToTensor, Normalize, GaussianBlur, Grayscale\n",
    "from torchvision.datasets import ImageFolder\n",
    "from torch.utils.data import DataLoader, random_split, Subset, Dataset\n",
    "\n",
    "import cv2 \n",
    "from PIL import Image, ImageFilter, ImageOps\n",
    "from torchvision.transforms.functional import to_pil_image\n",
    "from skimage.metrics import peak_signal_noise_ratio, structural_similarity\n",
    "import matplotlib.pyplot as plt\n",
    "import torch.optim as optim\n",
    "from tqdm import tqdm\n",
    "\n",
    "from sklearn.metrics import classification_report, confusion_matrix\n",
    "import seaborn as sns\n",
    "from torch.optim import lr_scheduler\n",
    "\n",
    "from tkinter import filedialog, Tk\n",
    "\n",
    "from gradcam import GradCAM, GradCAMpp\n",
    "from gradcam.utils import visualize_cam\n",
    "\n",
    "import numpy as np\n",
    "from sklearn.model_selection import KFold\n",
    "from sklearn.metrics import accuracy_score\n",
    "from sklearn.preprocessing import label_binarize\n",
    "from sklearn.metrics import roc_curve, auc\n",
    "\n",
    "from sklearn.model_selection import KFold\n",
    "from sklearn.metrics import confusion_matrix, accuracy_score\n",
    "import numpy as np\n",
    "import seaborn as sns\n",
    "import matplotlib.pyplot as plt\n",
    "from torch.utils.data import Subset, DataLoader\n",
    "\n",
    "import dill\n",
    "import torch.multiprocessing as mp\n",
    "\n",
    "from captum.attr import IntegratedGradients\n",
    "from captum.attr import visualization as viz\n",
    "\n",
    "from sklearn.metrics import matthews_corrcoef, cohen_kappa_score"
   ]
  },
  {
   "cell_type": "code",
   "execution_count": 2,
   "id": "18e0a104",
   "metadata": {},
   "outputs": [],
   "source": [
    "device = torch.device(\"cuda\" if torch.cuda.is_available() else \"cpu\") # as M1 Mac Does not have a dedicated GPU"
   ]
  },
  {
   "cell_type": "code",
   "execution_count": 3,
   "id": "d370bce0",
   "metadata": {},
   "outputs": [],
   "source": [
    "train_data_dir = '/Users/savin/Desktop/FYP/Implementation/kaggle_dataset/AugmentedAlzheimerDataset'\n",
    "original_dataset = datasets.ImageFolder(train_data_dir)"
   ]
  },
  {
   "cell_type": "code",
   "execution_count": 4,
   "id": "40744313",
   "metadata": {},
   "outputs": [],
   "source": [
    "class ContrastStretching:\n",
    "    def __call__(self, img):\n",
    "        # Convert PIL Image to NumPy array\n",
    "        img_np = np.array(img)\n",
    "        \n",
    "        # Check if the image is grayscale or RGB\n",
    "        if img_np.ndim == 2:  # Grayscale image\n",
    "            img_np = self.apply_contrast_stretching(img_np)\n",
    "        elif img_np.ndim == 3:  # RGB image\n",
    "            # Apply contrast stretching to each channel individually\n",
    "            for i in range(img_np.shape[-1]):\n",
    "                img_np[:, :, i] = self.apply_contrast_stretching(img_np[:, :, i])\n",
    "        \n",
    "        # Convert back to PIL Image\n",
    "        return Image.fromarray(img_np.astype('uint8'))\n",
    "    \n",
    "    def apply_contrast_stretching(self, channel):\n",
    "        in_min, in_max = np.percentile(channel, (0, 100))\n",
    "        out_min, out_max = 0, 255\n",
    "        channel = np.clip((channel - in_min) * (out_max - out_min) / (in_max - in_min) + out_min, out_min, out_max)\n",
    "        return channel\n",
    "\n",
    "class UnsharpMask:\n",
    "    def __init__(self, radius=1, percent=100, threshold=3):\n",
    "        self.radius = radius\n",
    "        self.percent = percent\n",
    "        self.threshold = threshold\n",
    "\n",
    "    def __call__(self, img):\n",
    "        return img.filter(ImageFilter.UnsharpMask(radius=self.radius, \n",
    "                                                  percent=self.percent, \n",
    "                                                  threshold=self.threshold\n",
    "                                                 ))\n",
    "\n",
    "class GaussianBlur:\n",
    "    def __init__(self, kernel_size, sigma=(0.1, 2.0)):\n",
    "        self.kernel_size = kernel_size\n",
    "        self.sigma = sigma\n",
    "\n",
    "    def __call__(self, img):\n",
    "        sigma = np.random.uniform(self.sigma[0], self.sigma[1])\n",
    "        img = img.filter(ImageFilter.GaussianBlur(sigma))\n",
    "        return img"
   ]
  },
  {
   "cell_type": "code",
   "execution_count": 5,
   "id": "85fb3a66",
   "metadata": {},
   "outputs": [],
   "source": [
    "preprocess_transform = transforms.Compose([\n",
    "    transforms.Resize((224, 224)),\n",
    "    ContrastStretching(),\n",
    "    UnsharpMask(radius=1, percent=100, threshold=3),  \n",
    "    GaussianBlur(kernel_size=(5, 5), sigma=(0.1, 0.5)), \n",
    "    transforms.ToTensor()\n",
    "])\n",
    "\n",
    "preprocessed_dataset = datasets.ImageFolder(root=train_data_dir, transform=preprocess_transform)"
   ]
  },
  {
   "cell_type": "code",
   "execution_count": 6,
   "id": "27988aaf",
   "metadata": {},
   "outputs": [],
   "source": [
    "train_size = int(0.70 * len(preprocessed_dataset))\n",
    "val_size = int(0.15 * len(preprocessed_dataset))\n",
    "test_size = len(preprocessed_dataset) - train_size - val_size\n",
    "\n",
    "train_dataset, val_dataset, test_dataset = random_split(preprocessed_dataset, [train_size, val_size, test_size])\n",
    "\n",
    "# Create DataLoaders\n",
    "train_loader = DataLoader(train_dataset, batch_size=32, shuffle=True)\n",
    "val_loader = DataLoader(val_dataset, batch_size=32, shuffle=True)\n",
    "test_loader = DataLoader(test_dataset, batch_size=32, shuffle=False)\n",
    "\n",
    "dataloaders = {'train': train_loader, 'val': val_loader, 'test': test_loader}"
   ]
  },
  {
   "cell_type": "code",
   "execution_count": 7,
   "id": "2a4c457e",
   "metadata": {},
   "outputs": [
    {
     "name": "stdout",
     "output_type": "stream",
     "text": [
      "CNN1(\n",
      "  (conv1): Conv2d(3, 64, kernel_size=(11, 11), stride=(4, 4), padding=(2, 2))\n",
      "  (bn1): BatchNorm2d(64, eps=1e-05, momentum=0.1, affine=True, track_running_stats=True)\n",
      "  (conv2): Conv2d(64, 128, kernel_size=(5, 5), stride=(1, 1), padding=(2, 2))\n",
      "  (bn2): BatchNorm2d(128, eps=1e-05, momentum=0.1, affine=True, track_running_stats=True)\n",
      "  (conv3): Conv2d(128, 256, kernel_size=(3, 3), stride=(1, 1), padding=(1, 1))\n",
      "  (bn3): BatchNorm2d(256, eps=1e-05, momentum=0.1, affine=True, track_running_stats=True)\n",
      "  (conv4): Conv2d(256, 256, kernel_size=(3, 3), stride=(1, 1), padding=(1, 1))\n",
      "  (bn4): BatchNorm2d(256, eps=1e-05, momentum=0.1, affine=True, track_running_stats=True)\n",
      "  (conv5): Conv2d(256, 256, kernel_size=(3, 3), stride=(1, 1), padding=(1, 1))\n",
      "  (bn5): BatchNorm2d(256, eps=1e-05, momentum=0.1, affine=True, track_running_stats=True)\n",
      "  (conv6): Conv2d(256, 384, kernel_size=(3, 3), stride=(1, 1), padding=(1, 1))\n",
      "  (bn6): BatchNorm2d(384, eps=1e-05, momentum=0.1, affine=True, track_running_stats=True)\n",
      "  (pool): MaxPool2d(kernel_size=3, stride=2, padding=0, dilation=1, ceil_mode=False)\n",
      "  (fc1): Linear(in_features=13824, out_features=4096, bias=True)\n",
      "  (fc2): Linear(in_features=4096, out_features=1024, bias=True)\n",
      "  (output): Linear(in_features=1024, out_features=4, bias=True)\n",
      "  (dropout): Dropout(p=0.5, inplace=False)\n",
      ")\n",
      "----------------------------------------------------------------\n",
      "        Layer (type)               Output Shape         Param #\n",
      "================================================================\n",
      "            Conv2d-1           [-1, 64, 55, 55]          23,296\n",
      "       BatchNorm2d-2           [-1, 64, 55, 55]             128\n",
      "         MaxPool2d-3           [-1, 64, 27, 27]               0\n",
      "            Conv2d-4          [-1, 128, 27, 27]         204,928\n",
      "       BatchNorm2d-5          [-1, 128, 27, 27]             256\n",
      "         MaxPool2d-6          [-1, 128, 13, 13]               0\n",
      "            Conv2d-7          [-1, 256, 13, 13]         295,168\n",
      "       BatchNorm2d-8          [-1, 256, 13, 13]             512\n",
      "            Conv2d-9          [-1, 256, 13, 13]         590,080\n",
      "      BatchNorm2d-10          [-1, 256, 13, 13]             512\n",
      "           Conv2d-11          [-1, 256, 13, 13]         590,080\n",
      "      BatchNorm2d-12          [-1, 256, 13, 13]             512\n",
      "        MaxPool2d-13            [-1, 256, 6, 6]               0\n",
      "           Conv2d-14            [-1, 384, 6, 6]         885,120\n",
      "      BatchNorm2d-15            [-1, 384, 6, 6]             768\n",
      "           Linear-16                 [-1, 4096]      56,627,200\n",
      "          Dropout-17                 [-1, 4096]               0\n",
      "           Linear-18                 [-1, 1024]       4,195,328\n",
      "          Dropout-19                 [-1, 1024]               0\n",
      "           Linear-20                    [-1, 4]           4,100\n",
      "================================================================\n",
      "Total params: 63,417,988\n",
      "Trainable params: 63,417,988\n",
      "Non-trainable params: 0\n",
      "----------------------------------------------------------------\n",
      "Input size (MB): 0.57\n",
      "Forward/backward pass size (MB): 7.24\n",
      "Params size (MB): 241.92\n",
      "Estimated Total Size (MB): 249.73\n",
      "----------------------------------------------------------------\n"
     ]
    }
   ],
   "source": [
    "class CNN1(nn.Module):\n",
    "    def __init__(self, num_classes=4):\n",
    "        super(CNN1, self).__init__()\n",
    "        self.conv1 = nn.Conv2d(3, 64, kernel_size=11, stride=4, padding=2)\n",
    "        self.bn1 = nn.BatchNorm2d(64)\n",
    "        self.conv2 = nn.Conv2d(64, 128, kernel_size=5, padding=2)\n",
    "        self.bn2 = nn.BatchNorm2d(128)\n",
    "        self.conv3 = nn.Conv2d(128, 256, kernel_size=3, padding=1)\n",
    "        self.bn3 = nn.BatchNorm2d(256)\n",
    "        self.conv4 = nn.Conv2d(256, 256, kernel_size=3, padding=1)\n",
    "        self.bn4 = nn.BatchNorm2d(256)\n",
    "        self.conv5 = nn.Conv2d(256, 256, kernel_size=3, padding=1)\n",
    "        self.bn5 = nn.BatchNorm2d(256)\n",
    "        self.conv6 = nn.Conv2d(256, 384, kernel_size=3, padding=1)\n",
    "        self.bn6 = nn.BatchNorm2d(384)\n",
    "\n",
    "        self.pool = nn.MaxPool2d(kernel_size=3, stride=2)\n",
    "\n",
    "        self.fc1 = nn.Linear(384 * 6 * 6, 4096)\n",
    "        self.fc2 = nn.Linear(4096, 1024)\n",
    "        self.output = nn.Linear(1024, num_classes)\n",
    "\n",
    "        self.dropout = nn.Dropout(0.5)\n",
    "\n",
    "    def forward(self, x):\n",
    "        x = self.pool(F.leaky_relu(self.bn1(self.conv1(x)), negative_slope=0.01))\n",
    "        x = self.pool(F.leaky_relu(self.bn2(self.conv2(x)), negative_slope=0.01))\n",
    "        x = F.leaky_relu(self.bn3(self.conv3(x)), negative_slope=0.01)\n",
    "        x = F.leaky_relu(self.bn4(self.conv4(x)), negative_slope=0.01)\n",
    "        x = self.pool(F.leaky_relu(self.bn5(self.conv5(x)), negative_slope=0.01))\n",
    "        x = F.leaky_relu(self.bn6(self.conv6(x)), negative_slope=0.01)\n",
    "\n",
    "        x = x.view(x.size(0), -1)\n",
    "\n",
    "        x = self.dropout(F.leaky_relu(self.fc1(x), negative_slope=0.01))\n",
    "        x = self.dropout(F.leaky_relu(self.fc2(x), negative_slope=0.01))\n",
    "        \n",
    "        x = self.output(x)\n",
    "\n",
    "        return x\n",
    "\n",
    "model1 = CNN1(num_classes=4)\n",
    "\n",
    "print(model1)\n",
    "summary(model1, (3,224,224))"
   ]
  },
  {
   "cell_type": "markdown",
   "id": "0473673f",
   "metadata": {},
   "source": [
    "## Modified EfficientNetB0 CNN Architecture"
   ]
  },
  {
   "cell_type": "code",
   "execution_count": 8,
   "id": "159935a6",
   "metadata": {},
   "outputs": [
    {
     "name": "stderr",
     "output_type": "stream",
     "text": [
      "/Users/savin/opt/anaconda3/lib/python3.9/site-packages/torchvision/models/_utils.py:208: UserWarning: The parameter 'pretrained' is deprecated since 0.13 and may be removed in the future, please use 'weights' instead.\n",
      "  warnings.warn(\n",
      "/Users/savin/opt/anaconda3/lib/python3.9/site-packages/torchvision/models/_utils.py:223: UserWarning: Arguments other than a weight enum or `None` for 'weights' are deprecated since 0.13 and may be removed in the future. The current behavior is equivalent to passing `weights=EfficientNet_B0_Weights.IMAGENET1K_V1`. You can also use `weights=EfficientNet_B0_Weights.DEFAULT` to get the most up-to-date weights.\n",
      "  warnings.warn(msg)\n"
     ]
    },
    {
     "name": "stdout",
     "output_type": "stream",
     "text": [
      "----------------------------------------------------------------\n",
      "        Layer (type)               Output Shape         Param #\n",
      "================================================================\n",
      "            Conv2d-1         [-1, 32, 112, 112]             864\n",
      "       BatchNorm2d-2         [-1, 32, 112, 112]              64\n",
      "              SiLU-3         [-1, 32, 112, 112]               0\n",
      "            Conv2d-4         [-1, 32, 112, 112]             288\n",
      "       BatchNorm2d-5         [-1, 32, 112, 112]              64\n",
      "              SiLU-6         [-1, 32, 112, 112]               0\n",
      " AdaptiveAvgPool2d-7             [-1, 32, 1, 1]               0\n",
      "            Conv2d-8              [-1, 8, 1, 1]             264\n",
      "              SiLU-9              [-1, 8, 1, 1]               0\n",
      "           Conv2d-10             [-1, 32, 1, 1]             288\n",
      "          Sigmoid-11             [-1, 32, 1, 1]               0\n",
      "SqueezeExcitation-12         [-1, 32, 112, 112]               0\n",
      "           Conv2d-13         [-1, 16, 112, 112]             512\n",
      "      BatchNorm2d-14         [-1, 16, 112, 112]              32\n",
      "           MBConv-15         [-1, 16, 112, 112]               0\n",
      "           Conv2d-16         [-1, 96, 112, 112]           1,536\n",
      "      BatchNorm2d-17         [-1, 96, 112, 112]             192\n",
      "             SiLU-18         [-1, 96, 112, 112]               0\n",
      "           Conv2d-19           [-1, 96, 56, 56]             864\n",
      "      BatchNorm2d-20           [-1, 96, 56, 56]             192\n",
      "             SiLU-21           [-1, 96, 56, 56]               0\n",
      "AdaptiveAvgPool2d-22             [-1, 96, 1, 1]               0\n",
      "           Conv2d-23              [-1, 4, 1, 1]             388\n",
      "             SiLU-24              [-1, 4, 1, 1]               0\n",
      "           Conv2d-25             [-1, 96, 1, 1]             480\n",
      "          Sigmoid-26             [-1, 96, 1, 1]               0\n",
      "SqueezeExcitation-27           [-1, 96, 56, 56]               0\n",
      "           Conv2d-28           [-1, 24, 56, 56]           2,304\n",
      "      BatchNorm2d-29           [-1, 24, 56, 56]              48\n",
      "           MBConv-30           [-1, 24, 56, 56]               0\n",
      "           Conv2d-31          [-1, 144, 56, 56]           3,456\n",
      "      BatchNorm2d-32          [-1, 144, 56, 56]             288\n",
      "             SiLU-33          [-1, 144, 56, 56]               0\n",
      "           Conv2d-34          [-1, 144, 56, 56]           1,296\n",
      "      BatchNorm2d-35          [-1, 144, 56, 56]             288\n",
      "             SiLU-36          [-1, 144, 56, 56]               0\n",
      "AdaptiveAvgPool2d-37            [-1, 144, 1, 1]               0\n",
      "           Conv2d-38              [-1, 6, 1, 1]             870\n",
      "             SiLU-39              [-1, 6, 1, 1]               0\n",
      "           Conv2d-40            [-1, 144, 1, 1]           1,008\n",
      "          Sigmoid-41            [-1, 144, 1, 1]               0\n",
      "SqueezeExcitation-42          [-1, 144, 56, 56]               0\n",
      "           Conv2d-43           [-1, 24, 56, 56]           3,456\n",
      "      BatchNorm2d-44           [-1, 24, 56, 56]              48\n",
      "  StochasticDepth-45           [-1, 24, 56, 56]               0\n",
      "           MBConv-46           [-1, 24, 56, 56]               0\n",
      "           Conv2d-47          [-1, 144, 56, 56]           3,456\n",
      "      BatchNorm2d-48          [-1, 144, 56, 56]             288\n",
      "             SiLU-49          [-1, 144, 56, 56]               0\n",
      "           Conv2d-50          [-1, 144, 28, 28]           3,600\n",
      "      BatchNorm2d-51          [-1, 144, 28, 28]             288\n",
      "             SiLU-52          [-1, 144, 28, 28]               0\n",
      "AdaptiveAvgPool2d-53            [-1, 144, 1, 1]               0\n",
      "           Conv2d-54              [-1, 6, 1, 1]             870\n",
      "             SiLU-55              [-1, 6, 1, 1]               0\n",
      "           Conv2d-56            [-1, 144, 1, 1]           1,008\n",
      "          Sigmoid-57            [-1, 144, 1, 1]               0\n",
      "SqueezeExcitation-58          [-1, 144, 28, 28]               0\n",
      "           Conv2d-59           [-1, 40, 28, 28]           5,760\n",
      "      BatchNorm2d-60           [-1, 40, 28, 28]              80\n",
      "           MBConv-61           [-1, 40, 28, 28]               0\n",
      "           Conv2d-62          [-1, 240, 28, 28]           9,600\n",
      "      BatchNorm2d-63          [-1, 240, 28, 28]             480\n",
      "             SiLU-64          [-1, 240, 28, 28]               0\n",
      "           Conv2d-65          [-1, 240, 28, 28]           6,000\n",
      "      BatchNorm2d-66          [-1, 240, 28, 28]             480\n",
      "             SiLU-67          [-1, 240, 28, 28]               0\n",
      "AdaptiveAvgPool2d-68            [-1, 240, 1, 1]               0\n",
      "           Conv2d-69             [-1, 10, 1, 1]           2,410\n",
      "             SiLU-70             [-1, 10, 1, 1]               0\n",
      "           Conv2d-71            [-1, 240, 1, 1]           2,640\n",
      "          Sigmoid-72            [-1, 240, 1, 1]               0\n",
      "SqueezeExcitation-73          [-1, 240, 28, 28]               0\n",
      "           Conv2d-74           [-1, 40, 28, 28]           9,600\n",
      "      BatchNorm2d-75           [-1, 40, 28, 28]              80\n",
      "  StochasticDepth-76           [-1, 40, 28, 28]               0\n",
      "           MBConv-77           [-1, 40, 28, 28]               0\n",
      "           Conv2d-78          [-1, 240, 28, 28]           9,600\n",
      "      BatchNorm2d-79          [-1, 240, 28, 28]             480\n",
      "             SiLU-80          [-1, 240, 28, 28]               0\n",
      "           Conv2d-81          [-1, 240, 14, 14]           2,160\n",
      "      BatchNorm2d-82          [-1, 240, 14, 14]             480\n",
      "             SiLU-83          [-1, 240, 14, 14]               0\n",
      "AdaptiveAvgPool2d-84            [-1, 240, 1, 1]               0\n",
      "           Conv2d-85             [-1, 10, 1, 1]           2,410\n",
      "             SiLU-86             [-1, 10, 1, 1]               0\n",
      "           Conv2d-87            [-1, 240, 1, 1]           2,640\n",
      "          Sigmoid-88            [-1, 240, 1, 1]               0\n",
      "SqueezeExcitation-89          [-1, 240, 14, 14]               0\n",
      "           Conv2d-90           [-1, 80, 14, 14]          19,200\n",
      "      BatchNorm2d-91           [-1, 80, 14, 14]             160\n",
      "           MBConv-92           [-1, 80, 14, 14]               0\n",
      "           Conv2d-93          [-1, 480, 14, 14]          38,400\n",
      "      BatchNorm2d-94          [-1, 480, 14, 14]             960\n",
      "             SiLU-95          [-1, 480, 14, 14]               0\n",
      "           Conv2d-96          [-1, 480, 14, 14]           4,320\n",
      "      BatchNorm2d-97          [-1, 480, 14, 14]             960\n",
      "             SiLU-98          [-1, 480, 14, 14]               0\n",
      "AdaptiveAvgPool2d-99            [-1, 480, 1, 1]               0\n",
      "          Conv2d-100             [-1, 20, 1, 1]           9,620\n",
      "            SiLU-101             [-1, 20, 1, 1]               0\n",
      "          Conv2d-102            [-1, 480, 1, 1]          10,080\n",
      "         Sigmoid-103            [-1, 480, 1, 1]               0\n",
      "SqueezeExcitation-104          [-1, 480, 14, 14]               0\n",
      "          Conv2d-105           [-1, 80, 14, 14]          38,400\n",
      "     BatchNorm2d-106           [-1, 80, 14, 14]             160\n",
      " StochasticDepth-107           [-1, 80, 14, 14]               0\n",
      "          MBConv-108           [-1, 80, 14, 14]               0\n",
      "          Conv2d-109          [-1, 480, 14, 14]          38,400\n",
      "     BatchNorm2d-110          [-1, 480, 14, 14]             960\n",
      "            SiLU-111          [-1, 480, 14, 14]               0\n",
      "          Conv2d-112          [-1, 480, 14, 14]           4,320\n",
      "     BatchNorm2d-113          [-1, 480, 14, 14]             960\n",
      "            SiLU-114          [-1, 480, 14, 14]               0\n",
      "AdaptiveAvgPool2d-115            [-1, 480, 1, 1]               0\n",
      "          Conv2d-116             [-1, 20, 1, 1]           9,620\n",
      "            SiLU-117             [-1, 20, 1, 1]               0\n",
      "          Conv2d-118            [-1, 480, 1, 1]          10,080\n",
      "         Sigmoid-119            [-1, 480, 1, 1]               0\n",
      "SqueezeExcitation-120          [-1, 480, 14, 14]               0\n",
      "          Conv2d-121           [-1, 80, 14, 14]          38,400\n",
      "     BatchNorm2d-122           [-1, 80, 14, 14]             160\n",
      " StochasticDepth-123           [-1, 80, 14, 14]               0\n",
      "          MBConv-124           [-1, 80, 14, 14]               0\n",
      "          Conv2d-125          [-1, 480, 14, 14]          38,400\n",
      "     BatchNorm2d-126          [-1, 480, 14, 14]             960\n",
      "            SiLU-127          [-1, 480, 14, 14]               0\n",
      "          Conv2d-128          [-1, 480, 14, 14]          12,000\n",
      "     BatchNorm2d-129          [-1, 480, 14, 14]             960\n",
      "            SiLU-130          [-1, 480, 14, 14]               0\n",
      "AdaptiveAvgPool2d-131            [-1, 480, 1, 1]               0\n",
      "          Conv2d-132             [-1, 20, 1, 1]           9,620\n",
      "            SiLU-133             [-1, 20, 1, 1]               0\n",
      "          Conv2d-134            [-1, 480, 1, 1]          10,080\n",
      "         Sigmoid-135            [-1, 480, 1, 1]               0\n",
      "SqueezeExcitation-136          [-1, 480, 14, 14]               0\n",
      "          Conv2d-137          [-1, 112, 14, 14]          53,760\n",
      "     BatchNorm2d-138          [-1, 112, 14, 14]             224\n",
      "          MBConv-139          [-1, 112, 14, 14]               0\n",
      "          Conv2d-140          [-1, 672, 14, 14]          75,264\n",
      "     BatchNorm2d-141          [-1, 672, 14, 14]           1,344\n",
      "            SiLU-142          [-1, 672, 14, 14]               0\n",
      "          Conv2d-143          [-1, 672, 14, 14]          16,800\n",
      "     BatchNorm2d-144          [-1, 672, 14, 14]           1,344\n",
      "            SiLU-145          [-1, 672, 14, 14]               0\n",
      "AdaptiveAvgPool2d-146            [-1, 672, 1, 1]               0\n",
      "          Conv2d-147             [-1, 28, 1, 1]          18,844\n",
      "            SiLU-148             [-1, 28, 1, 1]               0\n",
      "          Conv2d-149            [-1, 672, 1, 1]          19,488\n",
      "         Sigmoid-150            [-1, 672, 1, 1]               0\n",
      "SqueezeExcitation-151          [-1, 672, 14, 14]               0\n",
      "          Conv2d-152          [-1, 112, 14, 14]          75,264\n",
      "     BatchNorm2d-153          [-1, 112, 14, 14]             224\n",
      " StochasticDepth-154          [-1, 112, 14, 14]               0\n",
      "          MBConv-155          [-1, 112, 14, 14]               0\n",
      "          Conv2d-156          [-1, 672, 14, 14]          75,264\n",
      "     BatchNorm2d-157          [-1, 672, 14, 14]           1,344\n",
      "            SiLU-158          [-1, 672, 14, 14]               0\n",
      "          Conv2d-159          [-1, 672, 14, 14]          16,800\n",
      "     BatchNorm2d-160          [-1, 672, 14, 14]           1,344\n",
      "            SiLU-161          [-1, 672, 14, 14]               0\n",
      "AdaptiveAvgPool2d-162            [-1, 672, 1, 1]               0\n",
      "          Conv2d-163             [-1, 28, 1, 1]          18,844\n",
      "            SiLU-164             [-1, 28, 1, 1]               0\n",
      "          Conv2d-165            [-1, 672, 1, 1]          19,488\n",
      "         Sigmoid-166            [-1, 672, 1, 1]               0\n",
      "SqueezeExcitation-167          [-1, 672, 14, 14]               0\n",
      "          Conv2d-168          [-1, 112, 14, 14]          75,264\n",
      "     BatchNorm2d-169          [-1, 112, 14, 14]             224\n",
      " StochasticDepth-170          [-1, 112, 14, 14]               0\n",
      "          MBConv-171          [-1, 112, 14, 14]               0\n",
      "          Conv2d-172          [-1, 672, 14, 14]          75,264\n",
      "     BatchNorm2d-173          [-1, 672, 14, 14]           1,344\n",
      "            SiLU-174          [-1, 672, 14, 14]               0\n",
      "          Conv2d-175            [-1, 672, 7, 7]          16,800\n",
      "     BatchNorm2d-176            [-1, 672, 7, 7]           1,344\n",
      "            SiLU-177            [-1, 672, 7, 7]               0\n",
      "AdaptiveAvgPool2d-178            [-1, 672, 1, 1]               0\n",
      "          Conv2d-179             [-1, 28, 1, 1]          18,844\n",
      "            SiLU-180             [-1, 28, 1, 1]               0\n",
      "          Conv2d-181            [-1, 672, 1, 1]          19,488\n",
      "         Sigmoid-182            [-1, 672, 1, 1]               0\n",
      "SqueezeExcitation-183            [-1, 672, 7, 7]               0\n",
      "          Conv2d-184            [-1, 192, 7, 7]         129,024\n",
      "     BatchNorm2d-185            [-1, 192, 7, 7]             384\n",
      "          MBConv-186            [-1, 192, 7, 7]               0\n",
      "          Conv2d-187           [-1, 1152, 7, 7]         221,184\n",
      "     BatchNorm2d-188           [-1, 1152, 7, 7]           2,304\n",
      "            SiLU-189           [-1, 1152, 7, 7]               0\n",
      "          Conv2d-190           [-1, 1152, 7, 7]          28,800\n",
      "     BatchNorm2d-191           [-1, 1152, 7, 7]           2,304\n",
      "            SiLU-192           [-1, 1152, 7, 7]               0\n",
      "AdaptiveAvgPool2d-193           [-1, 1152, 1, 1]               0\n",
      "          Conv2d-194             [-1, 48, 1, 1]          55,344\n",
      "            SiLU-195             [-1, 48, 1, 1]               0\n",
      "          Conv2d-196           [-1, 1152, 1, 1]          56,448\n",
      "         Sigmoid-197           [-1, 1152, 1, 1]               0\n",
      "SqueezeExcitation-198           [-1, 1152, 7, 7]               0\n",
      "          Conv2d-199            [-1, 192, 7, 7]         221,184\n",
      "     BatchNorm2d-200            [-1, 192, 7, 7]             384\n",
      " StochasticDepth-201            [-1, 192, 7, 7]               0\n",
      "          MBConv-202            [-1, 192, 7, 7]               0\n",
      "          Conv2d-203           [-1, 1152, 7, 7]         221,184\n",
      "     BatchNorm2d-204           [-1, 1152, 7, 7]           2,304\n",
      "            SiLU-205           [-1, 1152, 7, 7]               0\n",
      "          Conv2d-206           [-1, 1152, 7, 7]          28,800\n",
      "     BatchNorm2d-207           [-1, 1152, 7, 7]           2,304\n",
      "            SiLU-208           [-1, 1152, 7, 7]               0\n",
      "AdaptiveAvgPool2d-209           [-1, 1152, 1, 1]               0\n",
      "          Conv2d-210             [-1, 48, 1, 1]          55,344\n",
      "            SiLU-211             [-1, 48, 1, 1]               0\n",
      "          Conv2d-212           [-1, 1152, 1, 1]          56,448\n",
      "         Sigmoid-213           [-1, 1152, 1, 1]               0\n",
      "SqueezeExcitation-214           [-1, 1152, 7, 7]               0\n",
      "          Conv2d-215            [-1, 192, 7, 7]         221,184\n",
      "     BatchNorm2d-216            [-1, 192, 7, 7]             384\n",
      " StochasticDepth-217            [-1, 192, 7, 7]               0\n",
      "          MBConv-218            [-1, 192, 7, 7]               0\n",
      "          Conv2d-219           [-1, 1152, 7, 7]         221,184\n",
      "     BatchNorm2d-220           [-1, 1152, 7, 7]           2,304\n",
      "            SiLU-221           [-1, 1152, 7, 7]               0\n",
      "          Conv2d-222           [-1, 1152, 7, 7]          28,800\n",
      "     BatchNorm2d-223           [-1, 1152, 7, 7]           2,304\n",
      "            SiLU-224           [-1, 1152, 7, 7]               0\n",
      "AdaptiveAvgPool2d-225           [-1, 1152, 1, 1]               0\n",
      "          Conv2d-226             [-1, 48, 1, 1]          55,344\n",
      "            SiLU-227             [-1, 48, 1, 1]               0\n",
      "          Conv2d-228           [-1, 1152, 1, 1]          56,448\n",
      "         Sigmoid-229           [-1, 1152, 1, 1]               0\n",
      "SqueezeExcitation-230           [-1, 1152, 7, 7]               0\n",
      "          Conv2d-231            [-1, 192, 7, 7]         221,184\n",
      "     BatchNorm2d-232            [-1, 192, 7, 7]             384\n",
      " StochasticDepth-233            [-1, 192, 7, 7]               0\n",
      "          MBConv-234            [-1, 192, 7, 7]               0\n",
      "          Conv2d-235           [-1, 1152, 7, 7]         221,184\n",
      "     BatchNorm2d-236           [-1, 1152, 7, 7]           2,304\n",
      "            SiLU-237           [-1, 1152, 7, 7]               0\n",
      "          Conv2d-238           [-1, 1152, 7, 7]          10,368\n",
      "     BatchNorm2d-239           [-1, 1152, 7, 7]           2,304\n",
      "            SiLU-240           [-1, 1152, 7, 7]               0\n",
      "AdaptiveAvgPool2d-241           [-1, 1152, 1, 1]               0\n",
      "          Conv2d-242             [-1, 48, 1, 1]          55,344\n",
      "            SiLU-243             [-1, 48, 1, 1]               0\n",
      "          Conv2d-244           [-1, 1152, 1, 1]          56,448\n",
      "         Sigmoid-245           [-1, 1152, 1, 1]               0\n",
      "SqueezeExcitation-246           [-1, 1152, 7, 7]               0\n",
      "          Conv2d-247            [-1, 320, 7, 7]         368,640\n",
      "     BatchNorm2d-248            [-1, 320, 7, 7]             640\n",
      "          MBConv-249            [-1, 320, 7, 7]               0\n",
      "          Conv2d-250           [-1, 1280, 7, 7]         409,600\n",
      "     BatchNorm2d-251           [-1, 1280, 7, 7]           2,560\n",
      "            SiLU-252           [-1, 1280, 7, 7]               0\n",
      "AdaptiveAvgPool2d-253           [-1, 1280, 1, 1]               0\n",
      "          Linear-254                   [-1, 40]          51,200\n",
      "            ReLU-255                   [-1, 40]               0\n",
      "          Linear-256                 [-1, 1280]          51,200\n",
      "         Sigmoid-257                 [-1, 1280]               0\n",
      "         SEBlock-258           [-1, 1280, 7, 7]               0\n",
      "AdaptiveAvgPool2d-259           [-1, 1280, 1, 1]               0\n",
      "         Dropout-260                 [-1, 1280]               0\n",
      "          Linear-261                  [-1, 512]         655,872\n",
      "            ReLU-262                  [-1, 512]               0\n",
      "         Dropout-263                  [-1, 512]               0\n",
      "          Linear-264                    [-1, 4]           2,052\n",
      "================================================================\n",
      "Total params: 4,767,872\n",
      "Trainable params: 760,324\n",
      "Non-trainable params: 4,007,548\n",
      "----------------------------------------------------------------\n",
      "Input size (MB): 0.57\n",
      "Forward/backward pass size (MB): 174.16\n",
      "Params size (MB): 18.19\n",
      "Estimated Total Size (MB): 192.93\n",
      "----------------------------------------------------------------\n"
     ]
    }
   ],
   "source": [
    "class SEBlock(nn.Module):\n",
    "    def __init__(self, in_channels, reduction=32):\n",
    "        super(SEBlock, self).__init__()\n",
    "        self.avg_pool = nn.AdaptiveAvgPool2d(1)\n",
    "        self.fc = nn.Sequential(\n",
    "            nn.Linear(in_channels, in_channels // reduction, bias=False),\n",
    "            nn.ReLU(inplace=True),\n",
    "            nn.Linear(in_channels // reduction, in_channels, bias=False),\n",
    "            nn.Sigmoid()\n",
    "        )\n",
    "\n",
    "    def forward(self, x):\n",
    "        b, c, _, _ = x.size()\n",
    "        y = self.avg_pool(x).view(b, c)\n",
    "        y = self.fc(y).view(b, c, 1, 1)\n",
    "        return x * y.expand_as(x)\n",
    "\n",
    "class CNN2(nn.Module):\n",
    "    def __init__(self, num_classes=4):\n",
    "        super(CNN2, self).__init__()\n",
    "        self.base_model = models.efficientnet_b0(pretrained=True)\n",
    "        \n",
    "        for param in self.base_model.parameters():\n",
    "            param.requires_grad = False\n",
    "\n",
    "        # new classifier\n",
    "        num_ftrs = self.base_model.classifier[1].in_features\n",
    "        self.classifier = nn.Sequential(\n",
    "            nn.Dropout(0.2),\n",
    "            nn.Linear(num_ftrs, 512),\n",
    "            nn.ReLU(),\n",
    "            nn.Dropout(0.5),\n",
    "            nn.Linear(512, num_classes),\n",
    "        )\n",
    "\n",
    "        # Add SEBlock and ResidualBlock to the end of the features, before the avgpool\n",
    "        self.base_model.features.add_module(\"SEBlock\", SEBlock(1280)) \n",
    "\n",
    "    def forward(self, x):\n",
    "        x = self.base_model.features(x)\n",
    "        \n",
    "        # Apply avgpool and classifier\n",
    "        x = self.base_model.avgpool(x)\n",
    "        x = torch.flatten(x, 1)\n",
    "        x = self.classifier(x)\n",
    "        return x\n",
    "\n",
    "model2 = CNN2(num_classes=4)\n",
    "\n",
    "summary(model2, (3, 224, 224))"
   ]
  },
  {
   "cell_type": "markdown",
   "id": "2f678181",
   "metadata": {},
   "source": [
    "## Initial Ensemble Formation (Model 1 + Model 2)"
   ]
  },
  {
   "cell_type": "code",
   "execution_count": 59,
   "id": "c086d4b7",
   "metadata": {},
   "outputs": [],
   "source": [
    "class VotingEnsemble(nn.Module):\n",
    "    def __init__(self, model1, model2):\n",
    "        super(VotingEnsemble, self).__init__()\n",
    "        self.model1 = model1\n",
    "        self.model2 = model2\n",
    "\n",
    "    def forward(self, x):\n",
    "        # Get predictions from model1 and model2\n",
    "        output1 = self.model1(x)\n",
    "        output2 = self.model2(x)\n",
    "        \n",
    "        # softmax to convert to probabilities \n",
    "        prob1 = F.softmax(output1, dim=1)\n",
    "        prob2 = F.softmax(output2, dim=1)\n",
    "        \n",
    "        \n",
    "        # Average the probabilities \n",
    "        avg_probs = (prob1 + prob2) / 2\n",
    "        \n",
    "        return avg_probs"
   ]
  },
  {
   "cell_type": "code",
   "execution_count": 61,
   "id": "8adf4261",
   "metadata": {},
   "outputs": [],
   "source": [
    "initial_model1 = CNN1(num_classes=4)\n",
    "initial_model1.load_state_dict(torch.load(\"/Users/savin/Desktop/FYP/Implementation/model1.pth\"))\n",
    "\n",
    "initial_model2 = CNN2(num_classes=4)\n",
    "initial_model2.load_state_dict(torch.load(\"/Users/savin/Desktop/FYP/Implementation/model2.pth\"))\n",
    "\n",
    "initial_ensemble = VotingEnsemble(initial_model1, initial_model2).to(device)"
   ]
  },
  {
   "cell_type": "code",
   "execution_count": 122,
   "id": "73e1618f",
   "metadata": {},
   "outputs": [
    {
     "name": "stdout",
     "output_type": "stream",
     "text": [
      "initial_model1 - Val set | VSCA\n",
      "                  precision    recall  f1-score   support\n",
      "\n",
      "    MildDemented       0.99      0.73      0.84      1356\n",
      "ModerateDemented       0.81      1.00      0.89       961\n",
      "     NonDemented       0.83      0.92      0.87      1439\n",
      "VeryMildDemented       0.80      0.78      0.79      1341\n",
      "\n",
      "        accuracy                           0.85      5097\n",
      "       macro avg       0.86      0.86      0.85      5097\n",
      "    weighted avg       0.86      0.85      0.84      5097\n",
      "\n",
      "initial_model1 - Test set | Test accuracy\n",
      "                  precision    recall  f1-score   support\n",
      "\n",
      "    MildDemented       0.99      0.69      0.81      1361\n",
      "ModerateDemented       0.78      1.00      0.87       929\n",
      "     NonDemented       0.83      0.91      0.87      1428\n",
      "VeryMildDemented       0.78      0.78      0.78      1381\n",
      "\n",
      "        accuracy                           0.83      5099\n",
      "       macro avg       0.84      0.85      0.83      5099\n",
      "    weighted avg       0.85      0.83      0.83      5099\n",
      "\n"
     ]
    }
   ],
   "source": [
    "true_labels0, predictions0 = evaluate_model(initial_model1, val_loader)\n",
    "print('initial_model1 - Val set | VSCA')\n",
    "print(classification_report(true_labels0, predictions0, target_names=['MildDemented', 'ModerateDemented', 'NonDemented', 'VeryMildDemented'], zero_division=0))\n",
    "\n",
    "true_labels0, predictions0 = evaluate_model(initial_model1, test_loader)\n",
    "print('initial_model1 - Test set | Test accuracy')\n",
    "print(classification_report(true_labels0, predictions0, target_names=['MildDemented', 'ModerateDemented', 'NonDemented', 'VeryMildDemented'], zero_division=0))"
   ]
  },
  {
   "cell_type": "code",
   "execution_count": 123,
   "id": "34808ced",
   "metadata": {},
   "outputs": [
    {
     "name": "stdout",
     "output_type": "stream",
     "text": [
      "initial_model2 - Val set | VSCA\n",
      "                  precision    recall  f1-score   support\n",
      "\n",
      "    MildDemented       0.75      0.82      0.79      1356\n",
      "ModerateDemented       0.92      0.98      0.95       961\n",
      "     NonDemented       0.77      0.77      0.77      1439\n",
      "VeryMildDemented       0.72      0.62      0.66      1341\n",
      "\n",
      "        accuracy                           0.78      5097\n",
      "       macro avg       0.79      0.80      0.79      5097\n",
      "    weighted avg       0.78      0.78      0.78      5097\n",
      "\n",
      "initial_model2 - Test set | Test accuracy\n",
      "                  precision    recall  f1-score   support\n",
      "\n",
      "    MildDemented       0.76      0.83      0.80      1361\n",
      "ModerateDemented       0.92      0.97      0.94       929\n",
      "     NonDemented       0.77      0.76      0.77      1428\n",
      "VeryMildDemented       0.73      0.64      0.68      1381\n",
      "\n",
      "        accuracy                           0.79      5099\n",
      "       macro avg       0.80      0.80      0.80      5099\n",
      "    weighted avg       0.78      0.79      0.78      5099\n",
      "\n"
     ]
    }
   ],
   "source": [
    "true_labels0, predictions0 = evaluate_model(initial_model2, val_loader)\n",
    "print('initial_model2 - Val set | VSCA')\n",
    "print(classification_report(true_labels0, predictions0, target_names=['MildDemented', 'ModerateDemented', 'NonDemented', 'VeryMildDemented'], zero_division=0))\n",
    "\n",
    "true_labels0, predictions0 = evaluate_model(initial_model2, test_loader)\n",
    "print('initial_model2 - Test set | Test accuracy')\n",
    "print(classification_report(true_labels0, predictions0, target_names=['MildDemented', 'ModerateDemented', 'NonDemented', 'VeryMildDemented'], zero_division=0))"
   ]
  },
  {
   "cell_type": "code",
   "execution_count": 124,
   "id": "df245178",
   "metadata": {},
   "outputs": [
    {
     "name": "stdout",
     "output_type": "stream",
     "text": [
      "Initial Ensemble Model - Val set | VSCA\n",
      "                  precision    recall  f1-score   support\n",
      "\n",
      "    MildDemented       0.99      0.78      0.87      1356\n",
      "ModerateDemented       0.83      1.00      0.91       961\n",
      "     NonDemented       0.85      0.93      0.89      1439\n",
      "VeryMildDemented       0.83      0.80      0.82      1341\n",
      "\n",
      "        accuracy                           0.87      5097\n",
      "       macro avg       0.87      0.88      0.87      5097\n",
      "    weighted avg       0.88      0.87      0.87      5097\n",
      "\n"
     ]
    }
   ],
   "source": [
    "# Evaluate the model\n",
    "true_labels, predictions = evaluate_model(initial_ensemble, val_loader)\n",
    "\n",
    "# Print classification report\n",
    "print('Initial Ensemble Model - Val set | VSCA')\n",
    "print(classification_report(true_labels, predictions, target_names=['MildDemented', 'ModerateDemented', 'NonDemented', 'VeryMildDemented'], zero_division=0))"
   ]
  },
  {
   "cell_type": "code",
   "execution_count": 62,
   "id": "9e01ff21",
   "metadata": {},
   "outputs": [
    {
     "name": "stdout",
     "output_type": "stream",
     "text": [
      "Initial Ensemble Model - Test set | Test Accuracy\n",
      "                  precision    recall  f1-score   support\n",
      "\n",
      "    MildDemented       0.98      0.79      0.88      1317\n",
      "ModerateDemented       0.83      1.00      0.91       963\n",
      "     NonDemented       0.84      0.93      0.88      1440\n",
      "VeryMildDemented       0.84      0.80      0.82      1379\n",
      "\n",
      "        accuracy                           0.87      5099\n",
      "       macro avg       0.88      0.88      0.87      5099\n",
      "    weighted avg       0.88      0.87      0.87      5099\n",
      "\n"
     ]
    }
   ],
   "source": [
    "# Evaluate the model\n",
    "true_labels0, predictions0 = evaluate_model(initial_ensemble, test_loader)\n",
    "\n",
    "# Print classification report\n",
    "print('Initial Ensemble Model - Test set | Test Accuracy')\n",
    "print(classification_report(true_labels0, predictions0, target_names=['MildDemented', 'ModerateDemented', 'NonDemented', 'VeryMildDemented'], zero_division=0))"
   ]
  },
  {
   "cell_type": "code",
   "execution_count": 63,
   "id": "30e51e2a",
   "metadata": {},
   "outputs": [
    {
     "name": "stdout",
     "output_type": "stream",
     "text": [
      "Matthews Correlation Coefficient (MCC): 0.8291871583757809\n",
      "Cohen's Kappa Coefficient: 0.8264214910614849\n"
     ]
    }
   ],
   "source": [
    "# Calculate Matthews Correlation Coefficient\n",
    "mcc = matthews_corrcoef(true_labels0, predictions0)\n",
    "\n",
    "print(\"Matthews Correlation Coefficient (MCC):\", mcc)\n",
    "\n",
    "# Calculate Cohen's Kappa Coefficient\n",
    "kappa = cohen_kappa_score(true_labels0, predictions0)\n",
    "\n",
    "print(\"Cohen's Kappa Coefficient:\", kappa)"
   ]
  },
  {
   "cell_type": "code",
   "execution_count": 14,
   "id": "c442a6b7",
   "metadata": {},
   "outputs": [
    {
     "data": {
      "image/png": "[encoded data removed]",
      "text/plain": [
       "<Figure size 720x576 with 2 Axes>"
      ]
     },
     "metadata": {
      "needs_background": "light"
     },
     "output_type": "display_data"
    }
   ],
   "source": [
    "# Confusion Matrix on Val Loader\n",
    "\n",
    "def get_predictions(model, dataloader):\n",
    "    model.eval()  \n",
    "    true_labels = []\n",
    "    predictions = []\n",
    "\n",
    "    with torch.no_grad():\n",
    "        for inputs, labels in dataloader:\n",
    "            inputs, labels = inputs.to(device), labels.to(device)\n",
    "            outputs = model(inputs)\n",
    "            _, preds = torch.max(outputs, 1)\n",
    "\n",
    "            true_labels.extend(labels.cpu().numpy())\n",
    "            predictions.extend(preds.cpu().numpy())\n",
    "\n",
    "    return true_labels, predictions\n",
    "\n",
    "# Evaluate the model\n",
    "true_labels, predictions = get_predictions(initial_ensemble, test_loader)\n",
    "\n",
    "# Compute the confusion matrix\n",
    "cm = confusion_matrix(true_labels, predictions)\n",
    "class_names = ['MildDemented', 'ModerateDemented', 'NonDemented', 'VeryMildDemented']\n",
    "\n",
    "# Plot the confusion matrix\n",
    "plt.figure(figsize=(10, 8))\n",
    "sns.heatmap(cm, annot=True, fmt='d', cmap='Blues', xticklabels=class_names, yticklabels=class_names)\n",
    "plt.title('Confusion Matrix (Test data)')\n",
    "plt.ylabel('True Label')\n",
    "plt.xlabel('Predicted Label')\n",
    "plt.show()"
   ]
  },
  {
   "cell_type": "markdown",
   "id": "ca51282c",
   "metadata": {},
   "source": [
    "### Ensemble formation 1 : Model1_Test2 + Model_2_Test1"
   ]
  },
  {
   "cell_type": "code",
   "execution_count": 15,
   "id": "2846ab8e",
   "metadata": {},
   "outputs": [
    {
     "name": "stderr",
     "output_type": "stream",
     "text": [
      "/Users/savin/opt/anaconda3/lib/python3.9/site-packages/torchvision/models/_utils.py:208: UserWarning: The parameter 'pretrained' is deprecated since 0.13 and may be removed in the future, please use 'weights' instead.\n",
      "  warnings.warn(\n",
      "/Users/savin/opt/anaconda3/lib/python3.9/site-packages/torchvision/models/_utils.py:223: UserWarning: Arguments other than a weight enum or `None` for 'weights' are deprecated since 0.13 and may be removed in the future. The current behavior is equivalent to passing `weights=EfficientNet_B0_Weights.IMAGENET1K_V1`. You can also use `weights=EfficientNet_B0_Weights.DEFAULT` to get the most up-to-date weights.\n",
      "  warnings.warn(msg)\n"
     ]
    },
    {
     "data": {
      "text/plain": [
       "<All keys matched successfully>"
      ]
     },
     "execution_count": 15,
     "metadata": {},
     "output_type": "execute_result"
    }
   ],
   "source": [
    "model1_test2 = CNN1(num_classes=4)\n",
    "model1_test2.load_state_dict(torch.load(\"/Users/savin/Desktop/FYP/final_chapters/Model_Testing/model1_test2.pth\"))\n",
    "\n",
    "model2_test1 = CNN2(num_classes=4)\n",
    "model2_test1.load_state_dict(torch.load(\"/Users/savin/Desktop/FYP/final_chapters/Model_Testing/model2_test1.pth\"))"
   ]
  },
  {
   "cell_type": "code",
   "execution_count": 16,
   "id": "e8cc2fab",
   "metadata": {},
   "outputs": [],
   "source": [
    "model1_test2.eval()\n",
    "model2_test1.eval()\n",
    "\n",
    "ensemble_model1 = VotingEnsemble(model1_test2, model2_test1).to(device)"
   ]
  },
  {
   "cell_type": "code",
   "execution_count": 17,
   "id": "8bd80720",
   "metadata": {},
   "outputs": [],
   "source": [
    "def evaluate_model(model, dataloader):\n",
    "    model.eval() \n",
    "    true_labels = []\n",
    "    predictions = []\n",
    "\n",
    "    with torch.no_grad():\n",
    "        for inputs, labels in dataloader:\n",
    "            inputs, labels = inputs.to(device), labels.to(device)\n",
    "\n",
    "            outputs = model(inputs)\n",
    "            _, preds = torch.max(outputs, 1)\n",
    "\n",
    "            true_labels.extend(labels.cpu().numpy())\n",
    "            predictions.extend(preds.cpu().numpy())\n",
    "\n",
    "    return true_labels, predictions"
   ]
  },
  {
   "cell_type": "code",
   "execution_count": 84,
   "id": "b984b7c5",
   "metadata": {},
   "outputs": [
    {
     "name": "stdout",
     "output_type": "stream",
     "text": [
      "Model1_Test2 - Val set | VSCA\n",
      "                  precision    recall  f1-score   support\n",
      "\n",
      "    MildDemented       0.99      0.99      0.99      1356\n",
      "ModerateDemented       1.00      1.00      1.00       961\n",
      "     NonDemented       0.99      0.99      0.99      1439\n",
      "VeryMildDemented       0.98      0.99      0.98      1341\n",
      "\n",
      "        accuracy                           0.99      5097\n",
      "       macro avg       0.99      0.99      0.99      5097\n",
      "    weighted avg       0.99      0.99      0.99      5097\n",
      "\n",
      "Model1_Test2 - Test set | Test accuracy\n",
      "                  precision    recall  f1-score   support\n",
      "\n",
      "    MildDemented       0.99      0.99      0.99      1361\n",
      "ModerateDemented       1.00      1.00      1.00       929\n",
      "     NonDemented       0.98      0.99      0.99      1428\n",
      "VeryMildDemented       0.99      0.98      0.98      1381\n",
      "\n",
      "        accuracy                           0.99      5099\n",
      "       macro avg       0.99      0.99      0.99      5099\n",
      "    weighted avg       0.99      0.99      0.99      5099\n",
      "\n"
     ]
    }
   ],
   "source": [
    "true_labels1, predictions1 = evaluate_model(model1_test2, val_loader)\n",
    "print('Model1_Test2 - Val set | VSCA')\n",
    "print(classification_report(true_labels1, predictions1, target_names=['MildDemented', 'ModerateDemented', 'NonDemented', 'VeryMildDemented'], zero_division=0))\n",
    "\n",
    "true_labels1, predictions1 = evaluate_model(model1_test2, test_loader)\n",
    "print('Model1_Test2 - Test set | Test accuracy')\n",
    "print(classification_report(true_labels1, predictions1, target_names=['MildDemented', 'ModerateDemented', 'NonDemented', 'VeryMildDemented'], zero_division=0))"
   ]
  },
  {
   "cell_type": "code",
   "execution_count": 85,
   "id": "33dcacee",
   "metadata": {},
   "outputs": [
    {
     "name": "stdout",
     "output_type": "stream",
     "text": [
      "model2_test1 - Val set | VSCA\n",
      "                  precision    recall  f1-score   support\n",
      "\n",
      "    MildDemented       0.85      0.90      0.87      1356\n",
      "ModerateDemented       0.97      0.98      0.98       961\n",
      "     NonDemented       0.85      0.86      0.86      1439\n",
      "VeryMildDemented       0.84      0.77      0.80      1341\n",
      "\n",
      "        accuracy                           0.87      5097\n",
      "       macro avg       0.88      0.88      0.88      5097\n",
      "    weighted avg       0.87      0.87      0.87      5097\n",
      "\n",
      "model2_test1 - Test set | Test accuracy\n",
      "                  precision    recall  f1-score   support\n",
      "\n",
      "    MildDemented       0.85      0.90      0.87      1361\n",
      "ModerateDemented       0.97      0.98      0.98       929\n",
      "     NonDemented       0.86      0.86      0.86      1428\n",
      "VeryMildDemented       0.83      0.78      0.80      1381\n",
      "\n",
      "        accuracy                           0.87      5099\n",
      "       macro avg       0.88      0.88      0.88      5099\n",
      "    weighted avg       0.87      0.87      0.87      5099\n",
      "\n"
     ]
    }
   ],
   "source": [
    "true_labels1, predictions1 = evaluate_model(model2_test1, val_loader)\n",
    "print('model2_test1 - Val set | VSCA')\n",
    "print(classification_report(true_labels1, predictions1, target_names=['MildDemented', 'ModerateDemented', 'NonDemented', 'VeryMildDemented'], zero_division=0))\n",
    "\n",
    "true_labels1, predictions1 = evaluate_model(model2_test1, test_loader)\n",
    "print('model2_test1 - Test set | Test accuracy')\n",
    "print(classification_report(true_labels1, predictions1, target_names=['MildDemented', 'ModerateDemented', 'NonDemented', 'VeryMildDemented'], zero_division=0))"
   ]
  },
  {
   "cell_type": "code",
   "execution_count": 57,
   "id": "8facdfca",
   "metadata": {},
   "outputs": [
    {
     "name": "stdout",
     "output_type": "stream",
     "text": [
      "                  precision    recall  f1-score   support\n",
      "\n",
      "    MildDemented       0.99      1.00      1.00      1356\n",
      "ModerateDemented       1.00      1.00      1.00       961\n",
      "     NonDemented       0.99      0.99      0.99      1439\n",
      "VeryMildDemented       0.99      0.99      0.99      1341\n",
      "\n",
      "        accuracy                           0.99      5097\n",
      "       macro avg       0.99      0.99      0.99      5097\n",
      "    weighted avg       0.99      0.99      0.99      5097\n",
      "\n"
     ]
    },
    {
     "data": {
      "image/png": "[encoded data removed]",
      "text/plain": [
       "<Figure size 432x288 with 1 Axes>"
      ]
     },
     "metadata": {
      "needs_background": "light"
     },
     "output_type": "display_data"
    }
   ],
   "source": [
    "# Evaluate the model\n",
    "true_labels, predictions = evaluate_model(ensemble_model1, val_loader)\n",
    "\n",
    "# Print classification report\n",
    "plt.title('Classification report - Val set | VSCA')\n",
    "print(classification_report(true_labels, predictions, target_names=['MildDemented', 'ModerateDemented', 'NonDemented', 'VeryMildDemented'], zero_division=0))"
   ]
  },
  {
   "cell_type": "code",
   "execution_count": 58,
   "id": "2ea5e7b7",
   "metadata": {},
   "outputs": [
    {
     "name": "stdout",
     "output_type": "stream",
     "text": [
      "                  precision    recall  f1-score   support\n",
      "\n",
      "    MildDemented       0.99      0.99      0.99      1361\n",
      "ModerateDemented       1.00      1.00      1.00       929\n",
      "     NonDemented       0.98      0.99      0.99      1428\n",
      "VeryMildDemented       0.99      0.99      0.99      1381\n",
      "\n",
      "        accuracy                           0.99      5099\n",
      "       macro avg       0.99      0.99      0.99      5099\n",
      "    weighted avg       0.99      0.99      0.99      5099\n",
      "\n"
     ]
    },
    {
     "data": {
      "image/png": "[encoded data removed]",
      "text/plain": [
       "<Figure size 432x288 with 1 Axes>"
      ]
     },
     "metadata": {
      "needs_background": "light"
     },
     "output_type": "display_data"
    }
   ],
   "source": [
    "true_labels, predictions = evaluate_model(ensemble_model1, test_loader)\n",
    "\n",
    "# Print classification report\n",
    "plt.title('Classification report - Test set | Test Accuracy')\n",
    "print(classification_report(true_labels, predictions, target_names=['MildDemented', 'ModerateDemented', 'NonDemented', 'VeryMildDemented'], zero_division=0))"
   ]
  },
  {
   "cell_type": "code",
   "execution_count": 57,
   "id": "fb0740a5",
   "metadata": {},
   "outputs": [
    {
     "data": {
      "image/png": "[encoded data removed]",
      "text/plain": [
       "<Figure size 720x576 with 2 Axes>"
      ]
     },
     "metadata": {
      "needs_background": "light"
     },
     "output_type": "display_data"
    }
   ],
   "source": [
    "# Confusion Matrix on Val Loader\n",
    "\n",
    "def get_predictions(model, dataloader):\n",
    "    model.eval()  \n",
    "    true_labels = []\n",
    "    predictions = []\n",
    "\n",
    "    with torch.no_grad():\n",
    "        for inputs, labels in dataloader:\n",
    "            inputs, labels = inputs.to(device), labels.to(device)\n",
    "            outputs = model(inputs)\n",
    "            _, preds = torch.max(outputs, 1)\n",
    "\n",
    "            true_labels.extend(labels.cpu().numpy())\n",
    "            predictions.extend(preds.cpu().numpy())\n",
    "\n",
    "    return true_labels, predictions\n",
    "\n",
    "# Evaluate the model\n",
    "true_labels1, predictions1 = get_predictions(ensemble_model1, test_loader)\n",
    "\n",
    "# Compute the confusion matrix\n",
    "cm = confusion_matrix(true_labels1, predictions1)\n",
    "\n",
    "class_names = ['MildDemented', 'ModerateDemented', 'NonDemented', 'VeryMildDemented']\n",
    "\n",
    "# Plot the confusion matrix\n",
    "plt.figure(figsize=(10, 8))\n",
    "sns.heatmap(cm, annot=True, fmt='d', cmap='Blues', xticklabels=class_names, yticklabels=class_names)\n",
    "plt.title('Confusion Matrix (Test data)')\n",
    "plt.ylabel('True Label')\n",
    "plt.xlabel('Predicted Label')\n",
    "plt.show()"
   ]
  },
  {
   "cell_type": "code",
   "execution_count": 58,
   "id": "86466071",
   "metadata": {},
   "outputs": [
    {
     "name": "stdout",
     "output_type": "stream",
     "text": [
      "Matthews Correlation Coefficient (MCC): 0.9910512196857119\n",
      "Cohen's Kappa Coefficient: 0.9910462545965376\n"
     ]
    }
   ],
   "source": [
    "# Calculate Matthews Correlation Coefficient\n",
    "mcc = matthews_corrcoef(true_labels1, predictions1)\n",
    "\n",
    "print(\"Matthews Correlation Coefficient (MCC):\", mcc)\n",
    "\n",
    "# Calculate Cohen's Kappa Coefficient\n",
    "kappa = cohen_kappa_score(true_labels1, predictions1)\n",
    "\n",
    "print(\"Cohen's Kappa Coefficient:\", kappa)"
   ]
  },
  {
   "cell_type": "markdown",
   "id": "bcabc141",
   "metadata": {},
   "source": [
    "## 5-Fold Cross Validation for The Ensemble Model1 "
   ]
  },
  {
   "cell_type": "code",
   "execution_count": 135,
   "id": "c2661678",
   "metadata": {},
   "outputs": [
    {
     "name": "stdout",
     "output_type": "stream",
     "text": [
      "Fold 1/5\n"
     ]
    },
    {
     "data": {
      "image/png": "[encoded data removed]",
      "text/plain": [
       "<Figure size 720x576 with 2 Axes>"
      ]
     },
     "metadata": {
      "needs_background": "light"
     },
     "output_type": "display_data"
    },
    {
     "name": "stdout",
     "output_type": "stream",
     "text": [
      "Fold 2/5\n"
     ]
    },
    {
     "name": "stderr",
     "output_type": "stream",
     "text": [
      "/Users/savin/opt/anaconda3/lib/python3.9/site-packages/torchvision/models/_utils.py:208: UserWarning: The parameter 'pretrained' is deprecated since 0.13 and may be removed in the future, please use 'weights' instead.\n",
      "  warnings.warn(\n",
      "/Users/savin/opt/anaconda3/lib/python3.9/site-packages/torchvision/models/_utils.py:223: UserWarning: Arguments other than a weight enum or `None` for 'weights' are deprecated since 0.13 and may be removed in the future. The current behavior is equivalent to passing `weights=EfficientNet_B0_Weights.IMAGENET1K_V1`. You can also use `weights=EfficientNet_B0_Weights.DEFAULT` to get the most up-to-date weights.\n",
      "  warnings.warn(msg)\n"
     ]
    },
    {
     "data": {
      "image/png": "[encoded data removed]",
      "text/plain": [
       "<Figure size 720x576 with 2 Axes>"
      ]
     },
     "metadata": {
      "needs_background": "light"
     },
     "output_type": "display_data"
    },
    {
     "name": "stdout",
     "output_type": "stream",
     "text": [
      "Fold 3/5\n"
     ]
    },
    {
     "name": "stderr",
     "output_type": "stream",
     "text": [
      "/Users/savin/opt/anaconda3/lib/python3.9/site-packages/torchvision/models/_utils.py:208: UserWarning: The parameter 'pretrained' is deprecated since 0.13 and may be removed in the future, please use 'weights' instead.\n",
      "  warnings.warn(\n",
      "/Users/savin/opt/anaconda3/lib/python3.9/site-packages/torchvision/models/_utils.py:223: UserWarning: Arguments other than a weight enum or `None` for 'weights' are deprecated since 0.13 and may be removed in the future. The current behavior is equivalent to passing `weights=EfficientNet_B0_Weights.IMAGENET1K_V1`. You can also use `weights=EfficientNet_B0_Weights.DEFAULT` to get the most up-to-date weights.\n",
      "  warnings.warn(msg)\n"
     ]
    },
    {
     "data": {
      "image/png": "[encoded data removed]",
      "text/plain": [
       "<Figure size 720x576 with 2 Axes>"
      ]
     },
     "metadata": {
      "needs_background": "light"
     },
     "output_type": "display_data"
    },
    {
     "name": "stdout",
     "output_type": "stream",
     "text": [
      "Fold 4/5\n"
     ]
    },
    {
     "name": "stderr",
     "output_type": "stream",
     "text": [
      "/Users/savin/opt/anaconda3/lib/python3.9/site-packages/torchvision/models/_utils.py:208: UserWarning: The parameter 'pretrained' is deprecated since 0.13 and may be removed in the future, please use 'weights' instead.\n",
      "  warnings.warn(\n",
      "/Users/savin/opt/anaconda3/lib/python3.9/site-packages/torchvision/models/_utils.py:223: UserWarning: Arguments other than a weight enum or `None` for 'weights' are deprecated since 0.13 and may be removed in the future. The current behavior is equivalent to passing `weights=EfficientNet_B0_Weights.IMAGENET1K_V1`. You can also use `weights=EfficientNet_B0_Weights.DEFAULT` to get the most up-to-date weights.\n",
      "  warnings.warn(msg)\n"
     ]
    },
    {
     "data": {
      "image/png": "[encoded data removed]",
      "text/plain": [
       "<Figure size 720x576 with 2 Axes>"
      ]
     },
     "metadata": {
      "needs_background": "light"
     },
     "output_type": "display_data"
    },
    {
     "name": "stdout",
     "output_type": "stream",
     "text": [
      "Fold 5/5\n"
     ]
    },
    {
     "name": "stderr",
     "output_type": "stream",
     "text": [
      "/Users/savin/opt/anaconda3/lib/python3.9/site-packages/torchvision/models/_utils.py:208: UserWarning: The parameter 'pretrained' is deprecated since 0.13 and may be removed in the future, please use 'weights' instead.\n",
      "  warnings.warn(\n",
      "/Users/savin/opt/anaconda3/lib/python3.9/site-packages/torchvision/models/_utils.py:223: UserWarning: Arguments other than a weight enum or `None` for 'weights' are deprecated since 0.13 and may be removed in the future. The current behavior is equivalent to passing `weights=EfficientNet_B0_Weights.IMAGENET1K_V1`. You can also use `weights=EfficientNet_B0_Weights.DEFAULT` to get the most up-to-date weights.\n",
      "  warnings.warn(msg)\n"
     ]
    },
    {
     "data": {
      "image/png": "[encoded data removed]",
      "text/plain": [
       "<Figure size 720x576 with 2 Axes>"
      ]
     },
     "metadata": {
      "needs_background": "light"
     },
     "output_type": "display_data"
    }
   ],
   "source": [
    "k_folds = 5\n",
    "kf = KFold(n_splits=k_folds, shuffle=True, random_state=42)\n",
    "class_names = ['MildDemented', 'ModerateDemented', 'NonDemented', 'VeryMildDemented']\n",
    "\n",
    "for fold, (train_idx, val_idx) in enumerate(kf.split(preprocessed_dataset)):\n",
    "    print(f'Fold {fold+1}/{k_folds}')\n",
    "    \n",
    "    val_subset = Subset(preprocessed_dataset, val_idx)\n",
    "    \n",
    "    model1_test2 = CNN1(num_classes=4)\n",
    "    model1_test2.load_state_dict(torch.load(\"/Users/savin/Desktop/FYP/final_chapters/Model_Testing/model1_test2.pth\"))\n",
    "\n",
    "    model2_test1 = CNN2(num_classes=4)\n",
    "    model2_test1.load_state_dict(torch.load(\"/Users/savin/Desktop/FYP/final_chapters/Model_Testing/model2_test1.pth\"))\n",
    "    \n",
    "    ensemble_model1 = VotingEnsemble(model2_test1, model2_test1)\n",
    "    ensemble_model1.eval()  # Set the model to evaluation mode\n",
    "    \n",
    "    val_loader = DataLoader(val_subset, batch_size=32, shuffle=False)\n",
    "    \n",
    "    true_labels, predictions = get_predictions(ensemble_model, val_loader)\n",
    "    \n",
    "    # Compute the confusion matrix\n",
    "    cm = confusion_matrix(true_labels, predictions)\n",
    "    cm_percentage = cm.astype('float') / cm.sum(axis=1)[:, np.newaxis] * 100\n",
    "    acc = accuracy_score(true_labels, predictions) * 100  # Calculate accuracy in percentage\n",
    "    \n",
    "    # Plot the confusion matrix\n",
    "    plt.figure(figsize=(10, 8))\n",
    "    sns.heatmap(cm_percentage, annot=True, fmt='.2f', cmap='Blues', xticklabels=class_names, yticklabels=class_names, cbar_kws={'label': 'Percentage (%)'})\n",
    "    plt.title(f'Confusion Matrix for Fold {fold+1} (Accuracy: {acc:.2f}%)')\n",
    "    plt.ylabel('True Label')\n",
    "    plt.xlabel('Predicted Label')\n",
    "    plt.show()\n"
   ]
  },
  {
   "cell_type": "markdown",
   "id": "dd9e3064",
   "metadata": {},
   "source": [
    "### Ensemble formation 2 : Model1_Test1 + Model_2_Test2"
   ]
  },
  {
   "cell_type": "code",
   "execution_count": 23,
   "id": "cc284c56",
   "metadata": {},
   "outputs": [
    {
     "data": {
      "text/plain": [
       "<All keys matched successfully>"
      ]
     },
     "execution_count": 23,
     "metadata": {},
     "output_type": "execute_result"
    }
   ],
   "source": [
    "model1_test1 = CNN1(num_classes=4)\n",
    "model1_test1.load_state_dict(torch.load(\"/Users/savin/Desktop/FYP/final_chapters/Model_Testing/model1_test1.pth\"))\n",
    "\n",
    "model2_test2 = CNN2(num_classes=4)\n",
    "model2_test2.load_state_dict(torch.load(\"/Users/savin/Desktop/FYP/final_chapters/Model_Testing/model2_test2.pth\"))"
   ]
  },
  {
   "cell_type": "code",
   "execution_count": 24,
   "id": "97335538",
   "metadata": {},
   "outputs": [],
   "source": [
    "model1_test1.eval()\n",
    "model2_test2.eval()\n",
    "\n",
    "ensemble_model2 = VotingEnsemble(model1_test1, model2_test2).to(device)"
   ]
  },
  {
   "cell_type": "code",
   "execution_count": 88,
   "id": "5f929806",
   "metadata": {},
   "outputs": [
    {
     "name": "stdout",
     "output_type": "stream",
     "text": [
      "model1_test1 - Val set | VSCA\n",
      "                  precision    recall  f1-score   support\n",
      "\n",
      "    MildDemented       0.99      0.97      0.98      1356\n",
      "ModerateDemented       1.00      1.00      1.00       961\n",
      "     NonDemented       0.90      1.00      0.94      1439\n",
      "VeryMildDemented       0.99      0.90      0.94      1341\n",
      "\n",
      "        accuracy                           0.96      5097\n",
      "       macro avg       0.97      0.97      0.97      5097\n",
      "    weighted avg       0.97      0.96      0.96      5097\n",
      "\n",
      "model1_test1 - Test set | Test accuracy\n",
      "                  precision    recall  f1-score   support\n",
      "\n",
      "    MildDemented       0.99      0.97      0.98      1361\n",
      "ModerateDemented       1.00      1.00      1.00       929\n",
      "     NonDemented       0.89      0.99      0.94      1428\n",
      "VeryMildDemented       0.99      0.89      0.94      1381\n",
      "\n",
      "        accuracy                           0.96      5099\n",
      "       macro avg       0.97      0.96      0.96      5099\n",
      "    weighted avg       0.96      0.96      0.96      5099\n",
      "\n"
     ]
    }
   ],
   "source": [
    "true_labels2, predictions2 = evaluate_model(model1_test1, val_loader)\n",
    "print('model1_test1 - Val set | VSCA')\n",
    "print(classification_report(true_labels2, predictions2, target_names=['MildDemented', 'ModerateDemented', 'NonDemented', 'VeryMildDemented'], zero_division=0))\n",
    "\n",
    "true_labels2, predictions2 = evaluate_model(model1_test1, test_loader)\n",
    "print('model1_test1 - Test set | Test accuracy')\n",
    "print(classification_report(true_labels2, predictions2, target_names=['MildDemented', 'ModerateDemented', 'NonDemented', 'VeryMildDemented'], zero_division=0))"
   ]
  },
  {
   "cell_type": "code",
   "execution_count": 89,
   "id": "c50527e1",
   "metadata": {},
   "outputs": [
    {
     "name": "stdout",
     "output_type": "stream",
     "text": [
      "model2_test2 - Val set | VSCA\n",
      "                  precision    recall  f1-score   support\n",
      "\n",
      "    MildDemented       0.78      0.83      0.81      1356\n",
      "ModerateDemented       0.93      0.96      0.95       961\n",
      "     NonDemented       0.83      0.65      0.73      1439\n",
      "VeryMildDemented       0.66      0.76      0.71      1341\n",
      "\n",
      "        accuracy                           0.79      5097\n",
      "       macro avg       0.80      0.80      0.80      5097\n",
      "    weighted avg       0.79      0.79      0.79      5097\n",
      "\n",
      "model2_test2 - Test set | Test accuracy\n",
      "                  precision    recall  f1-score   support\n",
      "\n",
      "    MildDemented       0.80      0.81      0.80      1361\n",
      "ModerateDemented       0.93      0.97      0.95       929\n",
      "     NonDemented       0.85      0.64      0.73      1428\n",
      "VeryMildDemented       0.63      0.76      0.69      1381\n",
      "\n",
      "        accuracy                           0.78      5099\n",
      "       macro avg       0.80      0.80      0.79      5099\n",
      "    weighted avg       0.79      0.78      0.78      5099\n",
      "\n"
     ]
    }
   ],
   "source": [
    "true_labels2, predictions2 = evaluate_model(model2_test2, val_loader)\n",
    "print('model2_test2 - Val set | VSCA')\n",
    "print(classification_report(true_labels2, predictions2, target_names=['MildDemented', 'ModerateDemented', 'NonDemented', 'VeryMildDemented'], zero_division=0))\n",
    "\n",
    "true_labels2, predictions2 = evaluate_model(model2_test2, test_loader)\n",
    "print('model2_test2 - Test set | Test accuracy')\n",
    "print(classification_report(true_labels2, predictions2, target_names=['MildDemented', 'ModerateDemented', 'NonDemented', 'VeryMildDemented'], zero_division=0))"
   ]
  },
  {
   "cell_type": "code",
   "execution_count": 61,
   "id": "d51731cc",
   "metadata": {},
   "outputs": [
    {
     "name": "stdout",
     "output_type": "stream",
     "text": [
      "                  precision    recall  f1-score   support\n",
      "\n",
      "    MildDemented       0.99      0.98      0.99      1356\n",
      "ModerateDemented       1.00      1.00      1.00       961\n",
      "     NonDemented       0.93      1.00      0.96      1439\n",
      "VeryMildDemented       0.99      0.92      0.96      1341\n",
      "\n",
      "        accuracy                           0.97      5097\n",
      "       macro avg       0.98      0.98      0.98      5097\n",
      "    weighted avg       0.98      0.97      0.97      5097\n",
      "\n"
     ]
    },
    {
     "data": {
      "image/png": "[encoded data removed]",
      "text/plain": [
       "<Figure size 432x288 with 1 Axes>"
      ]
     },
     "metadata": {
      "needs_background": "light"
     },
     "output_type": "display_data"
    }
   ],
   "source": [
    "true_labels, predictions = evaluate_model(ensemble_model2, val_loader)\n",
    "\n",
    "# Print classification report\n",
    "plt.title('Classification report - Val set | VSCA')\n",
    "print(classification_report(true_labels, predictions, target_names=['MildDemented', 'ModerateDemented', 'NonDemented', 'VeryMildDemented'], zero_division=0))"
   ]
  },
  {
   "cell_type": "code",
   "execution_count": 62,
   "id": "18254ca3",
   "metadata": {},
   "outputs": [
    {
     "name": "stdout",
     "output_type": "stream",
     "text": [
      "                  precision    recall  f1-score   support\n",
      "\n",
      "    MildDemented       0.99      0.98      0.99      1361\n",
      "ModerateDemented       0.99      1.00      1.00       929\n",
      "     NonDemented       0.92      1.00      0.95      1428\n",
      "VeryMildDemented       0.99      0.91      0.95      1381\n",
      "\n",
      "        accuracy                           0.97      5099\n",
      "       macro avg       0.97      0.97      0.97      5099\n",
      "    weighted avg       0.97      0.97      0.97      5099\n",
      "\n"
     ]
    },
    {
     "data": {
      "image/png": "[encoded data removed]",
      "text/plain": [
       "<Figure size 432x288 with 1 Axes>"
      ]
     },
     "metadata": {
      "needs_background": "light"
     },
     "output_type": "display_data"
    }
   ],
   "source": [
    "true_labels, predictions = evaluate_model(ensemble_model2, test_loader)\n",
    "\n",
    "# Print classification report\n",
    "plt.title('Classification report - Val set | Test Accuracy')\n",
    "print(classification_report(true_labels, predictions, target_names=['MildDemented', 'ModerateDemented', 'NonDemented', 'VeryMildDemented'], zero_division=0))"
   ]
  },
  {
   "cell_type": "code",
   "execution_count": 45,
   "id": "10f5528c",
   "metadata": {},
   "outputs": [
    {
     "data": {
      "image/png": "[encoded data removed]",
      "text/plain": [
       "<Figure size 720x576 with 2 Axes>"
      ]
     },
     "metadata": {
      "needs_background": "light"
     },
     "output_type": "display_data"
    }
   ],
   "source": [
    "true_labels2, predictions2 = get_predictions(ensemble_model2, test_loader)\n",
    "\n",
    "# Compute the confusion matrix\n",
    "cm = confusion_matrix(true_labels2, predictions2)\n",
    "\n",
    "class_names = ['MildDemented', 'ModerateDemented', 'NonDemented', 'VeryMildDemented']\n",
    "\n",
    "# Plot the confusion matrix\n",
    "plt.figure(figsize=(10, 8))\n",
    "sns.heatmap(cm, annot=True, fmt='d', cmap='Blues', xticklabels=class_names, yticklabels=class_names)\n",
    "plt.title('Confusion Matrix (Test data)')\n",
    "plt.ylabel('True Label')\n",
    "plt.xlabel('Predicted Label')\n",
    "plt.show()"
   ]
  },
  {
   "cell_type": "code",
   "execution_count": 46,
   "id": "b590af7f",
   "metadata": {},
   "outputs": [
    {
     "name": "stdout",
     "output_type": "stream",
     "text": [
      "Matthews Correlation Coefficient (MCC): 0.9637392963959648\n",
      "Cohen's Kappa Coefficient: 0.9631185487102936\n"
     ]
    }
   ],
   "source": [
    "# Calculate Matthews Correlation Coefficient\n",
    "mcc = matthews_corrcoef(true_labels2, predictions2)\n",
    "\n",
    "print(\"Matthews Correlation Coefficient (MCC):\", mcc)\n",
    "\n",
    "# Calculate Cohen's Kappa Coefficient\n",
    "kappa = cohen_kappa_score(true_labels2, predictions2)\n",
    "\n",
    "print(\"Cohen's Kappa Coefficient:\", kappa)"
   ]
  },
  {
   "cell_type": "markdown",
   "id": "beec259b",
   "metadata": {},
   "source": [
    "### Ensemble formation 3 : Model1_Test3 + Model_2_Test3"
   ]
  },
  {
   "cell_type": "code",
   "execution_count": 26,
   "id": "62743b39",
   "metadata": {},
   "outputs": [
    {
     "name": "stderr",
     "output_type": "stream",
     "text": [
      "/Users/savin/opt/anaconda3/lib/python3.9/site-packages/torchvision/models/_utils.py:208: UserWarning: The parameter 'pretrained' is deprecated since 0.13 and may be removed in the future, please use 'weights' instead.\n",
      "  warnings.warn(\n",
      "/Users/savin/opt/anaconda3/lib/python3.9/site-packages/torchvision/models/_utils.py:223: UserWarning: Arguments other than a weight enum or `None` for 'weights' are deprecated since 0.13 and may be removed in the future. The current behavior is equivalent to passing `weights=EfficientNet_B0_Weights.IMAGENET1K_V1`. You can also use `weights=EfficientNet_B0_Weights.DEFAULT` to get the most up-to-date weights.\n",
      "  warnings.warn(msg)\n"
     ]
    },
    {
     "data": {
      "text/plain": [
       "<All keys matched successfully>"
      ]
     },
     "execution_count": 26,
     "metadata": {},
     "output_type": "execute_result"
    }
   ],
   "source": [
    "model1_test3 = CNN1(num_classes=4)\n",
    "model1_test3.load_state_dict(torch.load(\"/Users/savin/Desktop/FYP/final_chapters/Model_Testing/model1_test3.pth\"))\n",
    "\n",
    "model2_test3 = CNN2(num_classes=4)\n",
    "model2_test3.load_state_dict(torch.load(\"/Users/savin/Desktop/FYP/final_chapters/Model_Testing/model2_test3.pth\"))"
   ]
  },
  {
   "cell_type": "code",
   "execution_count": 27,
   "id": "d799212b",
   "metadata": {},
   "outputs": [],
   "source": [
    "model1_test3.eval()\n",
    "model2_test3.eval()\n",
    "\n",
    "ensemble_model3 = VotingEnsemble(model1_test3, model2_test3).to(device)"
   ]
  },
  {
   "cell_type": "code",
   "execution_count": 92,
   "id": "652be13f",
   "metadata": {},
   "outputs": [
    {
     "name": "stdout",
     "output_type": "stream",
     "text": [
      "model1_test3 - Val set | VSCA\n",
      "                  precision    recall  f1-score   support\n",
      "\n",
      "    MildDemented       0.99      0.99      0.99      1356\n",
      "ModerateDemented       1.00      1.00      1.00       961\n",
      "     NonDemented       0.97      0.99      0.98      1439\n",
      "VeryMildDemented       0.99      0.96      0.97      1341\n",
      "\n",
      "        accuracy                           0.98      5097\n",
      "       macro avg       0.99      0.98      0.99      5097\n",
      "    weighted avg       0.98      0.98      0.98      5097\n",
      "\n",
      "model1_test3 - Test set | Test accuracy\n",
      "                  precision    recall  f1-score   support\n",
      "\n",
      "    MildDemented       0.99      0.99      0.99      1361\n",
      "ModerateDemented       1.00      1.00      1.00       929\n",
      "     NonDemented       0.96      0.99      0.98      1428\n",
      "VeryMildDemented       0.99      0.96      0.97      1381\n",
      "\n",
      "        accuracy                           0.98      5099\n",
      "       macro avg       0.98      0.98      0.98      5099\n",
      "    weighted avg       0.98      0.98      0.98      5099\n",
      "\n"
     ]
    }
   ],
   "source": [
    "true_labels3, predictions3 = evaluate_model(model1_test3, val_loader)\n",
    "print('model1_test3 - Val set | VSCA')\n",
    "print(classification_report(true_labels3, predictions3, target_names=['MildDemented', 'ModerateDemented', 'NonDemented', 'VeryMildDemented'], zero_division=0))\n",
    "\n",
    "true_labels3, predictions3 = evaluate_model(model1_test3, test_loader)\n",
    "print('model1_test3 - Test set | Test accuracy')\n",
    "print(classification_report(true_labels3, predictions3, target_names=['MildDemented', 'ModerateDemented', 'NonDemented', 'VeryMildDemented'], zero_division=0))"
   ]
  },
  {
   "cell_type": "code",
   "execution_count": 93,
   "id": "cdede2e2",
   "metadata": {},
   "outputs": [
    {
     "name": "stdout",
     "output_type": "stream",
     "text": [
      "model2_test3 - Val set | VSCA\n",
      "                  precision    recall  f1-score   support\n",
      "\n",
      "    MildDemented       0.82      0.88      0.85      1356\n",
      "ModerateDemented       0.95      0.97      0.96       961\n",
      "     NonDemented       0.82      0.83      0.82      1439\n",
      "VeryMildDemented       0.81      0.71      0.76      1341\n",
      "\n",
      "        accuracy                           0.84      5097\n",
      "       macro avg       0.85      0.85      0.85      5097\n",
      "    weighted avg       0.84      0.84      0.84      5097\n",
      "\n",
      "model2_test3 - Test set | Test accuracy\n",
      "                  precision    recall  f1-score   support\n",
      "\n",
      "    MildDemented       0.81      0.86      0.83      1361\n",
      "ModerateDemented       0.95      0.96      0.96       929\n",
      "     NonDemented       0.79      0.83      0.81      1428\n",
      "VeryMildDemented       0.80      0.70      0.74      1381\n",
      "\n",
      "        accuracy                           0.83      5099\n",
      "       macro avg       0.84      0.84      0.84      5099\n",
      "    weighted avg       0.83      0.83      0.82      5099\n",
      "\n"
     ]
    }
   ],
   "source": [
    "true_labels3, predictions3 = evaluate_model(model2_test3, val_loader)\n",
    "print('model2_test3 - Val set | VSCA')\n",
    "print(classification_report(true_labels3, predictions3, target_names=['MildDemented', 'ModerateDemented', 'NonDemented', 'VeryMildDemented'], zero_division=0))\n",
    "\n",
    "true_labels3, predictions3 = evaluate_model(model2_test3, test_loader)\n",
    "print('model2_test3 - Test set | Test accuracy')\n",
    "print(classification_report(true_labels3, predictions3, target_names=['MildDemented', 'ModerateDemented', 'NonDemented', 'VeryMildDemented'], zero_division=0))"
   ]
  },
  {
   "cell_type": "code",
   "execution_count": 65,
   "id": "7cf4a582",
   "metadata": {},
   "outputs": [
    {
     "name": "stdout",
     "output_type": "stream",
     "text": [
      "                  precision    recall  f1-score   support\n",
      "\n",
      "    MildDemented       0.99      1.00      0.99      1356\n",
      "ModerateDemented       1.00      1.00      1.00       961\n",
      "     NonDemented       0.97      0.99      0.98      1439\n",
      "VeryMildDemented       0.99      0.96      0.98      1341\n",
      "\n",
      "        accuracy                           0.99      5097\n",
      "       macro avg       0.99      0.99      0.99      5097\n",
      "    weighted avg       0.99      0.99      0.99      5097\n",
      "\n"
     ]
    },
    {
     "data": {
      "image/png": "[encoded data removed]",
      "text/plain": [
       "<Figure size 432x288 with 1 Axes>"
      ]
     },
     "metadata": {
      "needs_background": "light"
     },
     "output_type": "display_data"
    }
   ],
   "source": [
    "true_labels, predictions = evaluate_model(ensemble_model3, val_loader)\n",
    "\n",
    "# Print classification report\n",
    "plt.title('Classification report - Val set | VSCA')\n",
    "print(classification_report(true_labels, predictions, target_names=['MildDemented', 'ModerateDemented', 'NonDemented', 'VeryMildDemented'], zero_division=0))"
   ]
  },
  {
   "cell_type": "code",
   "execution_count": 66,
   "id": "288bb312",
   "metadata": {},
   "outputs": [
    {
     "name": "stdout",
     "output_type": "stream",
     "text": [
      "                  precision    recall  f1-score   support\n",
      "\n",
      "    MildDemented       0.99      0.99      0.99      1361\n",
      "ModerateDemented       1.00      1.00      1.00       929\n",
      "     NonDemented       0.96      0.99      0.98      1428\n",
      "VeryMildDemented       0.99      0.96      0.97      1381\n",
      "\n",
      "        accuracy                           0.98      5099\n",
      "       macro avg       0.99      0.99      0.99      5099\n",
      "    weighted avg       0.98      0.98      0.98      5099\n",
      "\n"
     ]
    },
    {
     "data": {
      "image/png": "[encoded data removed]",
      "text/plain": [
       "<Figure size 432x288 with 1 Axes>"
      ]
     },
     "metadata": {
      "needs_background": "light"
     },
     "output_type": "display_data"
    }
   ],
   "source": [
    "true_labels, predictions = evaluate_model(ensemble_model3, test_loader)\n",
    "\n",
    "# Print classification report\n",
    "plt.title('Classification report - Test set | Test Accuracy')\n",
    "print(classification_report(true_labels, predictions, target_names=['MildDemented', 'ModerateDemented', 'NonDemented', 'VeryMildDemented'], zero_division=0))"
   ]
  },
  {
   "cell_type": "code",
   "execution_count": 47,
   "id": "eeddb7d8",
   "metadata": {},
   "outputs": [
    {
     "data": {
      "image/png": "[encoded data removed]",
      "text/plain": [
       "<Figure size 720x576 with 2 Axes>"
      ]
     },
     "metadata": {
      "needs_background": "light"
     },
     "output_type": "display_data"
    }
   ],
   "source": [
    "true_labels3, predictions3 = get_predictions(ensemble_model3, test_loader)\n",
    "\n",
    "# Compute the confusion matrix\n",
    "cm = confusion_matrix(true_labels3, predictions3)\n",
    "\n",
    "class_names = ['MildDemented', 'ModerateDemented', 'NonDemented', 'VeryMildDemented']\n",
    "\n",
    "# Plot the confusion matrix\n",
    "plt.figure(figsize=(10, 8))\n",
    "sns.heatmap(cm, annot=True, fmt='d', cmap='Blues', xticklabels=class_names, yticklabels=class_names)\n",
    "plt.title('Confusion Matrix (Test data)')\n",
    "plt.ylabel('True Label')\n",
    "plt.xlabel('Predicted Label')\n",
    "plt.show()"
   ]
  },
  {
   "cell_type": "code",
   "execution_count": 48,
   "id": "dce748b9",
   "metadata": {},
   "outputs": [
    {
     "name": "stdout",
     "output_type": "stream",
     "text": [
      "Matthews Correlation Coefficient (MCC): 0.9797676589460683\n",
      "Cohen's Kappa Coefficient: 0.9797219613013771\n"
     ]
    }
   ],
   "source": [
    "# Calculate Matthews Correlation Coefficient\n",
    "mcc = matthews_corrcoef(true_labels3, predictions3)\n",
    "\n",
    "print(\"Matthews Correlation Coefficient (MCC):\", mcc)\n",
    "\n",
    "# Calculate Cohen's Kappa Coefficient\n",
    "kappa = cohen_kappa_score(true_labels3, predictions3)\n",
    "\n",
    "print(\"Cohen's Kappa Coefficient:\", kappa)"
   ]
  },
  {
   "cell_type": "markdown",
   "id": "81a9e586",
   "metadata": {},
   "source": [
    "### Ensemble formation 4 : Model1_Test4 + Model_2_Test4"
   ]
  },
  {
   "cell_type": "code",
   "execution_count": 29,
   "id": "8ee496a7",
   "metadata": {},
   "outputs": [
    {
     "name": "stderr",
     "output_type": "stream",
     "text": [
      "/Users/savin/opt/anaconda3/lib/python3.9/site-packages/torchvision/models/_utils.py:208: UserWarning: The parameter 'pretrained' is deprecated since 0.13 and may be removed in the future, please use 'weights' instead.\n",
      "  warnings.warn(\n",
      "/Users/savin/opt/anaconda3/lib/python3.9/site-packages/torchvision/models/_utils.py:223: UserWarning: Arguments other than a weight enum or `None` for 'weights' are deprecated since 0.13 and may be removed in the future. The current behavior is equivalent to passing `weights=EfficientNet_B0_Weights.IMAGENET1K_V1`. You can also use `weights=EfficientNet_B0_Weights.DEFAULT` to get the most up-to-date weights.\n",
      "  warnings.warn(msg)\n"
     ]
    },
    {
     "data": {
      "text/plain": [
       "<All keys matched successfully>"
      ]
     },
     "execution_count": 29,
     "metadata": {},
     "output_type": "execute_result"
    }
   ],
   "source": [
    "model1_test4 = CNN1(num_classes=4)\n",
    "model1_test4.load_state_dict(torch.load(\"/Users/savin/Desktop/FYP/final_chapters/Model_Testing/model1_test4.pth\"))\n",
    "\n",
    "model2_test4 = CNN2(num_classes=4)\n",
    "model2_test4.load_state_dict(torch.load(\"/Users/savin/Desktop/FYP/final_chapters/Model_Testing/model2_test4.pth\"))"
   ]
  },
  {
   "cell_type": "code",
   "execution_count": 30,
   "id": "1bbb199d",
   "metadata": {},
   "outputs": [],
   "source": [
    "model1_test4.eval()\n",
    "model2_test4.eval()\n",
    "\n",
    "ensemble_model4 = VotingEnsemble(model1_test4, model2_test4).to(device)"
   ]
  },
  {
   "cell_type": "code",
   "execution_count": 96,
   "id": "0a946b93",
   "metadata": {},
   "outputs": [
    {
     "name": "stdout",
     "output_type": "stream",
     "text": [
      "model1_test4 - Val set | VSCA\n",
      "                  precision    recall  f1-score   support\n",
      "\n",
      "    MildDemented       0.99      0.99      0.99      1356\n",
      "ModerateDemented       1.00      1.00      1.00       961\n",
      "     NonDemented       0.99      0.97      0.98      1439\n",
      "VeryMildDemented       0.97      0.99      0.98      1341\n",
      "\n",
      "        accuracy                           0.99      5097\n",
      "       macro avg       0.99      0.99      0.99      5097\n",
      "    weighted avg       0.99      0.99      0.99      5097\n",
      "\n",
      "model1_test4 - Test set | Test accuracy\n",
      "                  precision    recall  f1-score   support\n",
      "\n",
      "    MildDemented       0.99      1.00      0.99      1361\n",
      "ModerateDemented       1.00      1.00      1.00       929\n",
      "     NonDemented       0.99      0.97      0.98      1428\n",
      "VeryMildDemented       0.97      0.99      0.98      1381\n",
      "\n",
      "        accuracy                           0.99      5099\n",
      "       macro avg       0.99      0.99      0.99      5099\n",
      "    weighted avg       0.99      0.99      0.99      5099\n",
      "\n"
     ]
    }
   ],
   "source": [
    "true_labels4, predictions4 = evaluate_model(model1_test4, val_loader)\n",
    "print('model1_test4 - Val set | VSCA')\n",
    "print(classification_report(true_labels4, predictions4, target_names=['MildDemented', 'ModerateDemented', 'NonDemented', 'VeryMildDemented'], zero_division=0))\n",
    "\n",
    "true_labels4, predictions4 = evaluate_model(model1_test4, test_loader)\n",
    "print('model1_test4 - Test set | Test accuracy')\n",
    "print(classification_report(true_labels4, predictions4, target_names=['MildDemented', 'ModerateDemented', 'NonDemented', 'VeryMildDemented'], zero_division=0))"
   ]
  },
  {
   "cell_type": "code",
   "execution_count": 97,
   "id": "2b0e5041",
   "metadata": {},
   "outputs": [
    {
     "name": "stdout",
     "output_type": "stream",
     "text": [
      "model2_test4 - Val set | VSCA\n",
      "                  precision    recall  f1-score   support\n",
      "\n",
      "    MildDemented       0.80      0.89      0.84      1356\n",
      "ModerateDemented       0.94      0.98      0.96       961\n",
      "     NonDemented       0.85      0.81      0.83      1439\n",
      "VeryMildDemented       0.80      0.73      0.76      1341\n",
      "\n",
      "        accuracy                           0.84      5097\n",
      "       macro avg       0.85      0.85      0.85      5097\n",
      "    weighted avg       0.84      0.84      0.84      5097\n",
      "\n",
      "model2_test4 - Test set | Test accuracy\n",
      "                  precision    recall  f1-score   support\n",
      "\n",
      "    MildDemented       0.80      0.88      0.84      1361\n",
      "ModerateDemented       0.92      0.98      0.95       929\n",
      "     NonDemented       0.85      0.81      0.83      1428\n",
      "VeryMildDemented       0.82      0.73      0.77      1381\n",
      "\n",
      "        accuracy                           0.84      5099\n",
      "       macro avg       0.85      0.85      0.85      5099\n",
      "    weighted avg       0.84      0.84      0.84      5099\n",
      "\n"
     ]
    }
   ],
   "source": [
    "true_labels4, predictions4 = evaluate_model(model2_test4, val_loader)\n",
    "print('model2_test4 - Val set | VSCA')\n",
    "print(classification_report(true_labels4, predictions4, target_names=['MildDemented', 'ModerateDemented', 'NonDemented', 'VeryMildDemented'], zero_division=0))\n",
    "\n",
    "true_labels4, predictions4 = evaluate_model(model2_test4, test_loader)\n",
    "print('model2_test4 - Test set | Test accuracy')\n",
    "print(classification_report(true_labels4, predictions4, target_names=['MildDemented', 'ModerateDemented', 'NonDemented', 'VeryMildDemented'], zero_division=0))"
   ]
  },
  {
   "cell_type": "code",
   "execution_count": 69,
   "id": "f6330fab",
   "metadata": {},
   "outputs": [
    {
     "name": "stdout",
     "output_type": "stream",
     "text": [
      "                  precision    recall  f1-score   support\n",
      "\n",
      "    MildDemented       0.99      1.00      0.99      1356\n",
      "ModerateDemented       1.00      1.00      1.00       961\n",
      "     NonDemented       1.00      0.98      0.99      1439\n",
      "VeryMildDemented       0.98      0.99      0.99      1341\n",
      "\n",
      "        accuracy                           0.99      5097\n",
      "       macro avg       0.99      0.99      0.99      5097\n",
      "    weighted avg       0.99      0.99      0.99      5097\n",
      "\n"
     ]
    },
    {
     "data": {
      "image/png": "[encoded data removed]",
      "text/plain": [
       "<Figure size 432x288 with 1 Axes>"
      ]
     },
     "metadata": {
      "needs_background": "light"
     },
     "output_type": "display_data"
    }
   ],
   "source": [
    "true_labels, predictions = evaluate_model(ensemble_model4, val_loader)\n",
    "\n",
    "# Print classification report\n",
    "plt.title('Classification report - Val set | VSCA')\n",
    "print(classification_report(true_labels, predictions, target_names=['MildDemented', 'ModerateDemented', 'NonDemented', 'VeryMildDemented'], zero_division=0))"
   ]
  },
  {
   "cell_type": "code",
   "execution_count": 70,
   "id": "3d9e425e",
   "metadata": {},
   "outputs": [
    {
     "name": "stdout",
     "output_type": "stream",
     "text": [
      "                  precision    recall  f1-score   support\n",
      "\n",
      "    MildDemented       0.99      1.00      0.99      1361\n",
      "ModerateDemented       1.00      1.00      1.00       929\n",
      "     NonDemented       1.00      0.97      0.98      1428\n",
      "VeryMildDemented       0.98      0.99      0.98      1381\n",
      "\n",
      "        accuracy                           0.99      5099\n",
      "       macro avg       0.99      0.99      0.99      5099\n",
      "    weighted avg       0.99      0.99      0.99      5099\n",
      "\n"
     ]
    },
    {
     "data": {
      "image/png": "[encoded data removed]",
      "text/plain": [
       "<Figure size 432x288 with 1 Axes>"
      ]
     },
     "metadata": {
      "needs_background": "light"
     },
     "output_type": "display_data"
    }
   ],
   "source": [
    "true_labels, predictions = evaluate_model(ensemble_model4, test_loader)\n",
    "\n",
    "# Print classification report\n",
    "plt.title('Classification report - Test set | Test Accuracy')\n",
    "print(classification_report(true_labels, predictions, target_names=['MildDemented', 'ModerateDemented', 'NonDemented', 'VeryMildDemented'], zero_division=0))"
   ]
  },
  {
   "cell_type": "code",
   "execution_count": 49,
   "id": "563b6f1c",
   "metadata": {},
   "outputs": [
    {
     "data": {
      "image/png": "[encoded data removed]",
      "text/plain": [
       "<Figure size 720x576 with 2 Axes>"
      ]
     },
     "metadata": {
      "needs_background": "light"
     },
     "output_type": "display_data"
    }
   ],
   "source": [
    "true_labels4, predictions4 = get_predictions(ensemble_model4, test_loader)\n",
    "\n",
    "# Compute the confusion matrix\n",
    "cm = confusion_matrix(true_labels4, predictions4)\n",
    "\n",
    "class_names = ['MildDemented', 'ModerateDemented', 'NonDemented', 'VeryMildDemented']\n",
    "\n",
    "# Plot the confusion matrix\n",
    "plt.figure(figsize=(10, 8))\n",
    "sns.heatmap(cm, annot=True, fmt='d', cmap='Blues', xticklabels=class_names, yticklabels=class_names)\n",
    "plt.title('Confusion Matrix (Test data)')\n",
    "plt.ylabel('True Label')\n",
    "plt.xlabel('Predicted Label')\n",
    "plt.show()"
   ]
  },
  {
   "cell_type": "code",
   "execution_count": 50,
   "id": "51a936a7",
   "metadata": {},
   "outputs": [
    {
     "name": "stdout",
     "output_type": "stream",
     "text": [
      "Matthews Correlation Coefficient (MCC): 0.9837647716317486\n",
      "Cohen's Kappa Coefficient: 0.9836760233479679\n"
     ]
    }
   ],
   "source": [
    "# Calculate Matthews Correlation Coefficient\n",
    "mcc = matthews_corrcoef(true_labels4, predictions4)\n",
    "\n",
    "print(\"Matthews Correlation Coefficient (MCC):\", mcc)\n",
    "\n",
    "# Calculate Cohen's Kappa Coefficient\n",
    "kappa = cohen_kappa_score(true_labels4, predictions4)\n",
    "\n",
    "print(\"Cohen's Kappa Coefficient:\", kappa)"
   ]
  },
  {
   "cell_type": "markdown",
   "id": "fd7f6710",
   "metadata": {},
   "source": [
    "### Ensemble formation 5 : Model1_Test5 + Model_2_Test5"
   ]
  },
  {
   "cell_type": "code",
   "execution_count": 32,
   "id": "b2de2155",
   "metadata": {},
   "outputs": [
    {
     "name": "stderr",
     "output_type": "stream",
     "text": [
      "/Users/savin/opt/anaconda3/lib/python3.9/site-packages/torchvision/models/_utils.py:208: UserWarning: The parameter 'pretrained' is deprecated since 0.13 and may be removed in the future, please use 'weights' instead.\n",
      "  warnings.warn(\n",
      "/Users/savin/opt/anaconda3/lib/python3.9/site-packages/torchvision/models/_utils.py:223: UserWarning: Arguments other than a weight enum or `None` for 'weights' are deprecated since 0.13 and may be removed in the future. The current behavior is equivalent to passing `weights=EfficientNet_B0_Weights.IMAGENET1K_V1`. You can also use `weights=EfficientNet_B0_Weights.DEFAULT` to get the most up-to-date weights.\n",
      "  warnings.warn(msg)\n"
     ]
    },
    {
     "data": {
      "text/plain": [
       "<All keys matched successfully>"
      ]
     },
     "execution_count": 32,
     "metadata": {},
     "output_type": "execute_result"
    }
   ],
   "source": [
    "model1_test5 = CNN1(num_classes=4)\n",
    "model1_test5.load_state_dict(torch.load(\"/Users/savin/Desktop/FYP/final_chapters/Model_Testing/model1_test5.pth\"))\n",
    "\n",
    "model2_test5 = CNN2(num_classes=4)\n",
    "model2_test5.load_state_dict(torch.load(\"/Users/savin/Desktop/FYP/final_chapters/Model_Testing/model2_test5.pth\"))"
   ]
  },
  {
   "cell_type": "code",
   "execution_count": 33,
   "id": "b769939b",
   "metadata": {},
   "outputs": [],
   "source": [
    "model1_test5.eval()\n",
    "model2_test5.eval()\n",
    "\n",
    "ensemble_model5 = VotingEnsemble(model1_test5, model2_test5).to(device)"
   ]
  },
  {
   "cell_type": "code",
   "execution_count": 100,
   "id": "a086fd08",
   "metadata": {},
   "outputs": [
    {
     "name": "stdout",
     "output_type": "stream",
     "text": [
      "model1_test5 - Val set | VSCA\n",
      "                  precision    recall  f1-score   support\n",
      "\n",
      "    MildDemented       0.88      1.00      0.93      1356\n",
      "ModerateDemented       1.00      1.00      1.00       961\n",
      "     NonDemented       1.00      0.70      0.83      1439\n",
      "VeryMildDemented       0.81      0.95      0.87      1341\n",
      "\n",
      "        accuracy                           0.90      5097\n",
      "       macro avg       0.92      0.91      0.91      5097\n",
      "    weighted avg       0.92      0.90      0.90      5097\n",
      "\n",
      "model1_test5 - Test set | Test accuracy\n",
      "                  precision    recall  f1-score   support\n",
      "\n",
      "    MildDemented       0.89      1.00      0.94      1361\n",
      "ModerateDemented       1.00      1.00      1.00       929\n",
      "     NonDemented       1.00      0.69      0.81      1428\n",
      "VeryMildDemented       0.80      0.97      0.87      1381\n",
      "\n",
      "        accuracy                           0.90      5099\n",
      "       macro avg       0.92      0.91      0.91      5099\n",
      "    weighted avg       0.92      0.90      0.90      5099\n",
      "\n"
     ]
    }
   ],
   "source": [
    "true_labels5, predictions5 = evaluate_model(model1_test5, val_loader)\n",
    "print('model1_test5 - Val set | VSCA')\n",
    "print(classification_report(true_labels5, predictions5, target_names=['MildDemented', 'ModerateDemented', 'NonDemented', 'VeryMildDemented'], zero_division=0))\n",
    "\n",
    "true_labels5, predictions5 = evaluate_model(model1_test5, test_loader)\n",
    "print('model1_test5 - Test set | Test accuracy')\n",
    "print(classification_report(true_labels5, predictions5, target_names=['MildDemented', 'ModerateDemented', 'NonDemented', 'VeryMildDemented'], zero_division=0))"
   ]
  },
  {
   "cell_type": "code",
   "execution_count": 101,
   "id": "27a2d9c0",
   "metadata": {},
   "outputs": [
    {
     "name": "stdout",
     "output_type": "stream",
     "text": [
      "model2_test5 - Val set | VSCA\n",
      "                  precision    recall  f1-score   support\n",
      "\n",
      "    MildDemented       0.85      0.89      0.87      1356\n",
      "ModerateDemented       0.96      0.97      0.97       961\n",
      "     NonDemented       0.88      0.84      0.86      1439\n",
      "VeryMildDemented       0.81      0.80      0.80      1341\n",
      "\n",
      "        accuracy                           0.87      5097\n",
      "       macro avg       0.87      0.88      0.87      5097\n",
      "    weighted avg       0.87      0.87      0.87      5097\n",
      "\n",
      "model2_test5 - Test set | Test accuracy\n",
      "                  precision    recall  f1-score   support\n",
      "\n",
      "    MildDemented       0.84      0.89      0.87      1361\n",
      "ModerateDemented       0.95      0.98      0.96       929\n",
      "     NonDemented       0.89      0.84      0.86      1428\n",
      "VeryMildDemented       0.83      0.82      0.82      1381\n",
      "\n",
      "        accuracy                           0.87      5099\n",
      "       macro avg       0.88      0.88      0.88      5099\n",
      "    weighted avg       0.87      0.87      0.87      5099\n",
      "\n"
     ]
    }
   ],
   "source": [
    "true_labels5, predictions5 = evaluate_model(model2_test5, val_loader)\n",
    "print('model2_test5 - Val set | VSCA')\n",
    "print(classification_report(true_labels5, predictions5, target_names=['MildDemented', 'ModerateDemented', 'NonDemented', 'VeryMildDemented'], zero_division=0))\n",
    "\n",
    "true_labels5, predictions5 = evaluate_model(model2_test5, test_loader)\n",
    "print('model2_test5 - Test set | Test accuracy')\n",
    "print(classification_report(true_labels5, predictions5, target_names=['MildDemented', 'ModerateDemented', 'NonDemented', 'VeryMildDemented'], zero_division=0))"
   ]
  },
  {
   "cell_type": "code",
   "execution_count": 76,
   "id": "c339d47f",
   "metadata": {},
   "outputs": [
    {
     "name": "stdout",
     "output_type": "stream",
     "text": [
      "                  precision    recall  f1-score   support\n",
      "\n",
      "    MildDemented       0.90      1.00      0.94      1356\n",
      "ModerateDemented       1.00      1.00      1.00       961\n",
      "     NonDemented       1.00      0.76      0.86      1439\n",
      "VeryMildDemented       0.84      0.96      0.90      1341\n",
      "\n",
      "        accuracy                           0.92      5097\n",
      "       macro avg       0.93      0.93      0.93      5097\n",
      "    weighted avg       0.93      0.92      0.92      5097\n",
      "\n"
     ]
    }
   ],
   "source": [
    "true_labels, predictions = evaluate_model(ensemble_model5, val_loader)\n",
    "\n",
    "# Print classification report | VSCA\n",
    "print(classification_report(true_labels, predictions, target_names=['MildDemented', 'ModerateDemented', 'NonDemented', 'VeryMildDemented'], zero_division=0))"
   ]
  },
  {
   "cell_type": "code",
   "execution_count": 77,
   "id": "2f990b83",
   "metadata": {},
   "outputs": [
    {
     "name": "stdout",
     "output_type": "stream",
     "text": [
      "                  precision    recall  f1-score   support\n",
      "\n",
      "    MildDemented       0.92      1.00      0.96      1361\n",
      "ModerateDemented       1.00      1.00      1.00       929\n",
      "     NonDemented       1.00      0.76      0.86      1428\n",
      "VeryMildDemented       0.84      0.97      0.90      1381\n",
      "\n",
      "        accuracy                           0.92      5099\n",
      "       macro avg       0.94      0.93      0.93      5099\n",
      "    weighted avg       0.93      0.92      0.92      5099\n",
      "\n"
     ]
    }
   ],
   "source": [
    "true_labels, predictions = evaluate_model(ensemble_model5, test_loader)\n",
    "\n",
    "# Print classification report | Test Accuracy\n",
    "print(classification_report(true_labels, predictions, target_names=['MildDemented', 'ModerateDemented', 'NonDemented', 'VeryMildDemented'], zero_division=0))"
   ]
  },
  {
   "cell_type": "code",
   "execution_count": 51,
   "id": "0b97d6a8",
   "metadata": {},
   "outputs": [
    {
     "data": {
      "image/png": "[encoded data removed]",
      "text/plain": [
       "<Figure size 720x576 with 2 Axes>"
      ]
     },
     "metadata": {
      "needs_background": "light"
     },
     "output_type": "display_data"
    }
   ],
   "source": [
    "true_labels5, predictions5 = get_predictions(ensemble_model5, test_loader)\n",
    "\n",
    "# Compute the confusion matrix\n",
    "cm = confusion_matrix(true_labels5, predictions5)\n",
    "\n",
    "class_names = ['MildDemented', 'ModerateDemented', 'NonDemented', 'VeryMildDemented']\n",
    "\n",
    "# Plot the confusion matrix\n",
    "plt.figure(figsize=(10, 8))\n",
    "sns.heatmap(cm, annot=True, fmt='d', cmap='Blues', xticklabels=class_names, yticklabels=class_names)\n",
    "plt.title('Confusion Matrix (Test data)')\n",
    "plt.ylabel('True Label')\n",
    "plt.xlabel('Predicted Label')\n",
    "plt.show()"
   ]
  },
  {
   "cell_type": "code",
   "execution_count": 52,
   "id": "c0701217",
   "metadata": {},
   "outputs": [
    {
     "name": "stdout",
     "output_type": "stream",
     "text": [
      "Matthews Correlation Coefficient (MCC): 0.8985608717684765\n",
      "Cohen's Kappa Coefficient: 0.8940442620184192\n"
     ]
    }
   ],
   "source": [
    "# Calculate Matthews Correlation Coefficient\n",
    "mcc = matthews_corrcoef(true_labels5, predictions5)\n",
    "\n",
    "print(\"Matthews Correlation Coefficient (MCC):\", mcc)\n",
    "\n",
    "# Calculate Cohen's Kappa Coefficient\n",
    "kappa = cohen_kappa_score(true_labels5, predictions5)\n",
    "\n",
    "print(\"Cohen's Kappa Coefficient:\", kappa)"
   ]
  },
  {
   "cell_type": "markdown",
   "id": "7b273f40",
   "metadata": {},
   "source": [
    "### Ensemble formation 6 : Model1_Test7 + Model_2_Test5"
   ]
  },
  {
   "cell_type": "code",
   "execution_count": 35,
   "id": "c1de0fcd",
   "metadata": {},
   "outputs": [
    {
     "name": "stderr",
     "output_type": "stream",
     "text": [
      "/Users/savin/opt/anaconda3/lib/python3.9/site-packages/torchvision/models/_utils.py:208: UserWarning: The parameter 'pretrained' is deprecated since 0.13 and may be removed in the future, please use 'weights' instead.\n",
      "  warnings.warn(\n",
      "/Users/savin/opt/anaconda3/lib/python3.9/site-packages/torchvision/models/_utils.py:223: UserWarning: Arguments other than a weight enum or `None` for 'weights' are deprecated since 0.13 and may be removed in the future. The current behavior is equivalent to passing `weights=EfficientNet_B0_Weights.IMAGENET1K_V1`. You can also use `weights=EfficientNet_B0_Weights.DEFAULT` to get the most up-to-date weights.\n",
      "  warnings.warn(msg)\n"
     ]
    },
    {
     "data": {
      "text/plain": [
       "<All keys matched successfully>"
      ]
     },
     "execution_count": 35,
     "metadata": {},
     "output_type": "execute_result"
    }
   ],
   "source": [
    "model1_test7 = CNN1(num_classes=4)\n",
    "model1_test7.load_state_dict(torch.load(\"/Users/savin/Desktop/FYP/final_chapters/Model_Testing/model1_test7.pth\"))\n",
    "\n",
    "model2_test5 = CNN2(num_classes=4)\n",
    "model2_test5.load_state_dict(torch.load(\"/Users/savin/Desktop/FYP/final_chapters/Model_Testing/model2_test5.pth\"))"
   ]
  },
  {
   "cell_type": "code",
   "execution_count": 36,
   "id": "83a6b660",
   "metadata": {},
   "outputs": [],
   "source": [
    "model1_test7.eval()\n",
    "model2_test5.eval()\n",
    "\n",
    "ensemble_model6 = VotingEnsemble(model1_test7, model2_test5).to(device)"
   ]
  },
  {
   "cell_type": "code",
   "execution_count": 105,
   "id": "f242ceee",
   "metadata": {},
   "outputs": [
    {
     "name": "stdout",
     "output_type": "stream",
     "text": [
      "model1_test7 - Val set | VSCA\n",
      "                  precision    recall  f1-score   support\n",
      "\n",
      "    MildDemented       0.98      0.99      0.99      1356\n",
      "ModerateDemented       1.00      1.00      1.00       961\n",
      "     NonDemented       0.98      0.94      0.96      1439\n",
      "VeryMildDemented       0.94      0.97      0.95      1341\n",
      "\n",
      "        accuracy                           0.97      5097\n",
      "       macro avg       0.98      0.98      0.98      5097\n",
      "    weighted avg       0.97      0.97      0.97      5097\n",
      "\n",
      "model1_test7 - Test set | Test accuracy\n",
      "                  precision    recall  f1-score   support\n",
      "\n",
      "    MildDemented       0.98      0.99      0.99      1361\n",
      "ModerateDemented       1.00      1.00      1.00       929\n",
      "     NonDemented       0.98      0.94      0.96      1428\n",
      "VeryMildDemented       0.94      0.97      0.95      1381\n",
      "\n",
      "        accuracy                           0.97      5099\n",
      "       macro avg       0.98      0.98      0.97      5099\n",
      "    weighted avg       0.97      0.97      0.97      5099\n",
      "\n"
     ]
    }
   ],
   "source": [
    "true_labels6, predictions6 = evaluate_model(model1_test7, val_loader)\n",
    "print('model1_test7 - Val set | VSCA')\n",
    "print(classification_report(true_labels6, predictions6, target_names=['MildDemented', 'ModerateDemented', 'NonDemented', 'VeryMildDemented'], zero_division=0))\n",
    "\n",
    "true_labels6, predictions6 = evaluate_model(model1_test7, test_loader)\n",
    "print('model1_test7 - Test set | Test accuracy')\n",
    "print(classification_report(true_labels6, predictions6, target_names=['MildDemented', 'ModerateDemented', 'NonDemented', 'VeryMildDemented'], zero_division=0))\n",
    "\n",
    "# classification reports for model2_test5 is done above"
   ]
  },
  {
   "cell_type": "code",
   "execution_count": 108,
   "id": "c5b16653",
   "metadata": {},
   "outputs": [
    {
     "name": "stdout",
     "output_type": "stream",
     "text": [
      "Ensemble formation 6 - VSCA\n",
      "                  precision    recall  f1-score   support\n",
      "\n",
      "    MildDemented       0.98      1.00      0.99      1356\n",
      "ModerateDemented       1.00      1.00      1.00       961\n",
      "     NonDemented       0.99      0.96      0.97      1439\n",
      "VeryMildDemented       0.96      0.98      0.97      1341\n",
      "\n",
      "        accuracy                           0.98      5097\n",
      "       macro avg       0.98      0.98      0.98      5097\n",
      "    weighted avg       0.98      0.98      0.98      5097\n",
      "\n"
     ]
    }
   ],
   "source": [
    "true_labels, predictions = evaluate_model(ensemble_model6, val_loader)\n",
    "\n",
    "# Print classification report | VSCA\n",
    "print(\"Ensemble formation 6 - VSCA\")\n",
    "print(classification_report(true_labels, predictions, target_names=['MildDemented', 'ModerateDemented', 'NonDemented', 'VeryMildDemented'], zero_division=0))"
   ]
  },
  {
   "cell_type": "code",
   "execution_count": 109,
   "id": "912030b2",
   "metadata": {},
   "outputs": [
    {
     "name": "stdout",
     "output_type": "stream",
     "text": [
      "Ensemble formation 6 - Test Accuracy\n",
      "                  precision    recall  f1-score   support\n",
      "\n",
      "    MildDemented       0.99      1.00      0.99      1361\n",
      "ModerateDemented       1.00      1.00      1.00       929\n",
      "     NonDemented       0.98      0.95      0.97      1428\n",
      "VeryMildDemented       0.96      0.97      0.96      1381\n",
      "\n",
      "        accuracy                           0.98      5099\n",
      "       macro avg       0.98      0.98      0.98      5099\n",
      "    weighted avg       0.98      0.98      0.98      5099\n",
      "\n"
     ]
    }
   ],
   "source": [
    "true_labels, predictions = evaluate_model(ensemble_model6, test_loader)\n",
    "\n",
    "# Print classification report | VSCA\n",
    "print(\"Ensemble formation 6 - Test Accuracy\")\n",
    "print(classification_report(true_labels, predictions, target_names=['MildDemented', 'ModerateDemented', 'NonDemented', 'VeryMildDemented'], zero_division=0))"
   ]
  },
  {
   "cell_type": "code",
   "execution_count": 53,
   "id": "78039f05",
   "metadata": {},
   "outputs": [
    {
     "data": {
      "image/png": "[encoded data removed]",
      "text/plain": [
       "<Figure size 720x576 with 2 Axes>"
      ]
     },
     "metadata": {
      "needs_background": "light"
     },
     "output_type": "display_data"
    }
   ],
   "source": [
    "true_labels6, predictions6 = get_predictions(ensemble_model6, test_loader)\n",
    "\n",
    "# Compute the confusion matrix\n",
    "cm = confusion_matrix(true_labels6, predictions6)\n",
    "\n",
    "class_names = ['MildDemented', 'ModerateDemented', 'NonDemented', 'VeryMildDemented']\n",
    "\n",
    "# Plot the confusion matrix\n",
    "plt.figure(figsize=(10, 8))\n",
    "sns.heatmap(cm, annot=True, fmt='d', cmap='Blues', xticklabels=class_names, yticklabels=class_names)\n",
    "plt.title('Confusion Matrix (Test data)')\n",
    "plt.ylabel('True Label')\n",
    "plt.xlabel('Predicted Label')\n",
    "plt.show()"
   ]
  },
  {
   "cell_type": "code",
   "execution_count": 54,
   "id": "6ce823ca",
   "metadata": {},
   "outputs": [
    {
     "name": "stdout",
     "output_type": "stream",
     "text": [
      "Matthews Correlation Coefficient (MCC): 0.9739841919094343\n",
      "Cohen's Kappa Coefficient: 0.9739346425882724\n"
     ]
    }
   ],
   "source": [
    "# Calculate Matthews Correlation Coefficient\n",
    "mcc = matthews_corrcoef(true_labels6, predictions6)\n",
    "\n",
    "print(\"Matthews Correlation Coefficient (MCC):\", mcc)\n",
    "\n",
    "# Calculate Cohen's Kappa Coefficient\n",
    "kappa = cohen_kappa_score(true_labels6, predictions6)\n",
    "\n",
    "print(\"Cohen's Kappa Coefficient:\", kappa)"
   ]
  },
  {
   "cell_type": "markdown",
   "id": "d15adcce",
   "metadata": {},
   "source": [
    "### Ensemble formation 7 : Model1_Test6 + Model_2_Test5"
   ]
  },
  {
   "cell_type": "code",
   "execution_count": 38,
   "id": "9738b231",
   "metadata": {},
   "outputs": [
    {
     "name": "stderr",
     "output_type": "stream",
     "text": [
      "/Users/savin/opt/anaconda3/lib/python3.9/site-packages/torchvision/models/_utils.py:208: UserWarning: The parameter 'pretrained' is deprecated since 0.13 and may be removed in the future, please use 'weights' instead.\n",
      "  warnings.warn(\n",
      "/Users/savin/opt/anaconda3/lib/python3.9/site-packages/torchvision/models/_utils.py:223: UserWarning: Arguments other than a weight enum or `None` for 'weights' are deprecated since 0.13 and may be removed in the future. The current behavior is equivalent to passing `weights=EfficientNet_B0_Weights.IMAGENET1K_V1`. You can also use `weights=EfficientNet_B0_Weights.DEFAULT` to get the most up-to-date weights.\n",
      "  warnings.warn(msg)\n"
     ]
    },
    {
     "data": {
      "text/plain": [
       "<All keys matched successfully>"
      ]
     },
     "execution_count": 38,
     "metadata": {},
     "output_type": "execute_result"
    }
   ],
   "source": [
    "model1_test6 = CNN1(num_classes=4)\n",
    "model1_test6.load_state_dict(torch.load(\"/Users/savin/Desktop/FYP/final_chapters/Model_Testing/model1_test6.pth\"))\n",
    "\n",
    "model2_test2 = CNN2(num_classes=4)\n",
    "model2_test2.load_state_dict(torch.load(\"/Users/savin/Desktop/FYP/final_chapters/Model_Testing/model2_test2.pth\"))"
   ]
  },
  {
   "cell_type": "code",
   "execution_count": 39,
   "id": "998012d4",
   "metadata": {},
   "outputs": [],
   "source": [
    "model1_test6.eval()\n",
    "model2_test2.eval()\n",
    "\n",
    "ensemble_model7 = VotingEnsemble(model1_test6, model2_test2).to(device)"
   ]
  },
  {
   "cell_type": "code",
   "execution_count": 115,
   "id": "910510fd",
   "metadata": {},
   "outputs": [
    {
     "name": "stdout",
     "output_type": "stream",
     "text": [
      "model1_test6 - Val set | VSCA\n",
      "                  precision    recall  f1-score   support\n",
      "\n",
      "    MildDemented       0.99      1.00      0.99      1356\n",
      "ModerateDemented       1.00      1.00      1.00       961\n",
      "     NonDemented       0.98      0.99      0.98      1439\n",
      "VeryMildDemented       0.99      0.97      0.98      1341\n",
      "\n",
      "        accuracy                           0.99      5097\n",
      "       macro avg       0.99      0.99      0.99      5097\n",
      "    weighted avg       0.99      0.99      0.99      5097\n",
      "\n",
      "model1_test6 - Test set | Test accuracy\n",
      "                  precision    recall  f1-score   support\n",
      "\n",
      "    MildDemented       0.99      1.00      0.99      1361\n",
      "ModerateDemented       1.00      1.00      1.00       929\n",
      "     NonDemented       0.96      0.99      0.97      1428\n",
      "VeryMildDemented       1.00      0.95      0.97      1381\n",
      "\n",
      "        accuracy                           0.98      5099\n",
      "       macro avg       0.99      0.98      0.98      5099\n",
      "    weighted avg       0.98      0.98      0.98      5099\n",
      "\n"
     ]
    }
   ],
   "source": [
    "true_labels7, predictions7 = evaluate_model(model1_test6, val_loader)\n",
    "print('model1_test6 - Val set | VSCA')\n",
    "print(classification_report(true_labels7, predictions7, target_names=['MildDemented', 'ModerateDemented', 'NonDemented', 'VeryMildDemented'], zero_division=0))\n",
    "\n",
    "true_labels7, predictions7 = evaluate_model(model1_test6, test_loader)\n",
    "print('model1_test6 - Test set | Test accuracy')\n",
    "print(classification_report(true_labels7, predictions7, target_names=['MildDemented', 'ModerateDemented', 'NonDemented', 'VeryMildDemented'], zero_division=0))\n",
    "\n",
    "# classification reports for model2_test2 is done above"
   ]
  },
  {
   "cell_type": "code",
   "execution_count": 116,
   "id": "04032003",
   "metadata": {},
   "outputs": [
    {
     "name": "stdout",
     "output_type": "stream",
     "text": [
      "Ensemble formation 7 - VSCA\n",
      "                  precision    recall  f1-score   support\n",
      "\n",
      "    MildDemented       0.98      1.00      0.99      1356\n",
      "ModerateDemented       1.00      1.00      1.00       961\n",
      "     NonDemented       0.98      0.99      0.99      1439\n",
      "VeryMildDemented       0.99      0.97      0.98      1341\n",
      "\n",
      "        accuracy                           0.99      5097\n",
      "       macro avg       0.99      0.99      0.99      5097\n",
      "    weighted avg       0.99      0.99      0.99      5097\n",
      "\n"
     ]
    }
   ],
   "source": [
    "true_labels, predictions = evaluate_model(ensemble_model7, val_loader)\n",
    "\n",
    "# Print classification report | VSCA\n",
    "print(\"Ensemble formation 7 - VSCA\")\n",
    "print(classification_report(true_labels, predictions, target_names=['MildDemented', 'ModerateDemented', 'NonDemented', 'VeryMildDemented'], zero_division=0))"
   ]
  },
  {
   "cell_type": "code",
   "execution_count": 117,
   "id": "c0d13847",
   "metadata": {
    "scrolled": true
   },
   "outputs": [
    {
     "name": "stdout",
     "output_type": "stream",
     "text": [
      "Ensemble formation 7 - VSCA\n",
      "                  precision    recall  f1-score   support\n",
      "\n",
      "    MildDemented       0.99      1.00      0.99      1361\n",
      "ModerateDemented       1.00      1.00      1.00       929\n",
      "     NonDemented       0.97      0.99      0.98      1428\n",
      "VeryMildDemented       1.00      0.96      0.98      1381\n",
      "\n",
      "        accuracy                           0.99      5099\n",
      "       macro avg       0.99      0.99      0.99      5099\n",
      "    weighted avg       0.99      0.99      0.99      5099\n",
      "\n"
     ]
    }
   ],
   "source": [
    "true_labels, predictions = evaluate_model(ensemble_model7, test_loader)\n",
    "\n",
    "# Print classification report | VSCA\n",
    "print(\"Ensemble formation 7 - VSCA\")\n",
    "print(classification_report(true_labels, predictions, target_names=['MildDemented', 'ModerateDemented', 'NonDemented', 'VeryMildDemented'], zero_division=0))"
   ]
  },
  {
   "cell_type": "code",
   "execution_count": 55,
   "id": "dcfd8ef8",
   "metadata": {},
   "outputs": [
    {
     "data": {
      "image/png": "[encoded data removed]",
      "text/plain": [
       "<Figure size 720x576 with 2 Axes>"
      ]
     },
     "metadata": {
      "needs_background": "light"
     },
     "output_type": "display_data"
    }
   ],
   "source": [
    "true_labels7, predictions7 = get_predictions(ensemble_model7, test_loader)\n",
    "\n",
    "# Compute the confusion matrix\n",
    "cm = confusion_matrix(true_labels7, predictions7)\n",
    "\n",
    "class_names = ['MildDemented', 'ModerateDemented', 'NonDemented', 'VeryMildDemented']\n",
    "\n",
    "# Plot the confusion matrix\n",
    "plt.figure(figsize=(10, 8))\n",
    "sns.heatmap(cm, annot=True, fmt='d', cmap='Blues', xticklabels=class_names, yticklabels=class_names)\n",
    "plt.title('Confusion Matrix (Test data)')\n",
    "plt.ylabel('True Label')\n",
    "plt.xlabel('Predicted Label')\n",
    "plt.show()"
   ]
  },
  {
   "cell_type": "code",
   "execution_count": 56,
   "id": "5e6b6cf1",
   "metadata": {},
   "outputs": [
    {
     "name": "stdout",
     "output_type": "stream",
     "text": [
      "Matthews Correlation Coefficient (MCC): 0.9829644822817587\n",
      "Cohen's Kappa Coefficient: 0.9828839219174056\n"
     ]
    }
   ],
   "source": [
    "# Calculate Matthews Correlation Coefficient\n",
    "mcc = matthews_corrcoef(true_labels7, predictions7)\n",
    "\n",
    "print(\"Matthews Correlation Coefficient (MCC):\", mcc)\n",
    "\n",
    "# Calculate Cohen's Kappa Coefficient\n",
    "kappa = cohen_kappa_score(true_labels7, predictions7)\n",
    "\n",
    "print(\"Cohen's Kappa Coefficient:\", kappa)"
   ]
  },
  {
   "cell_type": "markdown",
   "id": "fb65dd03",
   "metadata": {},
   "source": [
    "### Generalisability Testing of the Ensemble Model "
   ]
  },
  {
   "cell_type": "code",
   "execution_count": 41,
   "id": "97cfb1cc",
   "metadata": {},
   "outputs": [
    {
     "name": "stderr",
     "output_type": "stream",
     "text": [
      "/Users/savin/opt/anaconda3/lib/python3.9/site-packages/torchvision/models/_utils.py:208: UserWarning: The parameter 'pretrained' is deprecated since 0.13 and may be removed in the future, please use 'weights' instead.\n",
      "  warnings.warn(\n",
      "/Users/savin/opt/anaconda3/lib/python3.9/site-packages/torchvision/models/_utils.py:223: UserWarning: Arguments other than a weight enum or `None` for 'weights' are deprecated since 0.13 and may be removed in the future. The current behavior is equivalent to passing `weights=EfficientNet_B0_Weights.IMAGENET1K_V1`. You can also use `weights=EfficientNet_B0_Weights.DEFAULT` to get the most up-to-date weights.\n",
      "  warnings.warn(msg)\n"
     ]
    },
    {
     "data": {
      "text/plain": [
       "<All keys matched successfully>"
      ]
     },
     "execution_count": 41,
     "metadata": {},
     "output_type": "execute_result"
    }
   ],
   "source": [
    "model1_generalization_test = CNN1(num_classes=4)\n",
    "model1_generalization_test.load_state_dict(torch.load(\"/Users/savin/Desktop/FYP/final_chapters/Model_Testing/model1_generalization_test.pth\"))\n",
    "\n",
    "model2_generalization_test = CNN2(num_classes=4)\n",
    "model2_generalization_test.load_state_dict(torch.load(\"/Users/savin/Desktop/FYP/final_chapters/Model_Testing/model2_generalization_test.pth\"))"
   ]
  },
  {
   "cell_type": "code",
   "execution_count": 13,
   "id": "2d3f6c95",
   "metadata": {},
   "outputs": [],
   "source": [
    "model1_generalization_test.eval()\n",
    "model2_generalization_test.eval()\n",
    "\n",
    "ensemble_model_G = VotingEnsemble(model1_generalization_test, model2_generalization_test).to(device)"
   ]
  },
  {
   "cell_type": "code",
   "execution_count": 14,
   "id": "58d883dd",
   "metadata": {},
   "outputs": [
    {
     "name": "stdout",
     "output_type": "stream",
     "text": [
      "model1_generalization_test - Val set | VSCA\n",
      "                  precision    recall  f1-score   support\n",
      "\n",
      "    MildDemented       0.00      0.00      0.00       745\n",
      "ModerateDemented       0.00      0.00      0.00        88\n",
      "     NonDemented       0.61      0.28      0.39       758\n",
      "VeryMildDemented       0.34      0.90      0.49       734\n",
      "\n",
      "        accuracy                           0.38      2325\n",
      "       macro avg       0.24      0.30      0.22      2325\n",
      "    weighted avg       0.31      0.38      0.28      2325\n",
      "\n",
      "model1_generalization_test - Test set | Test accuracy\n",
      "                  precision    recall  f1-score   support\n",
      "\n",
      "    MildDemented       1.00      0.00      0.00       704\n",
      "ModerateDemented       0.00      0.00      0.00        64\n",
      "     NonDemented       0.59      0.30      0.40       746\n",
      "VeryMildDemented       0.37      0.90      0.53       811\n",
      "\n",
      "        accuracy                           0.41      2325\n",
      "       macro avg       0.49      0.30      0.23      2325\n",
      "    weighted avg       0.62      0.41      0.31      2325\n",
      "\n"
     ]
    }
   ],
   "source": [
    "true_labelsG, predictionsG = evaluate_model(model1_generalization_test, val_loader)\n",
    "print('model1_generalization_test - Val set | VSCA')\n",
    "print(classification_report(true_labelsG, predictionsG, target_names=['MildDemented', 'ModerateDemented', 'NonDemented', 'VeryMildDemented'], zero_division=0))\n",
    "\n",
    "true_labelsG, predictionsG = evaluate_model(model1_generalization_test, test_loader)\n",
    "print('model1_generalization_test - Test set | Test accuracy')\n",
    "print(classification_report(true_labelsG, predictionsG, target_names=['MildDemented', 'ModerateDemented', 'NonDemented', 'VeryMildDemented'], zero_division=0))"
   ]
  },
  {
   "cell_type": "code",
   "execution_count": 15,
   "id": "92521a79",
   "metadata": {},
   "outputs": [
    {
     "name": "stdout",
     "output_type": "stream",
     "text": [
      "model2_generalization_test - Val set | VSCA\n",
      "                  precision    recall  f1-score   support\n",
      "\n",
      "    MildDemented       0.66      0.19      0.30       745\n",
      "ModerateDemented       0.05      0.03      0.04        88\n",
      "     NonDemented       0.51      0.62      0.56       758\n",
      "VeryMildDemented       0.38      0.58      0.46       734\n",
      "\n",
      "        accuracy                           0.45      2325\n",
      "       macro avg       0.40      0.36      0.34      2325\n",
      "    weighted avg       0.50      0.45      0.42      2325\n",
      "\n",
      "model2_generalization_test - Test set | Test accuracy\n",
      "                  precision    recall  f1-score   support\n",
      "\n",
      "    MildDemented       0.68      0.20      0.31       704\n",
      "ModerateDemented       0.10      0.09      0.10        64\n",
      "     NonDemented       0.50      0.59      0.54       746\n",
      "VeryMildDemented       0.43      0.63      0.51       811\n",
      "\n",
      "        accuracy                           0.47      2325\n",
      "       macro avg       0.43      0.38      0.36      2325\n",
      "    weighted avg       0.52      0.47      0.45      2325\n",
      "\n"
     ]
    }
   ],
   "source": [
    "true_labelsG, predictionsG = evaluate_model(model2_generalization_test, val_loader)\n",
    "print('model2_generalization_test - Val set | VSCA')\n",
    "print(classification_report(true_labelsG, predictionsG, target_names=['MildDemented', 'ModerateDemented', 'NonDemented', 'VeryMildDemented'], zero_division=0))\n",
    "\n",
    "true_labelsG, predictionsG = evaluate_model(model2_generalization_test, test_loader)\n",
    "print('model2_generalization_test - Test set | Test accuracy')\n",
    "print(classification_report(true_labelsG, predictionsG, target_names=['MildDemented', 'ModerateDemented', 'NonDemented', 'VeryMildDemented'], zero_division=0))"
   ]
  },
  {
   "cell_type": "code",
   "execution_count": 16,
   "id": "4143647e",
   "metadata": {},
   "outputs": [
    {
     "name": "stdout",
     "output_type": "stream",
     "text": [
      "Ensemble formation G - VSCA\n",
      "                  precision    recall  f1-score   support\n",
      "\n",
      "    MildDemented       1.00      0.00      0.01       745\n",
      "ModerateDemented       0.00      0.00      0.00        88\n",
      "     NonDemented       0.69      0.33      0.44       758\n",
      "VeryMildDemented       0.34      0.92      0.50       734\n",
      "\n",
      "        accuracy                           0.40      2325\n",
      "       macro avg       0.51      0.31      0.24      2325\n",
      "    weighted avg       0.65      0.40      0.30      2325\n",
      "\n"
     ]
    }
   ],
   "source": [
    "true_labels, predictions = evaluate_model(ensemble_model_G, val_loader)\n",
    "\n",
    "# Print classification report | VSCA\n",
    "print(\"Ensemble formation G - VSCA\")\n",
    "print(classification_report(true_labels, predictions, target_names=['MildDemented', 'ModerateDemented', 'NonDemented', 'VeryMildDemented'], zero_division=0))"
   ]
  },
  {
   "cell_type": "code",
   "execution_count": 17,
   "id": "4911902e",
   "metadata": {},
   "outputs": [
    {
     "name": "stdout",
     "output_type": "stream",
     "text": [
      "Ensemble formation G - Test\n",
      "                  precision    recall  f1-score   support\n",
      "\n",
      "    MildDemented       1.00      0.01      0.01       704\n",
      "ModerateDemented       0.00      0.00      0.00        64\n",
      "     NonDemented       0.67      0.34      0.45       746\n",
      "VeryMildDemented       0.38      0.91      0.53       811\n",
      "\n",
      "        accuracy                           0.43      2325\n",
      "       macro avg       0.51      0.31      0.25      2325\n",
      "    weighted avg       0.65      0.43      0.33      2325\n",
      "\n"
     ]
    }
   ],
   "source": [
    "true_labels, predictions = evaluate_model(ensemble_model_G, test_loader)\n",
    "\n",
    "# Print classification report | VSCA\n",
    "print(\"Ensemble formation G - Test\")\n",
    "print(classification_report(true_labels, predictions, target_names=['MildDemented', 'ModerateDemented', 'NonDemented', 'VeryMildDemented'], zero_division=0))"
   ]
  },
  {
   "cell_type": "code",
   "execution_count": 18,
   "id": "c5e11bb0",
   "metadata": {},
   "outputs": [
    {
     "ename": "NameError",
     "evalue": "name 'get_predictions' is not defined",
     "output_type": "error",
     "traceback": [
      "\u001b[0;31m---------------------------------------------------------------------------\u001b[0m",
      "\u001b[0;31mNameError\u001b[0m                                 Traceback (most recent call last)",
      "\u001b[0;32m/var/folders/nc/t_f0y3ls6txd3ldynt61sm3w0000gn/T/ipykernel_99924/995636719.py\u001b[0m in \u001b[0;36m<module>\u001b[0;34m\u001b[0m\n\u001b[0;32m----> 1\u001b[0;31m \u001b[0mtrue_labels\u001b[0m\u001b[0;34m,\u001b[0m \u001b[0mpredictions\u001b[0m \u001b[0;34m=\u001b[0m \u001b[0mget_predictions\u001b[0m\u001b[0;34m(\u001b[0m\u001b[0mensemble_model_G\u001b[0m\u001b[0;34m,\u001b[0m \u001b[0mtest_loader\u001b[0m\u001b[0;34m)\u001b[0m\u001b[0;34m\u001b[0m\u001b[0;34m\u001b[0m\u001b[0m\n\u001b[0m\u001b[1;32m      2\u001b[0m \u001b[0;34m\u001b[0m\u001b[0m\n\u001b[1;32m      3\u001b[0m \u001b[0;31m# Compute the confusion matrix\u001b[0m\u001b[0;34m\u001b[0m\u001b[0;34m\u001b[0m\u001b[0m\n\u001b[1;32m      4\u001b[0m \u001b[0mcm\u001b[0m \u001b[0;34m=\u001b[0m \u001b[0mconfusion_matrix\u001b[0m\u001b[0;34m(\u001b[0m\u001b[0mtrue_labels\u001b[0m\u001b[0;34m,\u001b[0m \u001b[0mpredictions\u001b[0m\u001b[0;34m)\u001b[0m\u001b[0;34m\u001b[0m\u001b[0;34m\u001b[0m\u001b[0m\n\u001b[1;32m      5\u001b[0m \u001b[0mclass_names\u001b[0m \u001b[0;34m=\u001b[0m \u001b[0;34m[\u001b[0m\u001b[0;34m'MildDemented'\u001b[0m\u001b[0;34m,\u001b[0m \u001b[0;34m'ModerateDemented'\u001b[0m\u001b[0;34m,\u001b[0m \u001b[0;34m'NonDemented'\u001b[0m\u001b[0;34m,\u001b[0m \u001b[0;34m'VeryMildDemented'\u001b[0m\u001b[0;34m]\u001b[0m\u001b[0;34m\u001b[0m\u001b[0;34m\u001b[0m\u001b[0m\n",
      "\u001b[0;31mNameError\u001b[0m: name 'get_predictions' is not defined"
     ]
    }
   ],
   "source": [
    "true_labels, predictions = get_predictions(ensemble_model_G, test_loader)\n",
    "\n",
    "# Compute the confusion matrix\n",
    "cm = confusion_matrix(true_labels, predictions)\n",
    "class_names = ['MildDemented', 'ModerateDemented', 'NonDemented', 'VeryMildDemented']\n",
    "\n",
    "# Plot the confusion matrix\n",
    "plt.figure(figsize=(10, 8))\n",
    "sns.heatmap(cm, annot=True, fmt='d', cmap='Blues', xticklabels=class_names, yticklabels=class_names)\n",
    "plt.title('Confusion Matrix (Test data)')\n",
    "plt.ylabel('True Label')\n",
    "plt.xlabel('Predicted Label')\n",
    "plt.show()"
   ]
  }
 ],
 "metadata": {
  "kernelspec": {
   "display_name": "Python 3 (ipykernel)",
   "language": "python",
   "name": "python3"
  },
  "language_info": {
   "codemirror_mode": {
    "name": "ipython",
    "version": 3
   },
   "file_extension": ".py",
   "mimetype": "text/x-python",
   "name": "python",
   "nbconvert_exporter": "python",
   "pygments_lexer": "ipython3",
   "version": "3.9.7"
  }
 },
 "nbformat": 4,
 "nbformat_minor": 5
}
