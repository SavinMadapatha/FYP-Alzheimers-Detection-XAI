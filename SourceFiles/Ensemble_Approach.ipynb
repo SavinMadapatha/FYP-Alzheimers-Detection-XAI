{
 "cells": [
  {
   "cell_type": "markdown",
   "id": "b48ed8f2",
   "metadata": {},
   "source": [
    "## Import Libraries"
   ]
  },
  {
   "cell_type": "code",
   "execution_count": 1,
   "id": "82748952",
   "metadata": {},
   "outputs": [],
   "source": [
    "import os\n",
    "import torch\n",
    "import torch.nn as nn\n",
    "from torchsummary import summary\n",
    "import torch.optim as optim\n",
    "import torch.nn.functional as F\n",
    "from torch.utils import data\n",
    "from torchvision import datasets, transforms, models\n",
    "from collections import Counter\n",
    "from torchvision.transforms import Resize, CenterCrop, ToTensor, Normalize, GaussianBlur, Grayscale\n",
    "from torchvision.datasets import ImageFolder\n",
    "from torch.utils.data import DataLoader, random_split, Subset, Dataset\n",
    "\n",
    "import cv2 \n",
    "from PIL import Image, ImageFilter, ImageOps\n",
    "from torchvision.transforms.functional import to_pil_image\n",
    "from skimage.metrics import peak_signal_noise_ratio, structural_similarity\n",
    "import matplotlib.pyplot as plt\n",
    "import torch.optim as optim\n",
    "from tqdm import tqdm\n",
    "\n",
    "from sklearn.metrics import classification_report, confusion_matrix\n",
    "import seaborn as sns\n",
    "from torch.optim import lr_scheduler\n",
    "\n",
    "from tkinter import filedialog, Tk\n",
    "\n",
    "from gradcam import GradCAM, GradCAMpp\n",
    "from gradcam.utils import visualize_cam\n",
    "\n",
    "import numpy as np\n",
    "from sklearn.model_selection import KFold\n",
    "from sklearn.metrics import accuracy_score"
   ]
  },
  {
   "cell_type": "code",
   "execution_count": 2,
   "id": "20b83e24",
   "metadata": {},
   "outputs": [],
   "source": [
    "device = torch.device(\"cuda\" if torch.cuda.is_available() else \"cpu\") # as M1 Mac Does not have a dedicated GPU"
   ]
  },
  {
   "cell_type": "markdown",
   "id": "3aeb8834",
   "metadata": {},
   "source": [
    "##### Specify the path to the locally saved dataset"
   ]
  },
  {
   "cell_type": "code",
   "execution_count": 3,
   "id": "bb3f9f6b",
   "metadata": {},
   "outputs": [],
   "source": [
    "train_data_dir = '/Users/savin/Desktop/FYP/Implementation/kaggle_dataset/AugmentedAlzheimerDataset'\n",
    "original_dataset = datasets.ImageFolder(train_data_dir)"
   ]
  },
  {
   "cell_type": "code",
   "execution_count": 4,
   "id": "7badcf7b",
   "metadata": {},
   "outputs": [],
   "source": [
    "class ContrastStretching:\n",
    "    def __call__(self, img):\n",
    "        # Convert PIL Image to NumPy array\n",
    "        img_np = np.array(img)\n",
    "        \n",
    "        # Check if the image is grayscale or RGB\n",
    "        if img_np.ndim == 2:  # Grayscale image\n",
    "            img_np = self.apply_contrast_stretching(img_np)\n",
    "        elif img_np.ndim == 3:  # RGB image\n",
    "            # Apply contrast stretching to each channel individually\n",
    "            for i in range(img_np.shape[-1]):\n",
    "                img_np[:, :, i] = self.apply_contrast_stretching(img_np[:, :, i])\n",
    "        \n",
    "        # Convert back to PIL Image\n",
    "        return Image.fromarray(img_np.astype('uint8'))\n",
    "    \n",
    "    def apply_contrast_stretching(self, channel):\n",
    "        in_min, in_max = np.percentile(channel, (0, 100))\n",
    "        out_min, out_max = 0, 255\n",
    "        channel = np.clip((channel - in_min) * (out_max - out_min) / (in_max - in_min) + out_min, out_min, out_max)\n",
    "        return channel\n",
    "\n",
    "class UnsharpMask:\n",
    "    def __init__(self, radius=1, percent=100, threshold=3):\n",
    "        self.radius = radius\n",
    "        self.percent = percent\n",
    "        self.threshold = threshold\n",
    "\n",
    "    def __call__(self, img):\n",
    "        return img.filter(ImageFilter.UnsharpMask(radius=self.radius, \n",
    "                                                  percent=self.percent, \n",
    "                                                  threshold=self.threshold\n",
    "                                                 ))\n",
    "\n",
    "class GaussianBlur:\n",
    "    def __init__(self, kernel_size, sigma=(0.1, 2.0)):\n",
    "        self.kernel_size = kernel_size\n",
    "        self.sigma = sigma\n",
    "\n",
    "    def __call__(self, img):\n",
    "        sigma = np.random.uniform(self.sigma[0], self.sigma[1])\n",
    "        img = img.filter(ImageFilter.GaussianBlur(sigma))\n",
    "        return img"
   ]
  },
  {
   "cell_type": "markdown",
   "id": "23fc814d",
   "metadata": {},
   "source": [
    "#### Preprocess the dataset"
   ]
  },
  {
   "cell_type": "code",
   "execution_count": 5,
   "id": "4c42e7ac",
   "metadata": {},
   "outputs": [],
   "source": [
    "preprocess_transform = transforms.Compose([\n",
    "    transforms.Resize((224, 224)),\n",
    "    ContrastStretching(),\n",
    "    UnsharpMask(radius=1, percent=100, threshold=3),  \n",
    "    GaussianBlur(kernel_size=(5, 5), sigma=(0.1, 0.5)), \n",
    "    transforms.ToTensor()\n",
    "])\n",
    "\n",
    "preprocessed_dataset = datasets.ImageFolder(root=train_data_dir, transform=preprocess_transform)\n",
    "\n",
    "data_loader = DataLoader(preprocessed_dataset, batch_size=32, shuffle=True)"
   ]
  },
  {
   "cell_type": "code",
   "execution_count": 35,
   "id": "f8d720b2",
   "metadata": {},
   "outputs": [
    {
     "name": "stdout",
     "output_type": "stream",
     "text": [
      "Average PSNR: 27.424622806629483, Average SSIM: 0.9004132035124346\n"
     ]
    }
   ],
   "source": [
    "def calculate_psnr_ssim(original_dataset, preprocessed_dataset, num_samples=100, resize=(224, 224)):\n",
    "    psnr_values = []\n",
    "    ssim_values = []\n",
    "\n",
    "    for i in range(num_samples):\n",
    "        original_img = original_dataset[i][0] # original MRI\n",
    "        preprocessed_img = preprocessed_dataset[i][0] # preprocessed MRI\n",
    "\n",
    "        if not isinstance(original_img, Image.Image):\n",
    "            original_img = to_pil_image(original_img)\n",
    "        if not isinstance(preprocessed_img, Image.Image):\n",
    "            preprocessed_img = to_pil_image(preprocessed_img)\n",
    "\n",
    "        # Convert MRI to grayscale\n",
    "        original_img = original_img.convert(\"L\")\n",
    "        preprocessed_img = preprocessed_img.convert(\"L\")\n",
    "\n",
    "        # Resize images\n",
    "        original_img = original_img.resize(resize)\n",
    "        preprocessed_img = preprocessed_img.resize(resize)\n",
    "\n",
    "        # Convert images to numpy arrays\n",
    "        original_img_np = np.array(original_img)\n",
    "        preprocessed_img_np = np.array(preprocessed_img)\n",
    "\n",
    "        # Calculate PSNR and SSIM\n",
    "        psnr = peak_signal_noise_ratio(original_img_np, preprocessed_img_np, data_range=original_img_np.max() - original_img_np.min())\n",
    "        ssim = structural_similarity(original_img_np, preprocessed_img_np)\n",
    "\n",
    "        psnr_values.append(psnr)\n",
    "        ssim_values.append(ssim)\n",
    "\n",
    "    # Compute average PSNR and SSIM\n",
    "    avg_psnr = np.mean(psnr_values)\n",
    "    avg_ssim = np.mean(ssim_values)\n",
    "\n",
    "    return avg_psnr, avg_ssim\n",
    "\n",
    "# Example usage\n",
    "avg_psnr, avg_ssim = calculate_psnr_ssim(original_dataset, preprocessed_dataset)\n",
    "print(f\"Average PSNR: {avg_psnr}, Average SSIM: {avg_ssim}\")"
   ]
  },
  {
   "cell_type": "markdown",
   "id": "b9832c56",
   "metadata": {},
   "source": [
    "preprocess_transform = transforms.Compose(\n",
    "\n",
    "    transforms.Resize((224, 224)),  \n",
    "    GaussianBlur(kernel_size=(5, 5), sigma=(0.1, 2.0)),\n",
    "    transforms.Lambda(lambda x: x.filter(ImageFilter.UnsharpMask(radius=2, percent=150, threshold=3))),\n",
    "    transforms.ToTensor()\n",
    ")\n",
    "\n",
    "Average PSNR: 9.729432125669954, Average SSIM: 0.2833625979364462\n",
    "____________________________________________________________________\n",
    "\n",
    "preprocess_transform = transforms.Compose(\n",
    "\n",
    "    transforms.Resize((224, 224)),\n",
    "    transforms.ToTensor()\n",
    ")\n",
    "\n",
    "Average PSNR: 10.2026194786185, Average SSIM: 0.32374658927511385\n",
    "____________________________________________________________________\n",
    "\n",
    "preprocess_transform = transforms.Compose(\n",
    "\n",
    "    transforms.Resize((224, 224)),\n",
    "    GaussianBlur(kernel_size=(5, 5), sigma=(0.1, 2.0)), \n",
    "    transforms.ToTensor(),\n",
    ")\n",
    "\n",
    "Average PSNR: 34.479706650199184, Average SSIM: 0.9638484917028203\n",
    "\n",
    "____________________________________________________________________\n",
    "\n",
    "preprocess_transform = transforms.Compose(\n",
    "\n",
    "    transforms.Resize((224, 224)),\n",
    "    GaussianBlur(kernel_size=(5, 5), sigma=(0.1, 1.0)), \n",
    "    transforms.ToTensor(),\n",
    ")\n",
    "\n",
    "Average PSNR: 40.03000513450271, Average SSIM: 0.9923509776637894\n",
    "\n",
    "____________________________________________________________________\n",
    "preprocess_transform = transforms.Compose(\n",
    "\n",
    "    transforms.Resize((224, 224)),\n",
    "    transforms.Lambda(lambda img: img.filter(ImageFilter.UnsharpMask(radius=2, percent=100, threshold=3))),\n",
    "    GaussianBlur(kernel_size=(5, 5), sigma=(0.1, 0.5)), \n",
    "    transforms.ToTensor()\n",
    ")\n",
    "\n",
    "Average PSNR: 28.919164968402907, Average SSIM: 0.9646276430637585\n",
    "\n",
    "____________________________________________________________________\n",
    "preprocess_transform = transforms.Compose(\n",
    "\n",
    "    transforms.Resize((224, 224)),\n",
    "    ContrastStretching(),\n",
    "    transforms.Lambda(lambda img: img.filter(ImageFilter.UnsharpMask(radius=1, percent=100, threshold=3))),\n",
    "    GaussianBlur(kernel_size=(5, 5), sigma=(0.1, 0.5)), \n",
    "    transforms.ToTensor()\n",
    ")\n",
    "\n",
    "Average PSNR: 27.194490517269728, Average SSIM: 0.8948121010151182"
   ]
  },
  {
   "cell_type": "markdown",
   "id": "d6c08b6c",
   "metadata": {},
   "source": [
    "#### MRI scan counts in each class of the dataset"
   ]
  },
  {
   "cell_type": "code",
   "execution_count": 6,
   "id": "19b87272",
   "metadata": {},
   "outputs": [
    {
     "name": "stdout",
     "output_type": "stream",
     "text": [
      "Number of images in MildDemented: 8960\n",
      "Number of images in ModerateDemented: 6464\n",
      "Number of images in NonDemented: 9600\n",
      "Number of images in VeryMildDemented: 8960\n",
      "\n",
      "Total MRIs in the dataset = 33984\n"
     ]
    }
   ],
   "source": [
    "MildDemented = '/Users/savin/Desktop/FYP/Implementation/kaggle_dataset/AugmentedAlzheimerDataset/MildDemented'\n",
    "ModerateDemented = '/Users/savin/Desktop/FYP/Implementation/kaggle_dataset/AugmentedAlzheimerDataset/ModerateDemented'\n",
    "NonDemented = '/Users/savin/Desktop/FYP/Implementation/kaggle_dataset/AugmentedAlzheimerDataset/NonDemented'\n",
    "VeryMildDemented = '/Users/savin/Desktop/FYP/Implementation/kaggle_dataset/AugmentedAlzheimerDataset/VeryMildDemented'\n",
    "\n",
    "count_MildDemented = len(os.listdir(MildDemented))\n",
    "count_ModerateDemented = len(os.listdir(ModerateDemented))\n",
    "count_NonDemented = len(os.listdir(NonDemented))\n",
    "count_VeryMildDemented = len(os.listdir(VeryMildDemented))\n",
    "\n",
    "print(f\"Number of images in MildDemented: {count_MildDemented}\")\n",
    "print(f\"Number of images in ModerateDemented: {count_ModerateDemented}\")\n",
    "print(f\"Number of images in NonDemented: {count_NonDemented}\")\n",
    "print(f\"Number of images in VeryMildDemented: {count_VeryMildDemented}\")\n",
    "\n",
    "print(f\"\\nTotal MRIs in the dataset = {count_MildDemented+count_ModerateDemented+count_NonDemented+count_VeryMildDemented}\" )"
   ]
  },
  {
   "cell_type": "markdown",
   "id": "2f430846",
   "metadata": {},
   "source": [
    "#### Sample MRI before and after preprocessing"
   ]
  },
  {
   "cell_type": "code",
   "execution_count": 7,
   "id": "7bfe3ff7",
   "metadata": {},
   "outputs": [
    {
     "data": {
      "image/png": "[encoded data removed]",
      "text/plain": [
       "<Figure size 864x432 with 2 Axes>"
      ]
     },
     "metadata": {
      "needs_background": "light"
     },
     "output_type": "display_data"
    }
   ],
   "source": [
    "sample_image_path = os.path.join(MildDemented, os.listdir(MildDemented)[0])\n",
    "\n",
    "original_image = Image.open(sample_image_path)\n",
    "\n",
    "# Apply the preprocessing transforms\n",
    "preprocessed_image = preprocess_transform(original_image)\n",
    "\n",
    "preprocessed_image = transforms.ToPILImage()(preprocessed_image)\n",
    "\n",
    "# Display the images\n",
    "plt.figure(figsize=(12, 6))\n",
    "\n",
    "plt.subplot(1, 2, 1)\n",
    "plt.imshow(original_image)\n",
    "plt.title(\"Original Image\")\n",
    "plt.axis('off')\n",
    "\n",
    "plt.subplot(1, 2, 2)\n",
    "plt.imshow(preprocessed_image)\n",
    "plt.title(\"Preprocessed Image\")\n",
    "plt.axis('off')\n",
    "\n",
    "plt.show()"
   ]
  },
  {
   "cell_type": "markdown",
   "id": "5f4cb2ed",
   "metadata": {},
   "source": [
    "### Dataset splitting & creating DataLoaders"
   ]
  },
  {
   "cell_type": "code",
   "execution_count": 8,
   "id": "0409f806",
   "metadata": {},
   "outputs": [],
   "source": [
    "train_size = int(0.70 * len(preprocessed_dataset))\n",
    "val_size = int(0.15 * len(preprocessed_dataset))\n",
    "test_size = len(preprocessed_dataset) - train_size - val_size\n",
    "\n",
    "train_dataset, val_dataset, test_dataset = random_split(preprocessed_dataset, [train_size, val_size, test_size])\n",
    "\n",
    "# Create DataLoaders\n",
    "train_loader = DataLoader(train_dataset, batch_size=32, shuffle=True)\n",
    "val_loader = DataLoader(val_dataset, batch_size=32, shuffle=True)\n",
    "test_loader = DataLoader(test_dataset, batch_size=32, shuffle=False)\n",
    "\n",
    "dataloaders = {'train': train_loader, 'val': val_loader, 'test': test_loader}"
   ]
  },
  {
   "cell_type": "markdown",
   "id": "e020f27e",
   "metadata": {},
   "source": [
    "## Building CNN Model 1"
   ]
  },
  {
   "cell_type": "code",
   "execution_count": 9,
   "id": "3de04856",
   "metadata": {},
   "outputs": [
    {
     "name": "stdout",
     "output_type": "stream",
     "text": [
      "----------------------------------------------------------------\n",
      "        Layer (type)               Output Shape         Param #\n",
      "================================================================\n",
      "            Conv2d-1           [-1, 64, 55, 55]          23,296\n",
      "       BatchNorm2d-2           [-1, 64, 55, 55]             128\n",
      "         MaxPool2d-3           [-1, 64, 27, 27]               0\n",
      "            Conv2d-4          [-1, 128, 27, 27]         204,928\n",
      "       BatchNorm2d-5          [-1, 128, 27, 27]             256\n",
      "         MaxPool2d-6          [-1, 128, 13, 13]               0\n",
      "            Conv2d-7          [-1, 256, 13, 13]         295,168\n",
      "       BatchNorm2d-8          [-1, 256, 13, 13]             512\n",
      "            Conv2d-9          [-1, 256, 13, 13]         590,080\n",
      "      BatchNorm2d-10          [-1, 256, 13, 13]             512\n",
      "           Conv2d-11          [-1, 256, 13, 13]         590,080\n",
      "      BatchNorm2d-12          [-1, 256, 13, 13]             512\n",
      "        MaxPool2d-13            [-1, 256, 6, 6]               0\n",
      "           Conv2d-14            [-1, 384, 6, 6]         885,120\n",
      "      BatchNorm2d-15            [-1, 384, 6, 6]             768\n",
      "           Linear-16                 [-1, 4096]      56,627,200\n",
      "          Dropout-17                 [-1, 4096]               0\n",
      "           Linear-18                 [-1, 1024]       4,195,328\n",
      "          Dropout-19                 [-1, 1024]               0\n",
      "           Linear-20                    [-1, 4]           4,100\n",
      "================================================================\n",
      "Total params: 63,417,988\n",
      "Trainable params: 63,417,988\n",
      "Non-trainable params: 0\n",
      "----------------------------------------------------------------\n",
      "Input size (MB): 0.57\n",
      "Forward/backward pass size (MB): 7.24\n",
      "Params size (MB): 241.92\n",
      "Estimated Total Size (MB): 249.73\n",
      "----------------------------------------------------------------\n"
     ]
    }
   ],
   "source": [
    "class CNN1(nn.Module):\n",
    "    def __init__(self, num_classes=4):\n",
    "        super(CNN1, self).__init__()\n",
    "        self.conv1 = nn.Conv2d(3, 64, kernel_size=11, stride=4, padding=2)\n",
    "        self.bn1 = nn.BatchNorm2d(64)\n",
    "        self.conv2 = nn.Conv2d(64, 128, kernel_size=5, padding=2)\n",
    "        self.bn2 = nn.BatchNorm2d(128)\n",
    "        self.conv3 = nn.Conv2d(128, 256, kernel_size=3, padding=1)\n",
    "        self.bn3 = nn.BatchNorm2d(256)\n",
    "        self.conv4 = nn.Conv2d(256, 256, kernel_size=3, padding=1)\n",
    "        self.bn4 = nn.BatchNorm2d(256)\n",
    "        self.conv5 = nn.Conv2d(256, 256, kernel_size=3, padding=1)\n",
    "        self.bn5 = nn.BatchNorm2d(256)\n",
    "        self.conv6 = nn.Conv2d(256, 384, kernel_size=3, padding=1)\n",
    "        self.bn6 = nn.BatchNorm2d(384)\n",
    "\n",
    "        self.pool = nn.MaxPool2d(kernel_size=3, stride=2)\n",
    "\n",
    "        self.fc1 = nn.Linear(384 * 6 * 6, 4096)\n",
    "        self.fc2 = nn.Linear(4096, 1024)\n",
    "        self.output = nn.Linear(1024, num_classes)\n",
    "\n",
    "        self.dropout = nn.Dropout(0.5)\n",
    "\n",
    "    def forward(self, x):\n",
    "        x = self.pool(F.leaky_relu(self.bn1(self.conv1(x)), negative_slope=0.01))\n",
    "        x = self.pool(F.leaky_relu(self.bn2(self.conv2(x)), negative_slope=0.01))\n",
    "        x = F.leaky_relu(self.bn3(self.conv3(x)), negative_slope=0.01)\n",
    "        x = F.leaky_relu(self.bn4(self.conv4(x)), negative_slope=0.01)\n",
    "        x = self.pool(F.leaky_relu(self.bn5(self.conv5(x)), negative_slope=0.01))\n",
    "        x = F.leaky_relu(self.bn6(self.conv6(x)), negative_slope=0.01)\n",
    "\n",
    "        x = x.view(x.size(0), -1)\n",
    "\n",
    "        x = self.dropout(F.leaky_relu(self.fc1(x), negative_slope=0.01))\n",
    "        x = self.dropout(F.leaky_relu(self.fc2(x), negative_slope=0.01))\n",
    "        \n",
    "        x = self.output(x)\n",
    "\n",
    "        return x\n",
    "\n",
    "model1 = CNN1(num_classes=4)\n",
    "\n",
    "summary(model1, (3,224,224))"
   ]
  },
  {
   "cell_type": "markdown",
   "id": "e4872e99",
   "metadata": {},
   "source": [
    "## Training CNN Model 1"
   ]
  },
  {
   "cell_type": "code",
   "execution_count": 345,
   "id": "3c256c34",
   "metadata": {},
   "outputs": [
    {
     "name": "stderr",
     "output_type": "stream",
     "text": [
      "Epoch 1 [train] Progress: 100%|████████████| 744/744 [21:15<00:00,  1.71s/batch]\n"
     ]
    },
    {
     "name": "stdout",
     "output_type": "stream",
     "text": [
      "train Loss: 1.3237 Acc: 0.3816\n"
     ]
    },
    {
     "name": "stderr",
     "output_type": "stream",
     "text": [
      "Epoch 1 [val] Progress: 100%|██████████████| 160/160 [01:07<00:00,  2.38batch/s]\n"
     ]
    },
    {
     "name": "stdout",
     "output_type": "stream",
     "text": [
      "val Loss: 1.6542 Acc: 0.2733\n"
     ]
    },
    {
     "name": "stderr",
     "output_type": "stream",
     "text": [
      "Epoch 2 [train] Progress: 100%|████████████| 744/744 [23:48<00:00,  1.92s/batch]\n"
     ]
    },
    {
     "name": "stdout",
     "output_type": "stream",
     "text": [
      "train Loss: 1.0275 Acc: 0.5185\n"
     ]
    },
    {
     "name": "stderr",
     "output_type": "stream",
     "text": [
      "Epoch 2 [val] Progress: 100%|██████████████| 160/160 [01:14<00:00,  2.15batch/s]\n"
     ]
    },
    {
     "name": "stdout",
     "output_type": "stream",
     "text": [
      "val Loss: 0.9786 Acc: 0.5458\n"
     ]
    },
    {
     "name": "stderr",
     "output_type": "stream",
     "text": [
      "Epoch 3 [train] Progress: 100%|████████████| 744/744 [22:56<00:00,  1.85s/batch]\n"
     ]
    },
    {
     "name": "stdout",
     "output_type": "stream",
     "text": [
      "train Loss: 0.8535 Acc: 0.5903\n"
     ]
    },
    {
     "name": "stderr",
     "output_type": "stream",
     "text": [
      "Epoch 3 [val] Progress: 100%|██████████████| 160/160 [01:09<00:00,  2.32batch/s]\n"
     ]
    },
    {
     "name": "stdout",
     "output_type": "stream",
     "text": [
      "val Loss: 0.8713 Acc: 0.5548\n"
     ]
    },
    {
     "name": "stderr",
     "output_type": "stream",
     "text": [
      "Epoch 4 [train] Progress: 100%|████████████| 744/744 [22:30<00:00,  1.81s/batch]\n"
     ]
    },
    {
     "name": "stdout",
     "output_type": "stream",
     "text": [
      "train Loss: 0.7914 Acc: 0.6234\n"
     ]
    },
    {
     "name": "stderr",
     "output_type": "stream",
     "text": [
      "Epoch 4 [val] Progress: 100%|██████████████| 160/160 [01:10<00:00,  2.25batch/s]\n"
     ]
    },
    {
     "name": "stdout",
     "output_type": "stream",
     "text": [
      "val Loss: 0.9906 Acc: 0.5360\n"
     ]
    },
    {
     "name": "stderr",
     "output_type": "stream",
     "text": [
      "Epoch 5 [train] Progress: 100%|████████████| 744/744 [25:41<00:00,  2.07s/batch]\n"
     ]
    },
    {
     "name": "stdout",
     "output_type": "stream",
     "text": [
      "train Loss: 0.7477 Acc: 0.6436\n"
     ]
    },
    {
     "name": "stderr",
     "output_type": "stream",
     "text": [
      "Epoch 5 [val] Progress: 100%|██████████████| 160/160 [02:02<00:00,  1.30batch/s]\n"
     ]
    },
    {
     "name": "stdout",
     "output_type": "stream",
     "text": [
      "val Loss: 0.8744 Acc: 0.5386\n"
     ]
    },
    {
     "name": "stderr",
     "output_type": "stream",
     "text": [
      "Epoch 6 [train] Progress: 100%|████████████| 744/744 [29:59<00:00,  2.42s/batch]\n"
     ]
    },
    {
     "name": "stdout",
     "output_type": "stream",
     "text": [
      "train Loss: 0.7006 Acc: 0.6719\n"
     ]
    },
    {
     "name": "stderr",
     "output_type": "stream",
     "text": [
      "Epoch 6 [val] Progress: 100%|██████████████| 160/160 [01:33<00:00,  1.71batch/s]\n"
     ]
    },
    {
     "name": "stdout",
     "output_type": "stream",
     "text": [
      "val Loss: 1.0309 Acc: 0.4930\n"
     ]
    },
    {
     "name": "stderr",
     "output_type": "stream",
     "text": [
      "Epoch 7 [train] Progress: 100%|████████████| 744/744 [30:29<00:00,  2.46s/batch]\n"
     ]
    },
    {
     "name": "stdout",
     "output_type": "stream",
     "text": [
      "train Loss: 0.6696 Acc: 0.6910\n"
     ]
    },
    {
     "name": "stderr",
     "output_type": "stream",
     "text": [
      "Epoch 7 [val] Progress: 100%|██████████████| 160/160 [01:39<00:00,  1.61batch/s]\n"
     ]
    },
    {
     "name": "stdout",
     "output_type": "stream",
     "text": [
      "val Loss: 1.3398 Acc: 0.4815\n"
     ]
    },
    {
     "name": "stderr",
     "output_type": "stream",
     "text": [
      "Epoch 8 [train] Progress: 100%|████████████| 744/744 [30:44<00:00,  2.48s/batch]\n"
     ]
    },
    {
     "name": "stdout",
     "output_type": "stream",
     "text": [
      "train Loss: 0.6261 Acc: 0.7121\n"
     ]
    },
    {
     "name": "stderr",
     "output_type": "stream",
     "text": [
      "Epoch 8 [val] Progress: 100%|██████████████| 160/160 [01:33<00:00,  1.71batch/s]\n"
     ]
    },
    {
     "name": "stdout",
     "output_type": "stream",
     "text": [
      "val Loss: 0.6014 Acc: 0.7326\n"
     ]
    },
    {
     "name": "stderr",
     "output_type": "stream",
     "text": [
      "Epoch 9 [train] Progress: 100%|████████████| 744/744 [27:28<00:00,  2.22s/batch]\n"
     ]
    },
    {
     "name": "stdout",
     "output_type": "stream",
     "text": [
      "train Loss: 0.5959 Acc: 0.7293\n"
     ]
    },
    {
     "name": "stderr",
     "output_type": "stream",
     "text": [
      "Epoch 9 [val] Progress: 100%|██████████████| 160/160 [01:30<00:00,  1.77batch/s]\n"
     ]
    },
    {
     "name": "stdout",
     "output_type": "stream",
     "text": [
      "val Loss: 0.9389 Acc: 0.6620\n"
     ]
    },
    {
     "name": "stderr",
     "output_type": "stream",
     "text": [
      "Epoch 10 [train] Progress: 100%|███████████| 744/744 [27:21<00:00,  2.21s/batch]\n"
     ]
    },
    {
     "name": "stdout",
     "output_type": "stream",
     "text": [
      "train Loss: 0.5518 Acc: 0.7505\n"
     ]
    },
    {
     "name": "stderr",
     "output_type": "stream",
     "text": [
      "Epoch 10 [val] Progress: 100%|█████████████| 160/160 [01:28<00:00,  1.81batch/s]\n"
     ]
    },
    {
     "name": "stdout",
     "output_type": "stream",
     "text": [
      "val Loss: 0.4871 Acc: 0.7726\n"
     ]
    },
    {
     "name": "stderr",
     "output_type": "stream",
     "text": [
      "Epoch 11 [train] Progress: 100%|███████████| 744/744 [26:24<00:00,  2.13s/batch]\n"
     ]
    },
    {
     "name": "stdout",
     "output_type": "stream",
     "text": [
      "train Loss: 0.5218 Acc: 0.7577\n"
     ]
    },
    {
     "name": "stderr",
     "output_type": "stream",
     "text": [
      "Epoch 11 [val] Progress: 100%|█████████████| 160/160 [01:22<00:00,  1.94batch/s]\n"
     ]
    },
    {
     "name": "stdout",
     "output_type": "stream",
     "text": [
      "val Loss: 0.4733 Acc: 0.7777\n"
     ]
    },
    {
     "name": "stderr",
     "output_type": "stream",
     "text": [
      "Epoch 12 [train] Progress: 100%|███████████| 744/744 [26:38<00:00,  2.15s/batch]\n"
     ]
    },
    {
     "name": "stdout",
     "output_type": "stream",
     "text": [
      "train Loss: 0.4946 Acc: 0.7765\n"
     ]
    },
    {
     "name": "stderr",
     "output_type": "stream",
     "text": [
      "Epoch 12 [val] Progress: 100%|█████████████| 160/160 [01:25<00:00,  1.87batch/s]\n"
     ]
    },
    {
     "name": "stdout",
     "output_type": "stream",
     "text": [
      "val Loss: 0.6057 Acc: 0.6937\n"
     ]
    },
    {
     "name": "stderr",
     "output_type": "stream",
     "text": [
      "Epoch 13 [train] Progress: 100%|███████████| 744/744 [27:27<00:00,  2.21s/batch]\n"
     ]
    },
    {
     "name": "stdout",
     "output_type": "stream",
     "text": [
      "train Loss: 0.4705 Acc: 0.7880\n"
     ]
    },
    {
     "name": "stderr",
     "output_type": "stream",
     "text": [
      "Epoch 13 [val] Progress: 100%|█████████████| 160/160 [01:28<00:00,  1.80batch/s]\n"
     ]
    },
    {
     "name": "stdout",
     "output_type": "stream",
     "text": [
      "val Loss: 0.4687 Acc: 0.7742\n"
     ]
    },
    {
     "name": "stderr",
     "output_type": "stream",
     "text": [
      "Epoch 14 [train] Progress: 100%|███████████| 744/744 [26:45<00:00,  2.16s/batch]\n"
     ]
    },
    {
     "name": "stdout",
     "output_type": "stream",
     "text": [
      "train Loss: 0.4379 Acc: 0.8028\n"
     ]
    },
    {
     "name": "stderr",
     "output_type": "stream",
     "text": [
      "Epoch 14 [val] Progress: 100%|█████████████| 160/160 [01:26<00:00,  1.84batch/s]\n"
     ]
    },
    {
     "name": "stdout",
     "output_type": "stream",
     "text": [
      "val Loss: 0.4712 Acc: 0.7932\n"
     ]
    },
    {
     "name": "stderr",
     "output_type": "stream",
     "text": [
      "Epoch 15 [train] Progress: 100%|███████████| 744/744 [26:14<00:00,  2.12s/batch]\n"
     ]
    },
    {
     "name": "stdout",
     "output_type": "stream",
     "text": [
      "train Loss: 0.4182 Acc: 0.8155\n"
     ]
    },
    {
     "name": "stderr",
     "output_type": "stream",
     "text": [
      "Epoch 15 [val] Progress: 100%|█████████████| 160/160 [01:21<00:00,  1.96batch/s]\n"
     ]
    },
    {
     "name": "stdout",
     "output_type": "stream",
     "text": [
      "val Loss: 0.3934 Acc: 0.8413\n"
     ]
    },
    {
     "name": "stderr",
     "output_type": "stream",
     "text": [
      "Epoch 16 [train] Progress: 100%|███████████| 744/744 [26:32<00:00,  2.14s/batch]\n"
     ]
    },
    {
     "name": "stdout",
     "output_type": "stream",
     "text": [
      "train Loss: 0.3904 Acc: 0.8286\n"
     ]
    },
    {
     "name": "stderr",
     "output_type": "stream",
     "text": [
      "Epoch 16 [val] Progress: 100%|█████████████| 160/160 [01:25<00:00,  1.88batch/s]\n"
     ]
    },
    {
     "name": "stdout",
     "output_type": "stream",
     "text": [
      "val Loss: 0.3664 Acc: 0.8466\n"
     ]
    },
    {
     "name": "stderr",
     "output_type": "stream",
     "text": [
      "Epoch 17 [train] Progress: 100%|███████████| 744/744 [25:33<00:00,  2.06s/batch]\n"
     ]
    },
    {
     "name": "stdout",
     "output_type": "stream",
     "text": [
      "train Loss: 0.3673 Acc: 0.8415\n"
     ]
    },
    {
     "name": "stderr",
     "output_type": "stream",
     "text": [
      "Epoch 17 [val] Progress: 100%|█████████████| 160/160 [01:19<00:00,  2.02batch/s]\n"
     ]
    },
    {
     "name": "stdout",
     "output_type": "stream",
     "text": [
      "val Loss: 0.4622 Acc: 0.8170\n"
     ]
    },
    {
     "name": "stderr",
     "output_type": "stream",
     "text": [
      "Epoch 18 [train] Progress: 100%|███████████| 744/744 [25:58<00:00,  2.10s/batch]\n"
     ]
    },
    {
     "name": "stdout",
     "output_type": "stream",
     "text": [
      "train Loss: 0.3430 Acc: 0.8559\n"
     ]
    },
    {
     "name": "stderr",
     "output_type": "stream",
     "text": [
      "Epoch 18 [val] Progress: 100%|█████████████| 160/160 [01:20<00:00,  1.99batch/s]\n"
     ]
    },
    {
     "name": "stdout",
     "output_type": "stream",
     "text": [
      "val Loss: 0.3063 Acc: 0.8687\n"
     ]
    },
    {
     "name": "stderr",
     "output_type": "stream",
     "text": [
      "Epoch 19 [train] Progress: 100%|███████████| 744/744 [26:59<00:00,  2.18s/batch]\n"
     ]
    },
    {
     "name": "stdout",
     "output_type": "stream",
     "text": [
      "train Loss: 0.3278 Acc: 0.8625\n"
     ]
    },
    {
     "name": "stderr",
     "output_type": "stream",
     "text": [
      "Epoch 19 [val] Progress: 100%|█████████████| 160/160 [01:25<00:00,  1.87batch/s]\n"
     ]
    },
    {
     "name": "stdout",
     "output_type": "stream",
     "text": [
      "val Loss: 0.3276 Acc: 0.8476\n"
     ]
    },
    {
     "name": "stderr",
     "output_type": "stream",
     "text": [
      "Epoch 20 [train] Progress: 100%|███████████| 744/744 [25:34<00:00,  2.06s/batch]\n"
     ]
    },
    {
     "name": "stdout",
     "output_type": "stream",
     "text": [
      "train Loss: 0.2920 Acc: 0.8806\n"
     ]
    },
    {
     "name": "stderr",
     "output_type": "stream",
     "text": [
      "Epoch 20 [val] Progress: 100%|█████████████| 160/160 [01:27<00:00,  1.83batch/s]\n"
     ]
    },
    {
     "name": "stdout",
     "output_type": "stream",
     "text": [
      "val Loss: 0.3053 Acc: 0.8705\n"
     ]
    },
    {
     "name": "stderr",
     "output_type": "stream",
     "text": [
      "Epoch 21 [train] Progress: 100%|███████████| 744/744 [24:47<00:00,  2.00s/batch]\n"
     ]
    },
    {
     "name": "stdout",
     "output_type": "stream",
     "text": [
      "train Loss: 0.2772 Acc: 0.8877\n"
     ]
    },
    {
     "name": "stderr",
     "output_type": "stream",
     "text": [
      "Epoch 21 [val] Progress: 100%|█████████████| 160/160 [01:21<00:00,  1.96batch/s]\n"
     ]
    },
    {
     "name": "stdout",
     "output_type": "stream",
     "text": [
      "val Loss: 0.2119 Acc: 0.9149\n"
     ]
    },
    {
     "name": "stderr",
     "output_type": "stream",
     "text": [
      "Epoch 22 [train] Progress: 100%|███████████| 744/744 [24:13<00:00,  1.95s/batch]\n"
     ]
    },
    {
     "name": "stdout",
     "output_type": "stream",
     "text": [
      "train Loss: 0.2597 Acc: 0.8954\n"
     ]
    },
    {
     "name": "stderr",
     "output_type": "stream",
     "text": [
      "Epoch 22 [val] Progress: 100%|█████████████| 160/160 [01:20<00:00,  1.99batch/s]\n"
     ]
    },
    {
     "name": "stdout",
     "output_type": "stream",
     "text": [
      "val Loss: 0.3000 Acc: 0.8958\n"
     ]
    },
    {
     "name": "stderr",
     "output_type": "stream",
     "text": [
      "Epoch 23 [train] Progress: 100%|███████████| 744/744 [22:59<00:00,  1.85s/batch]\n"
     ]
    },
    {
     "name": "stdout",
     "output_type": "stream",
     "text": [
      "train Loss: 0.2412 Acc: 0.9051\n"
     ]
    },
    {
     "name": "stderr",
     "output_type": "stream",
     "text": [
      "Epoch 23 [val] Progress: 100%|█████████████| 160/160 [01:14<00:00,  2.14batch/s]\n"
     ]
    },
    {
     "name": "stdout",
     "output_type": "stream",
     "text": [
      "val Loss: 0.2290 Acc: 0.9154\n"
     ]
    },
    {
     "name": "stderr",
     "output_type": "stream",
     "text": [
      "Epoch 24 [train] Progress: 100%|███████████| 744/744 [29:18<00:00,  2.36s/batch]\n"
     ]
    },
    {
     "name": "stdout",
     "output_type": "stream",
     "text": [
      "train Loss: 0.2233 Acc: 0.9131\n"
     ]
    },
    {
     "name": "stderr",
     "output_type": "stream",
     "text": [
      "Epoch 24 [val] Progress: 100%|█████████████| 160/160 [01:16<00:00,  2.09batch/s]\n"
     ]
    },
    {
     "name": "stdout",
     "output_type": "stream",
     "text": [
      "val Loss: 0.2386 Acc: 0.9160\n"
     ]
    },
    {
     "name": "stderr",
     "output_type": "stream",
     "text": [
      "Epoch 25 [train] Progress: 100%|███████████| 744/744 [24:00<00:00,  1.94s/batch]\n"
     ]
    },
    {
     "name": "stdout",
     "output_type": "stream",
     "text": [
      "train Loss: 0.2051 Acc: 0.9218\n"
     ]
    },
    {
     "name": "stderr",
     "output_type": "stream",
     "text": [
      "Epoch 25 [val] Progress: 100%|█████████████| 160/160 [01:15<00:00,  2.12batch/s]\n"
     ]
    },
    {
     "name": "stdout",
     "output_type": "stream",
     "text": [
      "val Loss: 0.5017 Acc: 0.8713\n"
     ]
    },
    {
     "data": {
      "image/png": "[encoded data removed]",
      "text/plain": [
       "<Figure size 864x360 with 2 Axes>"
      ]
     },
     "metadata": {
      "needs_background": "light"
     },
     "output_type": "display_data"
    }
   ],
   "source": [
    "model1 = CNN1(num_classes=4).to(device)\n",
    "\n",
    "criterion = nn.CrossEntropyLoss()\n",
    "optimizer = optim.Adam(model1.parameters(), lr=0.0001, weight_decay=1e-4)\n",
    "scheduler = lr_scheduler.StepLR(optimizer, step_size=7, gamma=0.1)\n",
    "\n",
    "def train_epoch(epoch_index, train_loader, model, optimizer):\n",
    "    model.train()  \n",
    "    running_loss = 0.0\n",
    "    correct_pred = 0\n",
    "    total_pred = 0\n",
    "\n",
    "    for inputs, labels in tqdm(train_loader, desc=f\"Epoch {epoch_index + 1} [train] Progress\", unit=\"batch\"):\n",
    "        inputs, labels = inputs.to(device), labels.to(device)\n",
    "        optimizer.zero_grad()\n",
    "        outputs = model(inputs)\n",
    "        loss = criterion(outputs, labels)\n",
    "        loss.backward()\n",
    "        optimizer.step()\n",
    "\n",
    "        running_loss += loss.item()\n",
    "        _, predictions = torch.max(outputs, 1)\n",
    "        correct_pred += (predictions == labels).sum().item()\n",
    "        total_pred += labels.size(0)\n",
    "\n",
    "    avg_loss = running_loss / len(train_loader)\n",
    "    avg_acc = correct_pred / total_pred\n",
    "    print(f'train Loss: {avg_loss:.4f} Acc: {avg_acc:.4f}')\n",
    "    return avg_loss, avg_acc\n",
    "\n",
    "def validate_epoch(epoch_index, val_loader, model):\n",
    "    model.eval() \n",
    "    running_loss = 0.0\n",
    "    correct_pred = 0\n",
    "    total_pred = 0\n",
    "\n",
    "    with torch.no_grad():\n",
    "        for inputs, labels in tqdm(val_loader, desc=f\"Epoch {epoch_index + 1} [val] Progress\", unit=\"batch\"):\n",
    "            inputs, labels = inputs.to(device), labels.to(device)\n",
    "            outputs = model(inputs)\n",
    "            loss = criterion(outputs, labels)\n",
    "\n",
    "            running_loss += loss.item()\n",
    "            _, predictions = torch.max(outputs, 1)\n",
    "            correct_pred += (predictions == labels).sum().item()\n",
    "            total_pred += labels.size(0)\n",
    "\n",
    "    avg_loss = running_loss / len(val_loader)\n",
    "    avg_acc = correct_pred / total_pred\n",
    "    print(f'val Loss: {avg_loss:.4f} Acc: {avg_acc:.4f}')\n",
    "    return avg_loss, avg_acc\n",
    "\n",
    "# Training loop\n",
    "num_epochs = 25\n",
    "train_losses, train_accuracies = [], []\n",
    "val_losses, val_accuracies = [], []\n",
    "best_val_loss = float('inf')\n",
    "patience = 5\n",
    "\n",
    "for epoch in range(num_epochs):\n",
    "    train_loss, train_acc = train_epoch(epoch, train_loader, model1, optimizer)\n",
    "    val_loss, val_acc = validate_epoch(epoch, val_loader, model1)\n",
    "\n",
    "    if val_loss < best_val_loss:\n",
    "        best_val_loss = val_loss\n",
    "        trigger_times = 0\n",
    "        torch.save(model1.state_dict(), 'model1.pth')\n",
    "    else:\n",
    "        trigger_times += 1\n",
    "        if trigger_times >= patience:\n",
    "            print(f\"Early stopping at epoch {epoch+1}\")\n",
    "            break\n",
    "\n",
    "    train_losses.append(train_loss)\n",
    "    train_accuracies.append(train_acc)\n",
    "    val_losses.append(val_loss)\n",
    "    val_accuracies.append(val_acc)\n",
    "\n",
    "# Plotting\n",
    "plt.figure(figsize=(12, 5))\n",
    "plt.subplot(1, 2, 1)\n",
    "plt.plot(train_losses, label='Training Loss')\n",
    "plt.plot(val_losses, label='Validation Loss')\n",
    "plt.legend()\n",
    "plt.title('Loss over epochs')\n",
    "\n",
    "plt.subplot(1, 2, 2)\n",
    "plt.plot(train_accuracies, label='Training Accuracy')\n",
    "plt.plot(val_accuracies, label='Validation Accuracy')\n",
    "plt.legend()\n",
    "plt.title('Accuracy over epochs')\n",
    "\n",
    "plt.show()"
   ]
  },
  {
   "cell_type": "code",
   "execution_count": 118,
   "id": "9987ba22",
   "metadata": {},
   "outputs": [
    {
     "name": "stdout",
     "output_type": "stream",
     "text": [
      "                  precision    recall  f1-score   support\n",
      "\n",
      "    MildDemented       0.99      0.71      0.83      1351\n",
      "ModerateDemented       0.78      1.00      0.87       939\n",
      "     NonDemented       0.82      0.92      0.87      1427\n",
      "VeryMildDemented       0.81      0.77      0.79      1382\n",
      "\n",
      "        accuracy                           0.84      5099\n",
      "       macro avg       0.85      0.85      0.84      5099\n",
      "    weighted avg       0.85      0.84      0.84      5099\n",
      "\n"
     ]
    }
   ],
   "source": [
    "# classification report (test loader) - modified AlexNet\n",
    "model1 = CNN1(num_classes=4).to(device)\n",
    "\n",
    "model1.load_state_dict(torch.load('CNN2.pth'))\n",
    "\n",
    "def evaluate_model(model, dataloader):\n",
    "    model.eval() \n",
    "    true_labels = []\n",
    "    predictions = []\n",
    "\n",
    "    with torch.no_grad():\n",
    "        for inputs, labels in dataloader:\n",
    "            inputs, labels = inputs.to(device), labels.to(device)\n",
    "\n",
    "            outputs = model(inputs)\n",
    "            _, preds = torch.max(outputs, 1)\n",
    "\n",
    "            true_labels.extend(labels.cpu().numpy())\n",
    "            predictions.extend(preds.cpu().numpy())\n",
    "\n",
    "    return true_labels, predictions\n",
    "\n",
    "# Evaluate the model\n",
    "true_labels, predictions = evaluate_model(model1, test_loader)\n",
    "\n",
    "# Print classification report\n",
    "print(classification_report(true_labels, predictions, target_names=['MildDemented', 'ModerateDemented', 'NonDemented', 'VeryMildDemented'], zero_division=0))"
   ]
  },
  {
   "cell_type": "code",
   "execution_count": 119,
   "id": "abfd4da0",
   "metadata": {},
   "outputs": [
    {
     "data": {
      "image/png": "[encoded data removed]",
      "text/plain": [
       "<Figure size 720x576 with 2 Axes>"
      ]
     },
     "metadata": {
      "needs_background": "light"
     },
     "output_type": "display_data"
    }
   ],
   "source": [
    "# Confusion Matrix on Test Loader\n",
    "\n",
    "def get_predictions(model, dataloader):\n",
    "    model.eval()  \n",
    "    true_labels = []\n",
    "    predictions = []\n",
    "\n",
    "    with torch.no_grad():\n",
    "        for inputs, labels in dataloader:\n",
    "            inputs, labels = inputs.to(device), labels.to(device)\n",
    "            outputs = model(inputs)\n",
    "            _, preds = torch.max(outputs, 1)\n",
    "\n",
    "            true_labels.extend(labels.cpu().numpy())\n",
    "            predictions.extend(preds.cpu().numpy())\n",
    "\n",
    "    return true_labels, predictions\n",
    "\n",
    "# Evaluate the model\n",
    "true_labels, predictions = get_predictions(model1, test_loader)\n",
    "\n",
    "# Compute the confusion matrix\n",
    "cm = confusion_matrix(true_labels, predictions)\n",
    "class_names = ['MildDemented', 'ModerateDemented', 'NonDemented', 'VeryMildDemented']\n",
    "\n",
    "# Plot the confusion matrix\n",
    "plt.figure(figsize=(10, 8))\n",
    "sns.heatmap(cm, annot=True, fmt='d', cmap='Blues', xticklabels=class_names, yticklabels=class_names)\n",
    "plt.title('Confusion Matrix (Test data)')\n",
    "plt.ylabel('True Label')\n",
    "plt.xlabel('Predicted Label')\n",
    "plt.show()"
   ]
  },
  {
   "cell_type": "markdown",
   "id": "e98a0340",
   "metadata": {},
   "source": [
    "## Building CNN Model 2"
   ]
  },
  {
   "cell_type": "code",
   "execution_count": 12,
   "id": "f7ceeedc",
   "metadata": {},
   "outputs": [
    {
     "name": "stdout",
     "output_type": "stream",
     "text": [
      "----------------------------------------------------------------\n",
      "        Layer (type)               Output Shape         Param #\n",
      "================================================================\n",
      "            Conv2d-1         [-1, 32, 112, 112]             864\n",
      "       BatchNorm2d-2         [-1, 32, 112, 112]              64\n",
      "              SiLU-3         [-1, 32, 112, 112]               0\n",
      "            Conv2d-4         [-1, 32, 112, 112]             288\n",
      "       BatchNorm2d-5         [-1, 32, 112, 112]              64\n",
      "              SiLU-6         [-1, 32, 112, 112]               0\n",
      " AdaptiveAvgPool2d-7             [-1, 32, 1, 1]               0\n",
      "            Conv2d-8              [-1, 8, 1, 1]             264\n",
      "              SiLU-9              [-1, 8, 1, 1]               0\n",
      "           Conv2d-10             [-1, 32, 1, 1]             288\n",
      "          Sigmoid-11             [-1, 32, 1, 1]               0\n",
      "SqueezeExcitation-12         [-1, 32, 112, 112]               0\n",
      "           Conv2d-13         [-1, 16, 112, 112]             512\n",
      "      BatchNorm2d-14         [-1, 16, 112, 112]              32\n",
      "           MBConv-15         [-1, 16, 112, 112]               0\n",
      "           Conv2d-16         [-1, 96, 112, 112]           1,536\n",
      "      BatchNorm2d-17         [-1, 96, 112, 112]             192\n",
      "             SiLU-18         [-1, 96, 112, 112]               0\n",
      "           Conv2d-19           [-1, 96, 56, 56]             864\n",
      "      BatchNorm2d-20           [-1, 96, 56, 56]             192\n",
      "             SiLU-21           [-1, 96, 56, 56]               0\n",
      "AdaptiveAvgPool2d-22             [-1, 96, 1, 1]               0\n",
      "           Conv2d-23              [-1, 4, 1, 1]             388\n",
      "             SiLU-24              [-1, 4, 1, 1]               0\n",
      "           Conv2d-25             [-1, 96, 1, 1]             480\n",
      "          Sigmoid-26             [-1, 96, 1, 1]               0\n",
      "SqueezeExcitation-27           [-1, 96, 56, 56]               0\n",
      "           Conv2d-28           [-1, 24, 56, 56]           2,304\n",
      "      BatchNorm2d-29           [-1, 24, 56, 56]              48\n",
      "           MBConv-30           [-1, 24, 56, 56]               0\n",
      "           Conv2d-31          [-1, 144, 56, 56]           3,456\n",
      "      BatchNorm2d-32          [-1, 144, 56, 56]             288\n",
      "             SiLU-33          [-1, 144, 56, 56]               0\n",
      "           Conv2d-34          [-1, 144, 56, 56]           1,296\n",
      "      BatchNorm2d-35          [-1, 144, 56, 56]             288\n",
      "             SiLU-36          [-1, 144, 56, 56]               0\n",
      "AdaptiveAvgPool2d-37            [-1, 144, 1, 1]               0\n",
      "           Conv2d-38              [-1, 6, 1, 1]             870\n",
      "             SiLU-39              [-1, 6, 1, 1]               0\n",
      "           Conv2d-40            [-1, 144, 1, 1]           1,008\n",
      "          Sigmoid-41            [-1, 144, 1, 1]               0\n",
      "SqueezeExcitation-42          [-1, 144, 56, 56]               0\n",
      "           Conv2d-43           [-1, 24, 56, 56]           3,456\n",
      "      BatchNorm2d-44           [-1, 24, 56, 56]              48\n",
      "  StochasticDepth-45           [-1, 24, 56, 56]               0\n",
      "           MBConv-46           [-1, 24, 56, 56]               0\n",
      "           Conv2d-47          [-1, 144, 56, 56]           3,456\n",
      "      BatchNorm2d-48          [-1, 144, 56, 56]             288\n",
      "             SiLU-49          [-1, 144, 56, 56]               0\n",
      "           Conv2d-50          [-1, 144, 28, 28]           3,600\n",
      "      BatchNorm2d-51          [-1, 144, 28, 28]             288\n",
      "             SiLU-52          [-1, 144, 28, 28]               0\n",
      "AdaptiveAvgPool2d-53            [-1, 144, 1, 1]               0\n",
      "           Conv2d-54              [-1, 6, 1, 1]             870\n",
      "             SiLU-55              [-1, 6, 1, 1]               0\n",
      "           Conv2d-56            [-1, 144, 1, 1]           1,008\n",
      "          Sigmoid-57            [-1, 144, 1, 1]               0\n",
      "SqueezeExcitation-58          [-1, 144, 28, 28]               0\n",
      "           Conv2d-59           [-1, 40, 28, 28]           5,760\n",
      "      BatchNorm2d-60           [-1, 40, 28, 28]              80\n",
      "           MBConv-61           [-1, 40, 28, 28]               0\n",
      "           Conv2d-62          [-1, 240, 28, 28]           9,600\n",
      "      BatchNorm2d-63          [-1, 240, 28, 28]             480\n",
      "             SiLU-64          [-1, 240, 28, 28]               0\n",
      "           Conv2d-65          [-1, 240, 28, 28]           6,000\n",
      "      BatchNorm2d-66          [-1, 240, 28, 28]             480\n",
      "             SiLU-67          [-1, 240, 28, 28]               0\n",
      "AdaptiveAvgPool2d-68            [-1, 240, 1, 1]               0\n",
      "           Conv2d-69             [-1, 10, 1, 1]           2,410\n",
      "             SiLU-70             [-1, 10, 1, 1]               0\n",
      "           Conv2d-71            [-1, 240, 1, 1]           2,640\n",
      "          Sigmoid-72            [-1, 240, 1, 1]               0\n",
      "SqueezeExcitation-73          [-1, 240, 28, 28]               0\n",
      "           Conv2d-74           [-1, 40, 28, 28]           9,600\n",
      "      BatchNorm2d-75           [-1, 40, 28, 28]              80\n",
      "  StochasticDepth-76           [-1, 40, 28, 28]               0\n",
      "           MBConv-77           [-1, 40, 28, 28]               0\n",
      "           Conv2d-78          [-1, 240, 28, 28]           9,600\n",
      "      BatchNorm2d-79          [-1, 240, 28, 28]             480\n",
      "             SiLU-80          [-1, 240, 28, 28]               0\n",
      "           Conv2d-81          [-1, 240, 14, 14]           2,160\n",
      "      BatchNorm2d-82          [-1, 240, 14, 14]             480\n",
      "             SiLU-83          [-1, 240, 14, 14]               0\n",
      "AdaptiveAvgPool2d-84            [-1, 240, 1, 1]               0\n",
      "           Conv2d-85             [-1, 10, 1, 1]           2,410\n",
      "             SiLU-86             [-1, 10, 1, 1]               0\n",
      "           Conv2d-87            [-1, 240, 1, 1]           2,640\n",
      "          Sigmoid-88            [-1, 240, 1, 1]               0\n",
      "SqueezeExcitation-89          [-1, 240, 14, 14]               0\n",
      "           Conv2d-90           [-1, 80, 14, 14]          19,200\n",
      "      BatchNorm2d-91           [-1, 80, 14, 14]             160\n",
      "           MBConv-92           [-1, 80, 14, 14]               0\n",
      "           Conv2d-93          [-1, 480, 14, 14]          38,400\n",
      "      BatchNorm2d-94          [-1, 480, 14, 14]             960\n",
      "             SiLU-95          [-1, 480, 14, 14]               0\n",
      "           Conv2d-96          [-1, 480, 14, 14]           4,320\n",
      "      BatchNorm2d-97          [-1, 480, 14, 14]             960\n",
      "             SiLU-98          [-1, 480, 14, 14]               0\n",
      "AdaptiveAvgPool2d-99            [-1, 480, 1, 1]               0\n",
      "          Conv2d-100             [-1, 20, 1, 1]           9,620\n",
      "            SiLU-101             [-1, 20, 1, 1]               0\n",
      "          Conv2d-102            [-1, 480, 1, 1]          10,080\n",
      "         Sigmoid-103            [-1, 480, 1, 1]               0\n",
      "SqueezeExcitation-104          [-1, 480, 14, 14]               0\n",
      "          Conv2d-105           [-1, 80, 14, 14]          38,400\n",
      "     BatchNorm2d-106           [-1, 80, 14, 14]             160\n",
      " StochasticDepth-107           [-1, 80, 14, 14]               0\n",
      "          MBConv-108           [-1, 80, 14, 14]               0\n",
      "          Conv2d-109          [-1, 480, 14, 14]          38,400\n",
      "     BatchNorm2d-110          [-1, 480, 14, 14]             960\n",
      "            SiLU-111          [-1, 480, 14, 14]               0\n",
      "          Conv2d-112          [-1, 480, 14, 14]           4,320\n",
      "     BatchNorm2d-113          [-1, 480, 14, 14]             960\n",
      "            SiLU-114          [-1, 480, 14, 14]               0\n",
      "AdaptiveAvgPool2d-115            [-1, 480, 1, 1]               0\n",
      "          Conv2d-116             [-1, 20, 1, 1]           9,620\n",
      "            SiLU-117             [-1, 20, 1, 1]               0\n",
      "          Conv2d-118            [-1, 480, 1, 1]          10,080\n",
      "         Sigmoid-119            [-1, 480, 1, 1]               0\n",
      "SqueezeExcitation-120          [-1, 480, 14, 14]               0\n",
      "          Conv2d-121           [-1, 80, 14, 14]          38,400\n",
      "     BatchNorm2d-122           [-1, 80, 14, 14]             160\n",
      " StochasticDepth-123           [-1, 80, 14, 14]               0\n",
      "          MBConv-124           [-1, 80, 14, 14]               0\n",
      "          Conv2d-125          [-1, 480, 14, 14]          38,400\n",
      "     BatchNorm2d-126          [-1, 480, 14, 14]             960\n",
      "            SiLU-127          [-1, 480, 14, 14]               0\n",
      "          Conv2d-128          [-1, 480, 14, 14]          12,000\n",
      "     BatchNorm2d-129          [-1, 480, 14, 14]             960\n",
      "            SiLU-130          [-1, 480, 14, 14]               0\n",
      "AdaptiveAvgPool2d-131            [-1, 480, 1, 1]               0\n",
      "          Conv2d-132             [-1, 20, 1, 1]           9,620\n",
      "            SiLU-133             [-1, 20, 1, 1]               0\n",
      "          Conv2d-134            [-1, 480, 1, 1]          10,080\n",
      "         Sigmoid-135            [-1, 480, 1, 1]               0\n",
      "SqueezeExcitation-136          [-1, 480, 14, 14]               0\n",
      "          Conv2d-137          [-1, 112, 14, 14]          53,760\n",
      "     BatchNorm2d-138          [-1, 112, 14, 14]             224\n",
      "          MBConv-139          [-1, 112, 14, 14]               0\n",
      "          Conv2d-140          [-1, 672, 14, 14]          75,264\n",
      "     BatchNorm2d-141          [-1, 672, 14, 14]           1,344\n",
      "            SiLU-142          [-1, 672, 14, 14]               0\n",
      "          Conv2d-143          [-1, 672, 14, 14]          16,800\n",
      "     BatchNorm2d-144          [-1, 672, 14, 14]           1,344\n",
      "            SiLU-145          [-1, 672, 14, 14]               0\n",
      "AdaptiveAvgPool2d-146            [-1, 672, 1, 1]               0\n",
      "          Conv2d-147             [-1, 28, 1, 1]          18,844\n",
      "            SiLU-148             [-1, 28, 1, 1]               0\n",
      "          Conv2d-149            [-1, 672, 1, 1]          19,488\n",
      "         Sigmoid-150            [-1, 672, 1, 1]               0\n",
      "SqueezeExcitation-151          [-1, 672, 14, 14]               0\n",
      "          Conv2d-152          [-1, 112, 14, 14]          75,264\n",
      "     BatchNorm2d-153          [-1, 112, 14, 14]             224\n",
      " StochasticDepth-154          [-1, 112, 14, 14]               0\n",
      "          MBConv-155          [-1, 112, 14, 14]               0\n",
      "          Conv2d-156          [-1, 672, 14, 14]          75,264\n",
      "     BatchNorm2d-157          [-1, 672, 14, 14]           1,344\n",
      "            SiLU-158          [-1, 672, 14, 14]               0\n",
      "          Conv2d-159          [-1, 672, 14, 14]          16,800\n",
      "     BatchNorm2d-160          [-1, 672, 14, 14]           1,344\n",
      "            SiLU-161          [-1, 672, 14, 14]               0\n",
      "AdaptiveAvgPool2d-162            [-1, 672, 1, 1]               0\n",
      "          Conv2d-163             [-1, 28, 1, 1]          18,844\n",
      "            SiLU-164             [-1, 28, 1, 1]               0\n",
      "          Conv2d-165            [-1, 672, 1, 1]          19,488\n",
      "         Sigmoid-166            [-1, 672, 1, 1]               0\n",
      "SqueezeExcitation-167          [-1, 672, 14, 14]               0\n",
      "          Conv2d-168          [-1, 112, 14, 14]          75,264\n",
      "     BatchNorm2d-169          [-1, 112, 14, 14]             224\n",
      " StochasticDepth-170          [-1, 112, 14, 14]               0\n",
      "          MBConv-171          [-1, 112, 14, 14]               0\n",
      "          Conv2d-172          [-1, 672, 14, 14]          75,264\n",
      "     BatchNorm2d-173          [-1, 672, 14, 14]           1,344\n",
      "            SiLU-174          [-1, 672, 14, 14]               0\n",
      "          Conv2d-175            [-1, 672, 7, 7]          16,800\n",
      "     BatchNorm2d-176            [-1, 672, 7, 7]           1,344\n",
      "            SiLU-177            [-1, 672, 7, 7]               0\n",
      "AdaptiveAvgPool2d-178            [-1, 672, 1, 1]               0\n",
      "          Conv2d-179             [-1, 28, 1, 1]          18,844\n",
      "            SiLU-180             [-1, 28, 1, 1]               0\n",
      "          Conv2d-181            [-1, 672, 1, 1]          19,488\n",
      "         Sigmoid-182            [-1, 672, 1, 1]               0\n",
      "SqueezeExcitation-183            [-1, 672, 7, 7]               0\n",
      "          Conv2d-184            [-1, 192, 7, 7]         129,024\n",
      "     BatchNorm2d-185            [-1, 192, 7, 7]             384\n",
      "          MBConv-186            [-1, 192, 7, 7]               0\n",
      "          Conv2d-187           [-1, 1152, 7, 7]         221,184\n",
      "     BatchNorm2d-188           [-1, 1152, 7, 7]           2,304\n",
      "            SiLU-189           [-1, 1152, 7, 7]               0\n",
      "          Conv2d-190           [-1, 1152, 7, 7]          28,800\n",
      "     BatchNorm2d-191           [-1, 1152, 7, 7]           2,304\n",
      "            SiLU-192           [-1, 1152, 7, 7]               0\n",
      "AdaptiveAvgPool2d-193           [-1, 1152, 1, 1]               0\n",
      "          Conv2d-194             [-1, 48, 1, 1]          55,344\n",
      "            SiLU-195             [-1, 48, 1, 1]               0\n",
      "          Conv2d-196           [-1, 1152, 1, 1]          56,448\n",
      "         Sigmoid-197           [-1, 1152, 1, 1]               0\n",
      "SqueezeExcitation-198           [-1, 1152, 7, 7]               0\n",
      "          Conv2d-199            [-1, 192, 7, 7]         221,184\n",
      "     BatchNorm2d-200            [-1, 192, 7, 7]             384\n",
      " StochasticDepth-201            [-1, 192, 7, 7]               0\n",
      "          MBConv-202            [-1, 192, 7, 7]               0\n",
      "          Conv2d-203           [-1, 1152, 7, 7]         221,184\n",
      "     BatchNorm2d-204           [-1, 1152, 7, 7]           2,304\n",
      "            SiLU-205           [-1, 1152, 7, 7]               0\n",
      "          Conv2d-206           [-1, 1152, 7, 7]          28,800\n",
      "     BatchNorm2d-207           [-1, 1152, 7, 7]           2,304\n",
      "            SiLU-208           [-1, 1152, 7, 7]               0\n",
      "AdaptiveAvgPool2d-209           [-1, 1152, 1, 1]               0\n",
      "          Conv2d-210             [-1, 48, 1, 1]          55,344\n",
      "            SiLU-211             [-1, 48, 1, 1]               0\n",
      "          Conv2d-212           [-1, 1152, 1, 1]          56,448\n",
      "         Sigmoid-213           [-1, 1152, 1, 1]               0\n",
      "SqueezeExcitation-214           [-1, 1152, 7, 7]               0\n",
      "          Conv2d-215            [-1, 192, 7, 7]         221,184\n",
      "     BatchNorm2d-216            [-1, 192, 7, 7]             384\n",
      " StochasticDepth-217            [-1, 192, 7, 7]               0\n",
      "          MBConv-218            [-1, 192, 7, 7]               0\n",
      "          Conv2d-219           [-1, 1152, 7, 7]         221,184\n",
      "     BatchNorm2d-220           [-1, 1152, 7, 7]           2,304\n",
      "            SiLU-221           [-1, 1152, 7, 7]               0\n",
      "          Conv2d-222           [-1, 1152, 7, 7]          28,800\n",
      "     BatchNorm2d-223           [-1, 1152, 7, 7]           2,304\n",
      "            SiLU-224           [-1, 1152, 7, 7]               0\n",
      "AdaptiveAvgPool2d-225           [-1, 1152, 1, 1]               0\n",
      "          Conv2d-226             [-1, 48, 1, 1]          55,344\n",
      "            SiLU-227             [-1, 48, 1, 1]               0\n",
      "          Conv2d-228           [-1, 1152, 1, 1]          56,448\n",
      "         Sigmoid-229           [-1, 1152, 1, 1]               0\n",
      "SqueezeExcitation-230           [-1, 1152, 7, 7]               0\n",
      "          Conv2d-231            [-1, 192, 7, 7]         221,184\n",
      "     BatchNorm2d-232            [-1, 192, 7, 7]             384\n",
      " StochasticDepth-233            [-1, 192, 7, 7]               0\n",
      "          MBConv-234            [-1, 192, 7, 7]               0\n",
      "          Conv2d-235           [-1, 1152, 7, 7]         221,184\n",
      "     BatchNorm2d-236           [-1, 1152, 7, 7]           2,304\n",
      "            SiLU-237           [-1, 1152, 7, 7]               0\n",
      "          Conv2d-238           [-1, 1152, 7, 7]          10,368\n",
      "     BatchNorm2d-239           [-1, 1152, 7, 7]           2,304\n",
      "            SiLU-240           [-1, 1152, 7, 7]               0\n",
      "AdaptiveAvgPool2d-241           [-1, 1152, 1, 1]               0\n",
      "          Conv2d-242             [-1, 48, 1, 1]          55,344\n",
      "            SiLU-243             [-1, 48, 1, 1]               0\n",
      "          Conv2d-244           [-1, 1152, 1, 1]          56,448\n",
      "         Sigmoid-245           [-1, 1152, 1, 1]               0\n",
      "SqueezeExcitation-246           [-1, 1152, 7, 7]               0\n",
      "          Conv2d-247            [-1, 320, 7, 7]         368,640\n",
      "     BatchNorm2d-248            [-1, 320, 7, 7]             640\n",
      "          MBConv-249            [-1, 320, 7, 7]               0\n",
      "          Conv2d-250           [-1, 1280, 7, 7]         409,600\n",
      "     BatchNorm2d-251           [-1, 1280, 7, 7]           2,560\n",
      "            SiLU-252           [-1, 1280, 7, 7]               0\n",
      "AdaptiveAvgPool2d-253           [-1, 1280, 1, 1]               0\n",
      "          Linear-254                   [-1, 40]          51,200\n",
      "            ReLU-255                   [-1, 40]               0\n",
      "          Linear-256                 [-1, 1280]          51,200\n",
      "         Sigmoid-257                 [-1, 1280]               0\n",
      "         SEBlock-258           [-1, 1280, 7, 7]               0\n",
      "AdaptiveAvgPool2d-259           [-1, 1280, 1, 1]               0\n",
      "         Dropout-260                 [-1, 1280]               0\n",
      "          Linear-261                  [-1, 512]         655,872\n",
      "            ReLU-262                  [-1, 512]               0\n",
      "         Dropout-263                  [-1, 512]               0\n",
      "          Linear-264                    [-1, 4]           2,052\n",
      "================================================================\n",
      "Total params: 4,767,872\n",
      "Trainable params: 760,324\n",
      "Non-trainable params: 4,007,548\n",
      "----------------------------------------------------------------\n",
      "Input size (MB): 0.57\n",
      "Forward/backward pass size (MB): 174.16\n",
      "Params size (MB): 18.19\n",
      "Estimated Total Size (MB): 192.93\n",
      "----------------------------------------------------------------\n"
     ]
    }
   ],
   "source": [
    "class SEBlock(nn.Module):\n",
    "    def __init__(self, in_channels, reduction=32):\n",
    "        super(SEBlock, self).__init__()\n",
    "        self.avg_pool = nn.AdaptiveAvgPool2d(1)\n",
    "        self.fc = nn.Sequential(\n",
    "            nn.Linear(in_channels, in_channels // reduction, bias=False),\n",
    "            nn.ReLU(inplace=True),\n",
    "            nn.Linear(in_channels // reduction, in_channels, bias=False),\n",
    "            nn.Sigmoid()\n",
    "        )\n",
    "\n",
    "    def forward(self, x):\n",
    "        b, c, _, _ = x.size()\n",
    "        y = self.avg_pool(x).view(b, c)\n",
    "        y = self.fc(y).view(b, c, 1, 1)\n",
    "        return x * y.expand_as(x)\n",
    "\n",
    "class CNN2(nn.Module):\n",
    "    def __init__(self, num_classes=4):\n",
    "        super(CNN2, self).__init__()\n",
    "        self.base_model = models.efficientnet_b0(pretrained=True)\n",
    "        \n",
    "        for param in self.base_model.parameters():\n",
    "            param.requires_grad = False\n",
    "        \n",
    "        num_ftrs = self.base_model.classifier[1].in_features\n",
    "        self.classifier = nn.Sequential(\n",
    "            nn.Dropout(0.2),\n",
    "            nn.Linear(num_ftrs, 512),\n",
    "            nn.ReLU(),\n",
    "            nn.Dropout(0.5),\n",
    "            nn.Linear(512, num_classes),\n",
    "        )\n",
    "\n",
    "        self.base_model.features.add_module(\"SEBlock\", SEBlock(1280))  \n",
    "\n",
    "    def forward(self, x):\n",
    "        x = self.base_model.features(x)\n",
    "        x = self.base_model.avgpool(x)\n",
    "        x = torch.flatten(x, 1)\n",
    "        x = self.classifier(x)\n",
    "        return x\n",
    "\n",
    "model2 = CNN2(num_classes=4).to(device)\n",
    "\n",
    "summary(model2, (3, 224, 224))"
   ]
  },
  {
   "cell_type": "markdown",
   "id": "ef082ef2",
   "metadata": {},
   "source": [
    "## Train CNN Model 2"
   ]
  },
  {
   "cell_type": "code",
   "execution_count": 90,
   "id": "e75bb504",
   "metadata": {},
   "outputs": [
    {
     "name": "stderr",
     "output_type": "stream",
     "text": [
      "Epoch 1 [train] Progress: 100%|████████████| 744/744 [21:46<00:00,  1.76s/batch]\n"
     ]
    },
    {
     "name": "stdout",
     "output_type": "stream",
     "text": [
      "train Loss: 1.1749 Acc: 0.4637\n"
     ]
    },
    {
     "name": "stderr",
     "output_type": "stream",
     "text": [
      "Epoch 1 [val] Progress: 100%|██████████████| 160/160 [03:45<00:00,  1.41s/batch]\n"
     ]
    },
    {
     "name": "stdout",
     "output_type": "stream",
     "text": [
      "val Loss: 1.0197 Acc: 0.5484\n"
     ]
    },
    {
     "name": "stderr",
     "output_type": "stream",
     "text": [
      "Epoch 2 [train] Progress: 100%|████████████| 744/744 [20:26<00:00,  1.65s/batch]\n"
     ]
    },
    {
     "name": "stdout",
     "output_type": "stream",
     "text": [
      "train Loss: 1.0291 Acc: 0.5413\n"
     ]
    },
    {
     "name": "stderr",
     "output_type": "stream",
     "text": [
      "Epoch 2 [val] Progress: 100%|██████████████| 160/160 [04:06<00:00,  1.54s/batch]\n"
     ]
    },
    {
     "name": "stdout",
     "output_type": "stream",
     "text": [
      "val Loss: 0.9474 Acc: 0.5711\n"
     ]
    },
    {
     "name": "stderr",
     "output_type": "stream",
     "text": [
      "Epoch 3 [train] Progress: 100%|████████████| 744/744 [20:36<00:00,  1.66s/batch]\n"
     ]
    },
    {
     "name": "stdout",
     "output_type": "stream",
     "text": [
      "train Loss: 0.9919 Acc: 0.5575\n"
     ]
    },
    {
     "name": "stderr",
     "output_type": "stream",
     "text": [
      "Epoch 3 [val] Progress: 100%|██████████████| 160/160 [03:58<00:00,  1.49s/batch]\n"
     ]
    },
    {
     "name": "stdout",
     "output_type": "stream",
     "text": [
      "val Loss: 0.9241 Acc: 0.5831\n"
     ]
    },
    {
     "name": "stderr",
     "output_type": "stream",
     "text": [
      "Epoch 4 [train] Progress: 100%|████████████| 744/744 [19:22<00:00,  1.56s/batch]\n"
     ]
    },
    {
     "name": "stdout",
     "output_type": "stream",
     "text": [
      "train Loss: 0.9617 Acc: 0.5698\n"
     ]
    },
    {
     "name": "stderr",
     "output_type": "stream",
     "text": [
      "Epoch 4 [val] Progress: 100%|██████████████| 160/160 [03:49<00:00,  1.44s/batch]\n"
     ]
    },
    {
     "name": "stdout",
     "output_type": "stream",
     "text": [
      "val Loss: 0.9065 Acc: 0.5878\n"
     ]
    },
    {
     "name": "stderr",
     "output_type": "stream",
     "text": [
      "Epoch 5 [train] Progress: 100%|████████████| 744/744 [19:22<00:00,  1.56s/batch]\n"
     ]
    },
    {
     "name": "stdout",
     "output_type": "stream",
     "text": [
      "train Loss: 0.9411 Acc: 0.5772\n"
     ]
    },
    {
     "name": "stderr",
     "output_type": "stream",
     "text": [
      "Epoch 5 [val] Progress: 100%|██████████████| 160/160 [03:52<00:00,  1.45s/batch]\n"
     ]
    },
    {
     "name": "stdout",
     "output_type": "stream",
     "text": [
      "val Loss: 0.8903 Acc: 0.5974\n"
     ]
    },
    {
     "name": "stderr",
     "output_type": "stream",
     "text": [
      "Epoch 6 [train] Progress: 100%|████████████| 744/744 [19:29<00:00,  1.57s/batch]\n"
     ]
    },
    {
     "name": "stdout",
     "output_type": "stream",
     "text": [
      "train Loss: 0.9248 Acc: 0.5859\n"
     ]
    },
    {
     "name": "stderr",
     "output_type": "stream",
     "text": [
      "Epoch 6 [val] Progress: 100%|██████████████| 160/160 [03:49<00:00,  1.44s/batch]\n"
     ]
    },
    {
     "name": "stdout",
     "output_type": "stream",
     "text": [
      "val Loss: 0.8699 Acc: 0.6108\n"
     ]
    },
    {
     "name": "stderr",
     "output_type": "stream",
     "text": [
      "Epoch 7 [train] Progress: 100%|████████████| 744/744 [20:22<00:00,  1.64s/batch]\n"
     ]
    },
    {
     "name": "stdout",
     "output_type": "stream",
     "text": [
      "train Loss: 0.9078 Acc: 0.5948\n"
     ]
    },
    {
     "name": "stderr",
     "output_type": "stream",
     "text": [
      "Epoch 7 [val] Progress: 100%|██████████████| 160/160 [03:55<00:00,  1.47s/batch]\n"
     ]
    },
    {
     "name": "stdout",
     "output_type": "stream",
     "text": [
      "val Loss: 0.8693 Acc: 0.6117\n"
     ]
    },
    {
     "name": "stderr",
     "output_type": "stream",
     "text": [
      "Epoch 8 [train] Progress: 100%|████████████| 744/744 [21:16<00:00,  1.72s/batch]\n"
     ]
    },
    {
     "name": "stdout",
     "output_type": "stream",
     "text": [
      "train Loss: 0.8992 Acc: 0.5998\n"
     ]
    },
    {
     "name": "stderr",
     "output_type": "stream",
     "text": [
      "Epoch 8 [val] Progress: 100%|██████████████| 160/160 [04:31<00:00,  1.69s/batch]\n"
     ]
    },
    {
     "name": "stdout",
     "output_type": "stream",
     "text": [
      "val Loss: 0.8422 Acc: 0.6219\n"
     ]
    },
    {
     "name": "stderr",
     "output_type": "stream",
     "text": [
      "Epoch 9 [train] Progress: 100%|████████████| 744/744 [23:42<00:00,  1.91s/batch]\n"
     ]
    },
    {
     "name": "stdout",
     "output_type": "stream",
     "text": [
      "train Loss: 0.8852 Acc: 0.6064\n"
     ]
    },
    {
     "name": "stderr",
     "output_type": "stream",
     "text": [
      "Epoch 9 [val] Progress: 100%|██████████████| 160/160 [03:52<00:00,  1.45s/batch]\n"
     ]
    },
    {
     "name": "stdout",
     "output_type": "stream",
     "text": [
      "val Loss: 0.8371 Acc: 0.6225\n"
     ]
    },
    {
     "name": "stderr",
     "output_type": "stream",
     "text": [
      "Epoch 10 [train] Progress: 100%|███████████| 744/744 [19:07<00:00,  1.54s/batch]\n"
     ]
    },
    {
     "name": "stdout",
     "output_type": "stream",
     "text": [
      "train Loss: 0.8778 Acc: 0.6109\n"
     ]
    },
    {
     "name": "stderr",
     "output_type": "stream",
     "text": [
      "Epoch 10 [val] Progress: 100%|█████████████| 160/160 [03:56<00:00,  1.48s/batch]\n"
     ]
    },
    {
     "name": "stdout",
     "output_type": "stream",
     "text": [
      "val Loss: 0.8302 Acc: 0.6261\n"
     ]
    },
    {
     "name": "stderr",
     "output_type": "stream",
     "text": [
      "Epoch 11 [train] Progress: 100%|███████████| 744/744 [20:31<00:00,  1.66s/batch]\n"
     ]
    },
    {
     "name": "stdout",
     "output_type": "stream",
     "text": [
      "train Loss: 0.8650 Acc: 0.6160\n"
     ]
    },
    {
     "name": "stderr",
     "output_type": "stream",
     "text": [
      "Epoch 11 [val] Progress: 100%|█████████████| 160/160 [03:59<00:00,  1.50s/batch]\n"
     ]
    },
    {
     "name": "stdout",
     "output_type": "stream",
     "text": [
      "val Loss: 0.8128 Acc: 0.6335\n"
     ]
    },
    {
     "name": "stderr",
     "output_type": "stream",
     "text": [
      "Epoch 12 [train] Progress: 100%|███████████| 744/744 [20:46<00:00,  1.68s/batch]\n"
     ]
    },
    {
     "name": "stdout",
     "output_type": "stream",
     "text": [
      "train Loss: 0.8588 Acc: 0.6170\n"
     ]
    },
    {
     "name": "stderr",
     "output_type": "stream",
     "text": [
      "Epoch 12 [val] Progress: 100%|█████████████| 160/160 [04:08<00:00,  1.55s/batch]\n"
     ]
    },
    {
     "name": "stdout",
     "output_type": "stream",
     "text": [
      "val Loss: 0.8048 Acc: 0.6386\n"
     ]
    },
    {
     "name": "stderr",
     "output_type": "stream",
     "text": [
      "Epoch 13 [train] Progress: 100%|███████████| 744/744 [20:24<00:00,  1.65s/batch]\n"
     ]
    },
    {
     "name": "stdout",
     "output_type": "stream",
     "text": [
      "train Loss: 0.8471 Acc: 0.6223\n"
     ]
    },
    {
     "name": "stderr",
     "output_type": "stream",
     "text": [
      "Epoch 13 [val] Progress: 100%|█████████████| 160/160 [04:09<00:00,  1.56s/batch]\n"
     ]
    },
    {
     "name": "stdout",
     "output_type": "stream",
     "text": [
      "val Loss: 0.8037 Acc: 0.6327\n"
     ]
    },
    {
     "name": "stderr",
     "output_type": "stream",
     "text": [
      "Epoch 14 [train] Progress: 100%|███████████| 744/744 [18:30<00:00,  1.49s/batch]\n"
     ]
    },
    {
     "name": "stdout",
     "output_type": "stream",
     "text": [
      "train Loss: 0.8407 Acc: 0.6268\n"
     ]
    },
    {
     "name": "stderr",
     "output_type": "stream",
     "text": [
      "Epoch 14 [val] Progress: 100%|█████████████| 160/160 [03:36<00:00,  1.35s/batch]\n"
     ]
    },
    {
     "name": "stdout",
     "output_type": "stream",
     "text": [
      "val Loss: 0.7894 Acc: 0.6435\n"
     ]
    },
    {
     "name": "stderr",
     "output_type": "stream",
     "text": [
      "Epoch 15 [train] Progress: 100%|███████████| 744/744 [20:12<00:00,  1.63s/batch]\n"
     ]
    },
    {
     "name": "stdout",
     "output_type": "stream",
     "text": [
      "train Loss: 0.8244 Acc: 0.6338\n"
     ]
    },
    {
     "name": "stderr",
     "output_type": "stream",
     "text": [
      "Epoch 15 [val] Progress: 100%|█████████████| 160/160 [04:03<00:00,  1.52s/batch]\n"
     ]
    },
    {
     "name": "stdout",
     "output_type": "stream",
     "text": [
      "val Loss: 0.7911 Acc: 0.6431\n"
     ]
    },
    {
     "name": "stderr",
     "output_type": "stream",
     "text": [
      "Epoch 16 [train] Progress: 100%|███████████| 744/744 [20:49<00:00,  1.68s/batch]\n"
     ]
    },
    {
     "name": "stdout",
     "output_type": "stream",
     "text": [
      "train Loss: 0.8245 Acc: 0.6343\n"
     ]
    },
    {
     "name": "stderr",
     "output_type": "stream",
     "text": [
      "Epoch 16 [val] Progress: 100%|█████████████| 160/160 [04:02<00:00,  1.52s/batch]\n"
     ]
    },
    {
     "name": "stdout",
     "output_type": "stream",
     "text": [
      "val Loss: 0.7779 Acc: 0.6463\n"
     ]
    },
    {
     "name": "stderr",
     "output_type": "stream",
     "text": [
      "Epoch 17 [train] Progress: 100%|███████████| 744/744 [20:42<00:00,  1.67s/batch]\n"
     ]
    },
    {
     "name": "stdout",
     "output_type": "stream",
     "text": [
      "train Loss: 0.8218 Acc: 0.6384\n"
     ]
    },
    {
     "name": "stderr",
     "output_type": "stream",
     "text": [
      "Epoch 17 [val] Progress: 100%|█████████████| 160/160 [04:08<00:00,  1.55s/batch]\n"
     ]
    },
    {
     "name": "stdout",
     "output_type": "stream",
     "text": [
      "val Loss: 0.7717 Acc: 0.6484\n"
     ]
    },
    {
     "name": "stderr",
     "output_type": "stream",
     "text": [
      "Epoch 18 [train] Progress: 100%|███████████| 744/744 [20:49<00:00,  1.68s/batch]\n"
     ]
    },
    {
     "name": "stdout",
     "output_type": "stream",
     "text": [
      "train Loss: 0.8035 Acc: 0.6455\n"
     ]
    },
    {
     "name": "stderr",
     "output_type": "stream",
     "text": [
      "Epoch 18 [val] Progress: 100%|█████████████| 160/160 [04:03<00:00,  1.52s/batch]\n"
     ]
    },
    {
     "name": "stdout",
     "output_type": "stream",
     "text": [
      "val Loss: 0.7744 Acc: 0.6461\n"
     ]
    },
    {
     "name": "stderr",
     "output_type": "stream",
     "text": [
      "Epoch 19 [train] Progress: 100%|███████████| 744/744 [20:21<00:00,  1.64s/batch]\n"
     ]
    },
    {
     "name": "stdout",
     "output_type": "stream",
     "text": [
      "train Loss: 0.8026 Acc: 0.6472\n"
     ]
    },
    {
     "name": "stderr",
     "output_type": "stream",
     "text": [
      "Epoch 19 [val] Progress: 100%|█████████████| 160/160 [03:59<00:00,  1.50s/batch]\n"
     ]
    },
    {
     "name": "stdout",
     "output_type": "stream",
     "text": [
      "val Loss: 0.7612 Acc: 0.6580\n"
     ]
    },
    {
     "name": "stderr",
     "output_type": "stream",
     "text": [
      "Epoch 20 [train] Progress: 100%|███████████| 744/744 [20:16<00:00,  1.63s/batch]\n"
     ]
    },
    {
     "name": "stdout",
     "output_type": "stream",
     "text": [
      "train Loss: 0.7898 Acc: 0.6558\n"
     ]
    },
    {
     "name": "stderr",
     "output_type": "stream",
     "text": [
      "Epoch 20 [val] Progress: 100%|█████████████| 160/160 [03:53<00:00,  1.46s/batch]\n"
     ]
    },
    {
     "name": "stdout",
     "output_type": "stream",
     "text": [
      "val Loss: 0.7550 Acc: 0.6588\n"
     ]
    },
    {
     "name": "stderr",
     "output_type": "stream",
     "text": [
      "Epoch 21 [train] Progress: 100%|███████████| 744/744 [20:09<00:00,  1.63s/batch]\n"
     ]
    },
    {
     "name": "stdout",
     "output_type": "stream",
     "text": [
      "train Loss: 0.7845 Acc: 0.6557\n"
     ]
    },
    {
     "name": "stderr",
     "output_type": "stream",
     "text": [
      "Epoch 21 [val] Progress: 100%|█████████████| 160/160 [03:58<00:00,  1.49s/batch]\n"
     ]
    },
    {
     "name": "stdout",
     "output_type": "stream",
     "text": [
      "val Loss: 0.7544 Acc: 0.6571\n"
     ]
    },
    {
     "name": "stderr",
     "output_type": "stream",
     "text": [
      "Epoch 22 [train] Progress: 100%|███████████| 744/744 [20:02<00:00,  1.62s/batch]\n"
     ]
    },
    {
     "name": "stdout",
     "output_type": "stream",
     "text": [
      "train Loss: 0.7783 Acc: 0.6566\n"
     ]
    },
    {
     "name": "stderr",
     "output_type": "stream",
     "text": [
      "Epoch 22 [val] Progress: 100%|█████████████| 160/160 [04:00<00:00,  1.50s/batch]\n"
     ]
    },
    {
     "name": "stdout",
     "output_type": "stream",
     "text": [
      "val Loss: 0.7526 Acc: 0.6602\n"
     ]
    },
    {
     "name": "stderr",
     "output_type": "stream",
     "text": [
      "Epoch 23 [train] Progress: 100%|███████████| 744/744 [19:56<00:00,  1.61s/batch]\n"
     ]
    },
    {
     "name": "stdout",
     "output_type": "stream",
     "text": [
      "train Loss: 0.7770 Acc: 0.6586\n"
     ]
    },
    {
     "name": "stderr",
     "output_type": "stream",
     "text": [
      "Epoch 23 [val] Progress: 100%|█████████████| 160/160 [03:54<00:00,  1.47s/batch]\n"
     ]
    },
    {
     "name": "stdout",
     "output_type": "stream",
     "text": [
      "val Loss: 0.7518 Acc: 0.6673\n"
     ]
    },
    {
     "name": "stderr",
     "output_type": "stream",
     "text": [
      "Epoch 24 [train] Progress: 100%|███████████| 744/744 [19:51<00:00,  1.60s/batch]\n"
     ]
    },
    {
     "name": "stdout",
     "output_type": "stream",
     "text": [
      "train Loss: 0.7660 Acc: 0.6658\n"
     ]
    },
    {
     "name": "stderr",
     "output_type": "stream",
     "text": [
      "Epoch 24 [val] Progress: 100%|█████████████| 160/160 [03:55<00:00,  1.47s/batch]\n"
     ]
    },
    {
     "name": "stdout",
     "output_type": "stream",
     "text": [
      "val Loss: 0.7407 Acc: 0.6627\n"
     ]
    },
    {
     "name": "stderr",
     "output_type": "stream",
     "text": [
      "Epoch 25 [train] Progress: 100%|███████████| 744/744 [20:15<00:00,  1.63s/batch]\n"
     ]
    },
    {
     "name": "stdout",
     "output_type": "stream",
     "text": [
      "train Loss: 0.7582 Acc: 0.6668\n"
     ]
    },
    {
     "name": "stderr",
     "output_type": "stream",
     "text": [
      "Epoch 25 [val] Progress: 100%|█████████████| 160/160 [03:54<00:00,  1.47s/batch]\n"
     ]
    },
    {
     "name": "stdout",
     "output_type": "stream",
     "text": [
      "val Loss: 0.7263 Acc: 0.6745\n"
     ]
    },
    {
     "name": "stderr",
     "output_type": "stream",
     "text": [
      "Epoch 26 [train] Progress: 100%|███████████| 744/744 [19:56<00:00,  1.61s/batch]\n"
     ]
    },
    {
     "name": "stdout",
     "output_type": "stream",
     "text": [
      "train Loss: 0.7561 Acc: 0.6683\n"
     ]
    },
    {
     "name": "stderr",
     "output_type": "stream",
     "text": [
      "Epoch 26 [val] Progress: 100%|█████████████| 160/160 [03:53<00:00,  1.46s/batch]\n"
     ]
    },
    {
     "name": "stdout",
     "output_type": "stream",
     "text": [
      "val Loss: 0.7238 Acc: 0.6678\n"
     ]
    },
    {
     "name": "stderr",
     "output_type": "stream",
     "text": [
      "Epoch 27 [train] Progress: 100%|███████████| 744/744 [20:12<00:00,  1.63s/batch]\n"
     ]
    },
    {
     "name": "stdout",
     "output_type": "stream",
     "text": [
      "train Loss: 0.7417 Acc: 0.6797\n"
     ]
    },
    {
     "name": "stderr",
     "output_type": "stream",
     "text": [
      "Epoch 27 [val] Progress: 100%|█████████████| 160/160 [03:56<00:00,  1.48s/batch]\n"
     ]
    },
    {
     "name": "stdout",
     "output_type": "stream",
     "text": [
      "val Loss: 0.7229 Acc: 0.6731\n"
     ]
    },
    {
     "name": "stderr",
     "output_type": "stream",
     "text": [
      "Epoch 28 [train] Progress: 100%|███████████| 744/744 [19:54<00:00,  1.61s/batch]\n"
     ]
    },
    {
     "name": "stdout",
     "output_type": "stream",
     "text": [
      "train Loss: 0.7429 Acc: 0.6744\n"
     ]
    },
    {
     "name": "stderr",
     "output_type": "stream",
     "text": [
      "Epoch 28 [val] Progress: 100%|█████████████| 160/160 [03:51<00:00,  1.45s/batch]\n"
     ]
    },
    {
     "name": "stdout",
     "output_type": "stream",
     "text": [
      "val Loss: 0.7300 Acc: 0.6698\n"
     ]
    },
    {
     "name": "stderr",
     "output_type": "stream",
     "text": [
      "Epoch 29 [train] Progress: 100%|███████████| 744/744 [20:03<00:00,  1.62s/batch]\n"
     ]
    },
    {
     "name": "stdout",
     "output_type": "stream",
     "text": [
      "train Loss: 0.7348 Acc: 0.6779\n"
     ]
    },
    {
     "name": "stderr",
     "output_type": "stream",
     "text": [
      "Epoch 29 [val] Progress: 100%|█████████████| 160/160 [03:53<00:00,  1.46s/batch]\n"
     ]
    },
    {
     "name": "stdout",
     "output_type": "stream",
     "text": [
      "val Loss: 0.7136 Acc: 0.6777\n"
     ]
    },
    {
     "name": "stderr",
     "output_type": "stream",
     "text": [
      "Epoch 30 [train] Progress: 100%|███████████| 744/744 [19:24<00:00,  1.57s/batch]\n"
     ]
    },
    {
     "name": "stdout",
     "output_type": "stream",
     "text": [
      "train Loss: 0.7345 Acc: 0.6773\n"
     ]
    },
    {
     "name": "stderr",
     "output_type": "stream",
     "text": [
      "Epoch 30 [val] Progress: 100%|█████████████| 160/160 [04:17<00:00,  1.61s/batch]\n"
     ]
    },
    {
     "name": "stdout",
     "output_type": "stream",
     "text": [
      "val Loss: 0.7100 Acc: 0.6835\n"
     ]
    },
    {
     "name": "stderr",
     "output_type": "stream",
     "text": [
      "Epoch 31 [train] Progress: 100%|███████████| 744/744 [21:18<00:00,  1.72s/batch]\n"
     ]
    },
    {
     "name": "stdout",
     "output_type": "stream",
     "text": [
      "train Loss: 0.7301 Acc: 0.6828\n"
     ]
    },
    {
     "name": "stderr",
     "output_type": "stream",
     "text": [
      "Epoch 31 [val] Progress: 100%|█████████████| 160/160 [04:23<00:00,  1.65s/batch]\n"
     ]
    },
    {
     "name": "stdout",
     "output_type": "stream",
     "text": [
      "val Loss: 0.7065 Acc: 0.6879\n"
     ]
    },
    {
     "name": "stderr",
     "output_type": "stream",
     "text": [
      "Epoch 32 [train] Progress: 100%|███████████| 744/744 [23:25<00:00,  1.89s/batch]\n"
     ]
    },
    {
     "name": "stdout",
     "output_type": "stream",
     "text": [
      "train Loss: 0.7263 Acc: 0.6827\n"
     ]
    },
    {
     "name": "stderr",
     "output_type": "stream",
     "text": [
      "Epoch 32 [val] Progress: 100%|█████████████| 160/160 [05:47<00:00,  2.17s/batch]\n"
     ]
    },
    {
     "name": "stdout",
     "output_type": "stream",
     "text": [
      "val Loss: 0.6978 Acc: 0.6886\n"
     ]
    },
    {
     "name": "stderr",
     "output_type": "stream",
     "text": [
      "Epoch 33 [train] Progress: 100%|███████████| 744/744 [28:46<00:00,  2.32s/batch]\n"
     ]
    },
    {
     "name": "stdout",
     "output_type": "stream",
     "text": [
      "train Loss: 0.7193 Acc: 0.6893\n"
     ]
    },
    {
     "name": "stderr",
     "output_type": "stream",
     "text": [
      "Epoch 33 [val] Progress: 100%|█████████████| 160/160 [05:40<00:00,  2.13s/batch]\n"
     ]
    },
    {
     "name": "stdout",
     "output_type": "stream",
     "text": [
      "val Loss: 0.7029 Acc: 0.6847\n"
     ]
    },
    {
     "name": "stderr",
     "output_type": "stream",
     "text": [
      "Epoch 34 [train] Progress: 100%|███████████| 744/744 [25:13<00:00,  2.03s/batch]\n"
     ]
    },
    {
     "name": "stdout",
     "output_type": "stream",
     "text": [
      "train Loss: 0.7127 Acc: 0.6949\n"
     ]
    },
    {
     "name": "stderr",
     "output_type": "stream",
     "text": [
      "Epoch 34 [val] Progress: 100%|█████████████| 160/160 [04:17<00:00,  1.61s/batch]\n"
     ]
    },
    {
     "name": "stdout",
     "output_type": "stream",
     "text": [
      "val Loss: 0.7000 Acc: 0.6939\n"
     ]
    },
    {
     "name": "stderr",
     "output_type": "stream",
     "text": [
      "Epoch 35 [train] Progress: 100%|███████████| 744/744 [21:54<00:00,  1.77s/batch]\n"
     ]
    },
    {
     "name": "stdout",
     "output_type": "stream",
     "text": [
      "train Loss: 0.7109 Acc: 0.6912\n"
     ]
    },
    {
     "name": "stderr",
     "output_type": "stream",
     "text": [
      "Epoch 35 [val] Progress: 100%|█████████████| 160/160 [04:22<00:00,  1.64s/batch]\n"
     ]
    },
    {
     "name": "stdout",
     "output_type": "stream",
     "text": [
      "val Loss: 0.6913 Acc: 0.6932\n"
     ]
    },
    {
     "name": "stderr",
     "output_type": "stream",
     "text": [
      "Epoch 36 [train] Progress: 100%|███████████| 744/744 [21:34<00:00,  1.74s/batch]\n"
     ]
    },
    {
     "name": "stdout",
     "output_type": "stream",
     "text": [
      "train Loss: 0.7089 Acc: 0.6932\n"
     ]
    },
    {
     "name": "stderr",
     "output_type": "stream",
     "text": [
      "Epoch 36 [val] Progress: 100%|█████████████| 160/160 [04:18<00:00,  1.62s/batch]\n"
     ]
    },
    {
     "name": "stdout",
     "output_type": "stream",
     "text": [
      "val Loss: 0.6832 Acc: 0.7004\n"
     ]
    },
    {
     "name": "stderr",
     "output_type": "stream",
     "text": [
      "Epoch 37 [train] Progress: 100%|███████████| 744/744 [34:38<00:00,  2.79s/batch]\n"
     ]
    },
    {
     "name": "stdout",
     "output_type": "stream",
     "text": [
      "train Loss: 0.6944 Acc: 0.7022\n"
     ]
    },
    {
     "name": "stderr",
     "output_type": "stream",
     "text": [
      "Epoch 37 [val] Progress: 100%|█████████████| 160/160 [05:59<00:00,  2.25s/batch]\n"
     ]
    },
    {
     "name": "stdout",
     "output_type": "stream",
     "text": [
      "val Loss: 0.6933 Acc: 0.6937\n"
     ]
    },
    {
     "name": "stderr",
     "output_type": "stream",
     "text": [
      "Epoch 38 [train] Progress: 100%|███████████| 744/744 [30:32<00:00,  2.46s/batch]\n"
     ]
    },
    {
     "name": "stdout",
     "output_type": "stream",
     "text": [
      "train Loss: 0.6938 Acc: 0.7032\n"
     ]
    },
    {
     "name": "stderr",
     "output_type": "stream",
     "text": [
      "Epoch 38 [val] Progress: 100%|█████████████| 160/160 [05:21<00:00,  2.01s/batch]\n"
     ]
    },
    {
     "name": "stdout",
     "output_type": "stream",
     "text": [
      "val Loss: 0.6900 Acc: 0.6933\n"
     ]
    },
    {
     "name": "stderr",
     "output_type": "stream",
     "text": [
      "Epoch 39 [train] Progress: 100%|███████████| 744/744 [30:44<00:00,  2.48s/batch]\n"
     ]
    },
    {
     "name": "stdout",
     "output_type": "stream",
     "text": [
      "train Loss: 0.6874 Acc: 0.7046\n"
     ]
    },
    {
     "name": "stderr",
     "output_type": "stream",
     "text": [
      "Epoch 39 [val] Progress: 100%|█████████████| 160/160 [05:34<00:00,  2.09s/batch]\n"
     ]
    },
    {
     "name": "stdout",
     "output_type": "stream",
     "text": [
      "val Loss: 0.6901 Acc: 0.6930\n"
     ]
    },
    {
     "name": "stderr",
     "output_type": "stream",
     "text": [
      "Epoch 40 [train] Progress: 100%|███████████| 744/744 [26:41<00:00,  2.15s/batch]\n"
     ]
    },
    {
     "name": "stdout",
     "output_type": "stream",
     "text": [
      "train Loss: 0.6835 Acc: 0.7074\n"
     ]
    },
    {
     "name": "stderr",
     "output_type": "stream",
     "text": [
      "Epoch 40 [val] Progress: 100%|█████████████| 160/160 [04:52<00:00,  1.83s/batch]\n"
     ]
    },
    {
     "name": "stdout",
     "output_type": "stream",
     "text": [
      "val Loss: 0.6873 Acc: 0.7018\n"
     ]
    },
    {
     "name": "stderr",
     "output_type": "stream",
     "text": [
      "Epoch 41 [train] Progress: 100%|███████████| 744/744 [26:19<00:00,  2.12s/batch]\n"
     ]
    },
    {
     "name": "stdout",
     "output_type": "stream",
     "text": [
      "train Loss: 0.6818 Acc: 0.7056\n"
     ]
    },
    {
     "name": "stderr",
     "output_type": "stream",
     "text": [
      "Epoch 41 [val] Progress: 100%|█████████████| 160/160 [04:56<00:00,  1.85s/batch]\n"
     ]
    },
    {
     "name": "stdout",
     "output_type": "stream",
     "text": [
      "val Loss: 0.6617 Acc: 0.7069\n"
     ]
    },
    {
     "name": "stderr",
     "output_type": "stream",
     "text": [
      "Epoch 42 [train] Progress: 100%|███████████| 744/744 [25:49<00:00,  2.08s/batch]\n"
     ]
    },
    {
     "name": "stdout",
     "output_type": "stream",
     "text": [
      "train Loss: 0.6794 Acc: 0.7097\n"
     ]
    },
    {
     "name": "stderr",
     "output_type": "stream",
     "text": [
      "Epoch 42 [val] Progress: 100%|█████████████| 160/160 [05:28<00:00,  2.05s/batch]\n"
     ]
    },
    {
     "name": "stdout",
     "output_type": "stream",
     "text": [
      "val Loss: 0.6718 Acc: 0.7090\n"
     ]
    },
    {
     "name": "stderr",
     "output_type": "stream",
     "text": [
      "Epoch 43 [train] Progress: 100%|███████████| 744/744 [25:44<00:00,  2.08s/batch]\n"
     ]
    },
    {
     "name": "stdout",
     "output_type": "stream",
     "text": [
      "train Loss: 0.6734 Acc: 0.7120\n"
     ]
    },
    {
     "name": "stderr",
     "output_type": "stream",
     "text": [
      "Epoch 43 [val] Progress: 100%|█████████████| 160/160 [05:08<00:00,  1.93s/batch]\n"
     ]
    },
    {
     "name": "stdout",
     "output_type": "stream",
     "text": [
      "val Loss: 0.6745 Acc: 0.7063\n"
     ]
    },
    {
     "name": "stderr",
     "output_type": "stream",
     "text": [
      "Epoch 44 [train] Progress: 100%|███████████| 744/744 [25:11<00:00,  2.03s/batch]\n"
     ]
    },
    {
     "name": "stdout",
     "output_type": "stream",
     "text": [
      "train Loss: 0.6786 Acc: 0.7077\n"
     ]
    },
    {
     "name": "stderr",
     "output_type": "stream",
     "text": [
      "Epoch 44 [val] Progress: 100%|█████████████| 160/160 [05:10<00:00,  1.94s/batch]\n"
     ]
    },
    {
     "name": "stdout",
     "output_type": "stream",
     "text": [
      "val Loss: 0.6767 Acc: 0.7014\n"
     ]
    },
    {
     "name": "stderr",
     "output_type": "stream",
     "text": [
      "Epoch 45 [train] Progress: 100%|███████████| 744/744 [25:19<00:00,  2.04s/batch]\n"
     ]
    },
    {
     "name": "stdout",
     "output_type": "stream",
     "text": [
      "train Loss: 0.6600 Acc: 0.7140\n"
     ]
    },
    {
     "name": "stderr",
     "output_type": "stream",
     "text": [
      "Epoch 45 [val] Progress: 100%|█████████████| 160/160 [04:52<00:00,  1.83s/batch]\n"
     ]
    },
    {
     "name": "stdout",
     "output_type": "stream",
     "text": [
      "val Loss: 0.6591 Acc: 0.7143\n"
     ]
    },
    {
     "name": "stderr",
     "output_type": "stream",
     "text": [
      "Epoch 46 [train] Progress: 100%|███████████| 744/744 [30:07<00:00,  2.43s/batch]\n"
     ]
    },
    {
     "name": "stdout",
     "output_type": "stream",
     "text": [
      "train Loss: 0.6637 Acc: 0.7149\n"
     ]
    },
    {
     "name": "stderr",
     "output_type": "stream",
     "text": [
      "Epoch 46 [val] Progress: 100%|█████████████| 160/160 [05:57<00:00,  2.24s/batch]\n"
     ]
    },
    {
     "name": "stdout",
     "output_type": "stream",
     "text": [
      "val Loss: 0.6624 Acc: 0.7102\n"
     ]
    },
    {
     "name": "stderr",
     "output_type": "stream",
     "text": [
      "Epoch 47 [train] Progress: 100%|███████████| 744/744 [30:08<00:00,  2.43s/batch]\n"
     ]
    },
    {
     "name": "stdout",
     "output_type": "stream",
     "text": [
      "train Loss: 0.6607 Acc: 0.7181\n"
     ]
    },
    {
     "name": "stderr",
     "output_type": "stream",
     "text": [
      "Epoch 47 [val] Progress: 100%|█████████████| 160/160 [04:50<00:00,  1.81s/batch]\n"
     ]
    },
    {
     "name": "stdout",
     "output_type": "stream",
     "text": [
      "val Loss: 0.6632 Acc: 0.7067\n"
     ]
    },
    {
     "name": "stderr",
     "output_type": "stream",
     "text": [
      "Epoch 48 [train] Progress: 100%|███████████| 744/744 [26:20<00:00,  2.12s/batch]\n"
     ]
    },
    {
     "name": "stdout",
     "output_type": "stream",
     "text": [
      "train Loss: 0.6569 Acc: 0.7201\n"
     ]
    },
    {
     "name": "stderr",
     "output_type": "stream",
     "text": [
      "Epoch 48 [val] Progress: 100%|█████████████| 160/160 [05:30<00:00,  2.07s/batch]\n"
     ]
    },
    {
     "name": "stdout",
     "output_type": "stream",
     "text": [
      "val Loss: 0.6620 Acc: 0.7116\n"
     ]
    },
    {
     "name": "stderr",
     "output_type": "stream",
     "text": [
      "Epoch 49 [train] Progress: 100%|███████████| 744/744 [23:57<00:00,  1.93s/batch]\n"
     ]
    },
    {
     "name": "stdout",
     "output_type": "stream",
     "text": [
      "train Loss: 0.6551 Acc: 0.7200\n"
     ]
    },
    {
     "name": "stderr",
     "output_type": "stream",
     "text": [
      "Epoch 49 [val] Progress: 100%|█████████████| 160/160 [03:55<00:00,  1.47s/batch]\n"
     ]
    },
    {
     "name": "stdout",
     "output_type": "stream",
     "text": [
      "val Loss: 0.6608 Acc: 0.7132\n"
     ]
    },
    {
     "name": "stderr",
     "output_type": "stream",
     "text": [
      "Epoch 50 [train] Progress: 100%|███████████| 744/744 [18:27<00:00,  1.49s/batch]\n"
     ]
    },
    {
     "name": "stdout",
     "output_type": "stream",
     "text": [
      "train Loss: 0.6500 Acc: 0.7214\n"
     ]
    },
    {
     "name": "stderr",
     "output_type": "stream",
     "text": [
      "Epoch 50 [val] Progress: 100%|█████████████| 160/160 [03:40<00:00,  1.38s/batch]\n"
     ]
    },
    {
     "name": "stdout",
     "output_type": "stream",
     "text": [
      "val Loss: 0.6610 Acc: 0.7124\n",
      "Early stopping at epoch 50\n"
     ]
    },
    {
     "data": {
      "image/png": "[encoded data removed]",
      "text/plain": [
       "<Figure size 864x360 with 2 Axes>"
      ]
     },
     "metadata": {
      "needs_background": "light"
     },
     "output_type": "display_data"
    }
   ],
   "source": [
    "criterion = nn.CrossEntropyLoss()\n",
    "trainable_params = filter(lambda p: p.requires_grad, model2.parameters())\n",
    "optimizer = torch.optim.Adam(trainable_params, lr=0.0001)\n",
    "scheduler = lr_scheduler.StepLR(optimizer, step_size=7, gamma=0.1)\n",
    "torch.autograd.set_detect_anomaly(True)\n",
    "\n",
    "def train_epoch(epoch_index, train_loader, model, optimizer):\n",
    "    model.train()  \n",
    "    running_loss = 0.0\n",
    "    correct_pred = 0\n",
    "    total_pred = 0\n",
    "\n",
    "    for inputs, labels in tqdm(train_loader, desc=f\"Epoch {epoch_index + 1} [train] Progress\", unit=\"batch\"):\n",
    "        inputs, labels = inputs.to(device), labels.to(device)\n",
    "        optimizer.zero_grad()\n",
    "        outputs = model(inputs)\n",
    "        loss = criterion(outputs, labels)\n",
    "        loss.backward()\n",
    "        optimizer.step()\n",
    "\n",
    "        running_loss += loss.item()\n",
    "        _, predictions = torch.max(outputs, 1)\n",
    "        correct_pred += (predictions == labels).sum().item()\n",
    "        total_pred += labels.size(0)\n",
    "\n",
    "    avg_loss = running_loss / len(train_loader)\n",
    "    avg_acc = correct_pred / total_pred\n",
    "    print(f'train Loss: {avg_loss:.4f} Acc: {avg_acc:.4f}')\n",
    "    return avg_loss, avg_acc\n",
    "\n",
    "def validate_epoch(epoch_index, val_loader, model):\n",
    "    model.eval() \n",
    "    running_loss = 0.0\n",
    "    correct_pred = 0\n",
    "    total_pred = 0\n",
    "\n",
    "    with torch.no_grad():\n",
    "        for inputs, labels in tqdm(val_loader, desc=f\"Epoch {epoch_index + 1} [val] Progress\", unit=\"batch\"):\n",
    "            inputs, labels = inputs.to(device), labels.to(device)\n",
    "            outputs = model(inputs)\n",
    "            loss = criterion(outputs, labels)\n",
    "\n",
    "            running_loss += loss.item()\n",
    "            _, predictions = torch.max(outputs, 1)\n",
    "            correct_pred += (predictions == labels).sum().item()\n",
    "            total_pred += labels.size(0)\n",
    "\n",
    "    avg_loss = running_loss / len(val_loader)\n",
    "    avg_acc = correct_pred / total_pred\n",
    "    print(f'val Loss: {avg_loss:.4f} Acc: {avg_acc:.4f}')\n",
    "    return avg_loss, avg_acc\n",
    "\n",
    "# Training loop\n",
    "num_epochs = 50\n",
    "train_losses, train_accuracies = [], []\n",
    "val_losses, val_accuracies = [], []\n",
    "best_val_loss = float('inf')\n",
    "patience = 5\n",
    "\n",
    "for epoch in range(num_epochs):\n",
    "    train_loss, train_acc = train_epoch(epoch, train_loader, model2, optimizer)\n",
    "    val_loss, val_acc = validate_epoch(epoch, val_loader, model2)\n",
    "\n",
    "    if val_loss < best_val_loss:\n",
    "        best_val_loss = val_loss\n",
    "        trigger_times = 0\n",
    "        torch.save(model2.state_dict(), 'model2.pth')\n",
    "    else:\n",
    "        trigger_times += 1\n",
    "        if trigger_times >= patience:\n",
    "            print(f\"Early stopping at epoch {epoch+1}\")\n",
    "            break\n",
    "\n",
    "    train_losses.append(train_loss)\n",
    "    train_accuracies.append(train_acc)\n",
    "    val_losses.append(val_loss)\n",
    "    val_accuracies.append(val_acc)\n",
    "\n",
    "# Plotting\n",
    "plt.figure(figsize=(12, 5))\n",
    "plt.subplot(1, 2, 1)\n",
    "plt.plot(train_losses, label='Training Loss')\n",
    "plt.plot(val_losses, label='Validation Loss')\n",
    "plt.legend()\n",
    "plt.title('Loss over epochs')\n",
    "\n",
    "plt.subplot(1, 2, 2)\n",
    "plt.plot(train_accuracies, label='Training Accuracy')\n",
    "plt.plot(val_accuracies, label='Validation Accuracy')\n",
    "plt.legend()\n",
    "plt.title('Accuracy over epochs')\n",
    "\n",
    "plt.show()"
   ]
  },
  {
   "cell_type": "markdown",
   "id": "1bff4363",
   "metadata": {},
   "source": [
    "### Classification Report of the trained Modified EfficientNet B0"
   ]
  },
  {
   "cell_type": "code",
   "execution_count": 91,
   "id": "37686c0a",
   "metadata": {},
   "outputs": [
    {
     "name": "stdout",
     "output_type": "stream",
     "text": [
      "                  precision    recall  f1-score   support\n",
      "\n",
      "    MildDemented       0.70      0.75      0.72      1371\n",
      "ModerateDemented       0.89      0.96      0.92       948\n",
      "     NonDemented       0.70      0.68      0.69      1436\n",
      "VeryMildDemented       0.61      0.54      0.57      1342\n",
      "\n",
      "        accuracy                           0.71      5097\n",
      "       macro avg       0.72      0.73      0.73      5097\n",
      "    weighted avg       0.71      0.71      0.71      5097\n",
      "\n"
     ]
    }
   ],
   "source": [
    "# classification report (test loader)\n",
    "model2 = CNN2(num_classes=4).to(device)\n",
    "\n",
    "model2.load_state_dict(torch.load('model2.pth'))\n",
    "\n",
    "def evaluate_model(model, dataloader):\n",
    "    model.eval() \n",
    "    true_labels = []\n",
    "    predictions = []\n",
    "\n",
    "    with torch.no_grad():\n",
    "        for inputs, labels in dataloader:\n",
    "            inputs, labels = inputs.to(device), labels.to(device)\n",
    "\n",
    "            outputs = model(inputs)\n",
    "            _, preds = torch.max(outputs, 1)\n",
    "\n",
    "            true_labels.extend(labels.cpu().numpy())\n",
    "            predictions.extend(preds.cpu().numpy())\n",
    "\n",
    "    return true_labels, predictions\n",
    "\n",
    "# Evaluate the model\n",
    "true_labels, predictions = evaluate_model(model2, test_loader)\n",
    "\n",
    "# Print classification report\n",
    "print(classification_report(true_labels, predictions, target_names=['MildDemented', 'ModerateDemented', 'NonDemented', 'VeryMildDemented'], zero_division=0))"
   ]
  },
  {
   "cell_type": "code",
   "execution_count": 151,
   "id": "660c2551",
   "metadata": {},
   "outputs": [
    {
     "data": {
      "image/png": "[encoded data removed]",
      "text/plain": [
       "<Figure size 720x576 with 2 Axes>"
      ]
     },
     "metadata": {
      "needs_background": "light"
     },
     "output_type": "display_data"
    }
   ],
   "source": [
    "# Confusion Matrix on Test Loader - modified EfficientNet B0\n",
    "\n",
    "def get_predictions(model, dataloader):\n",
    "    model.eval()  \n",
    "    true_labels = []\n",
    "    predictions = []\n",
    "\n",
    "    with torch.no_grad():\n",
    "        for inputs, labels in dataloader:\n",
    "            inputs, labels = inputs.to(device), labels.to(device)\n",
    "            outputs = model(inputs)\n",
    "            _, preds = torch.max(outputs, 1)\n",
    "\n",
    "            true_labels.extend(labels.cpu().numpy())\n",
    "            predictions.extend(preds.cpu().numpy())\n",
    "\n",
    "    return true_labels, predictions\n",
    "\n",
    "# Evaluate the model\n",
    "true_labels, predictions = get_predictions(model2, test_loader)\n",
    "\n",
    "# Compute the confusion matrix\n",
    "cm = confusion_matrix(true_labels, predictions)\n",
    "class_names = ['MildDemented', 'ModerateDemented', 'NonDemented', 'VeryMildDemented']\n",
    "\n",
    "# Plot the confusion matrix\n",
    "plt.figure(figsize=(10, 8))\n",
    "sns.heatmap(cm, annot=True, fmt='d', cmap='Blues', xticklabels=class_names, yticklabels=class_names)\n",
    "plt.title('Confusion Matrix (Test data)')\n",
    "plt.ylabel('True Label')\n",
    "plt.xlabel('Predicted Label')\n",
    "plt.show()"
   ]
  },
  {
   "cell_type": "markdown",
   "id": "7e6e65d1",
   "metadata": {},
   "source": [
    "# Ensemble Model - Voting Classifier"
   ]
  },
  {
   "cell_type": "code",
   "execution_count": 13,
   "id": "0058d728",
   "metadata": {},
   "outputs": [],
   "source": [
    "class VotingEnsemble(nn.Module):\n",
    "    def __init__(self, model1, model2):\n",
    "        super(VotingEnsemble, self).__init__()\n",
    "        self.model1 = model1\n",
    "        self.model2 = model2\n",
    "\n",
    "    def forward(self, x):\n",
    "        # Get predictions from model1 and model2\n",
    "        output1 = self.model1(x)\n",
    "        output2 = self.model2(x)\n",
    "        \n",
    "        # softmax to convert to probabilities \n",
    "        prob1 = F.softmax(output1, dim=1)\n",
    "        prob2 = F.softmax(output2, dim=1)\n",
    "        \n",
    "        # Average the probabilities \n",
    "        avg_probs = (prob1 + prob2) / 2\n",
    "        \n",
    "        return avg_probs"
   ]
  },
  {
   "cell_type": "markdown",
   "id": "3b9868a2",
   "metadata": {},
   "source": [
    "## Classification Report of the Ensemble Model"
   ]
  },
  {
   "cell_type": "code",
   "execution_count": 140,
   "id": "6a1e58c5",
   "metadata": {},
   "outputs": [
    {
     "name": "stdout",
     "output_type": "stream",
     "text": [
      "                  precision    recall  f1-score   support\n",
      "\n",
      "    MildDemented       0.98      0.76      0.86      1351\n",
      "ModerateDemented       0.80      1.00      0.89       939\n",
      "     NonDemented       0.83      0.92      0.87      1427\n",
      "VeryMildDemented       0.84      0.79      0.81      1382\n",
      "\n",
      "        accuracy                           0.86      5099\n",
      "       macro avg       0.86      0.87      0.86      5099\n",
      "    weighted avg       0.87      0.86      0.86      5099\n",
      "\n"
     ]
    }
   ],
   "source": [
    "# classification report (test loader) - Ensemble Model\n",
    "model1 = CNN2(num_classes=4).to(device)\n",
    "\n",
    "model1.load_state_dict(torch.load('CNN2.pth'))\n",
    "\n",
    "def evaluate_model(model, dataloader):\n",
    "    model.eval() \n",
    "    true_labels = []\n",
    "    predictions = []\n",
    "\n",
    "    with torch.no_grad():\n",
    "        for inputs, labels in dataloader:\n",
    "            inputs, labels = inputs.to(device), labels.to(device)\n",
    "\n",
    "            outputs = model(inputs)\n",
    "            _, preds = torch.max(outputs, 1)\n",
    "\n",
    "            true_labels.extend(labels.cpu().numpy())\n",
    "            predictions.extend(preds.cpu().numpy())\n",
    "\n",
    "    return true_labels, predictions\n",
    "\n",
    "# Evaluate the model\n",
    "true_labels, predictions = evaluate_model(ensemble_model, test_loader)\n",
    "\n",
    "# Print classification report\n",
    "print(classification_report(true_labels, predictions, target_names=['MildDemented', 'ModerateDemented', 'NonDemented', 'VeryMildDemented'], zero_division=0))"
   ]
  },
  {
   "cell_type": "markdown",
   "id": "367f59a6",
   "metadata": {},
   "source": [
    "## Confusion Matrix of the Ensemble Model"
   ]
  },
  {
   "cell_type": "code",
   "execution_count": 141,
   "id": "7fd43c33",
   "metadata": {},
   "outputs": [
    {
     "data": {
      "image/png": "[encoded data removed]",
      "text/plain": [
       "<Figure size 720x576 with 2 Axes>"
      ]
     },
     "metadata": {
      "needs_background": "light"
     },
     "output_type": "display_data"
    }
   ],
   "source": [
    "# Confusion Matrix on Test Loader\n",
    "\n",
    "def get_predictions(model, dataloader):\n",
    "    model.eval()  \n",
    "    true_labels = []\n",
    "    predictions = []\n",
    "\n",
    "    with torch.no_grad():\n",
    "        for inputs, labels in dataloader:\n",
    "            inputs, labels = inputs.to(device), labels.to(device)\n",
    "            outputs = model(inputs)\n",
    "            _, preds = torch.max(outputs, 1)\n",
    "\n",
    "            true_labels.extend(labels.cpu().numpy())\n",
    "            predictions.extend(preds.cpu().numpy())\n",
    "\n",
    "    return true_labels, predictions\n",
    "\n",
    "# Evaluate the model\n",
    "true_labels, predictions = get_predictions(ensemble_model, test_loader)\n",
    "\n",
    "# Compute the confusion matrix\n",
    "cm = confusion_matrix(true_labels, predictions)\n",
    "class_names = ['MildDemented', 'ModerateDemented', 'NonDemented', 'VeryMildDemented']\n",
    "\n",
    "# Plot the confusion matrix\n",
    "plt.figure(figsize=(10, 8))\n",
    "sns.heatmap(cm, annot=True, fmt='d', cmap='Blues', xticklabels=class_names, yticklabels=class_names)\n",
    "plt.title('Confusion Matrix (Test data)')\n",
    "plt.ylabel('True Label')\n",
    "plt.xlabel('Predicted Label')\n",
    "plt.show()"
   ]
  },
  {
   "cell_type": "markdown",
   "id": "487239a2",
   "metadata": {},
   "source": [
    "# Upload an MRI and Predict AD Stage"
   ]
  },
  {
   "cell_type": "code",
   "execution_count": 14,
   "id": "adf9685e",
   "metadata": {},
   "outputs": [],
   "source": [
    "model1 = CNN1(num_classes=4)\n",
    "PATH1 = \"/Users/savin/Desktop/FYP/Implementation/model1.pth\"\n",
    "model1.load_state_dict(torch.load(PATH1))\n",
    "\n",
    "model2 = CNN2(num_classes=4)\n",
    "PATH2 = \"/Users/savin/Desktop/FYP/Implementation/model2.pth\"\n",
    "model2.load_state_dict(torch.load(PATH2))\n",
    "\n",
    "model1.eval()\n",
    "model2.eval()\n",
    "\n",
    "ensemble_model = VotingEnsemble(model1, model2)"
   ]
  },
  {
   "cell_type": "code",
   "execution_count": 42,
   "id": "36e3580b",
   "metadata": {},
   "outputs": [
    {
     "name": "stderr",
     "output_type": "stream",
     "text": [
      "2024-02-07 23:28:31.023 python[86682:6646539] +[CATransaction synchronize] called within transaction\n",
      "2024-02-07 23:28:31.362 python[86682:6646539] +[CATransaction synchronize] called within transaction\n",
      "2024-02-07 23:28:34.504 python[86682:6646539] +[CATransaction synchronize] called within transaction\n",
      "2024-02-07 23:28:50.430 python[86682:6646539] +[CATransaction synchronize] called within transaction\n",
      "2024-02-07 23:28:50.530 python[86682:6646539] +[CATransaction synchronize] called within transaction\n",
      "2024-02-07 23:28:50.643 python[86682:6646539] +[CATransaction synchronize] called within transaction\n",
      "2024-02-07 23:28:50.759 python[86682:6646539] +[CATransaction synchronize] called within transaction\n",
      "2024-02-07 23:28:50.876 python[86682:6646539] +[CATransaction synchronize] called within transaction\n",
      "2024-02-07 23:28:50.996 python[86682:6646539] +[CATransaction synchronize] called within transaction\n",
      "2024-02-07 23:28:51.099 python[86682:6646539] +[CATransaction synchronize] called within transaction\n",
      "2024-02-07 23:28:52.467 python[86682:6646539] +[CATransaction synchronize] called within transaction\n",
      "2024-02-07 23:28:52.577 python[86682:6646539] +[CATransaction synchronize] called within transaction\n",
      "2024-02-07 23:28:52.694 python[86682:6646539] +[CATransaction synchronize] called within transaction\n",
      "2024-02-07 23:28:52.841 python[86682:6646539] +[CATransaction synchronize] called within transaction\n",
      "2024-02-07 23:28:52.944 python[86682:6646539] +[CATransaction synchronize] called within transaction\n",
      "2024-02-07 23:28:53.046 python[86682:6646539] +[CATransaction synchronize] called within transaction\n",
      "2024-02-07 23:28:53.160 python[86682:6646539] +[CATransaction synchronize] called within transaction\n"
     ]
    },
    {
     "name": "stdout",
     "output_type": "stream",
     "text": [
      "Predicted class: Non Demented\n",
      "/Users/savin/Desktop/FYP/PSDP/Test_Dataset/nonDem2559.jpg\n"
     ]
    }
   ],
   "source": [
    "def load_and_predict(image_path, model, transform, device, class_names):\n",
    "    model.eval()\n",
    "    image = Image.open(image_path)# Convert to grayscale\n",
    "    image = transform(image)\n",
    "    image = image.repeat(3, 1, 1)  # Repeat the single channel three times to create a 3-channel image\n",
    "    image = image.unsqueeze(0).to(device)\n",
    "\n",
    "    with torch.no_grad():\n",
    "        outputs = model(image)\n",
    "        _, predicted = torch.max(outputs, 1)\n",
    "        predicted_class = class_names[predicted.item()]\n",
    "\n",
    "    return predicted_class\n",
    "\n",
    "# Class names\n",
    "class_names = ['Mild Demented', 'Moderate Demented', 'Non Demented', 'Very Mild Demented']\n",
    "\n",
    "Tk().withdraw()\n",
    "image_path = filedialog.askopenfilename()\n",
    "\n",
    "if image_path:\n",
    "    predicted_class = load_and_predict(image_path, model1, preprocess_transform, device, class_names)\n",
    "    print(f'Predicted class: {predicted_class}')\n",
    "    print(image_path)\n",
    "else:\n",
    "    print(\"No file was selected.\")"
   ]
  },
  {
   "cell_type": "code",
   "execution_count": 43,
   "id": "28de79bd",
   "metadata": {},
   "outputs": [
    {
     "name": "stderr",
     "output_type": "stream",
     "text": [
      "2024-02-07 23:29:35.146 python[86682:6646539] IMKClient Stall detected, *please Report* your user scenario attaching a spindump (or sysdiagnose) that captures the problem - (imkxpc_bundleIdentifierWithReply:) block performed very slowly (19.56 secs).\n",
      "2024-02-07 23:29:35.517 python[86682:6646539] +[CATransaction synchronize] called within transaction\n",
      "2024-02-07 23:29:35.597 python[86682:6646539] +[CATransaction synchronize] called within transaction\n",
      "2024-02-07 23:29:38.686 python[86682:6646539] +[CATransaction synchronize] called within transaction\n",
      "2024-02-07 23:29:40.641 python[86682:6646539] +[CATransaction synchronize] called within transaction\n",
      "2024-02-07 23:29:40.742 python[86682:6646539] +[CATransaction synchronize] called within transaction\n",
      "2024-02-07 23:29:40.857 python[86682:6646539] +[CATransaction synchronize] called within transaction\n",
      "2024-02-07 23:29:40.976 python[86682:6646539] +[CATransaction synchronize] called within transaction\n",
      "2024-02-07 23:29:41.097 python[86682:6646539] +[CATransaction synchronize] called within transaction\n"
     ]
    },
    {
     "name": "stdout",
     "output_type": "stream",
     "text": [
      "Predicted class: Non Demented\n",
      "/Users/savin/Desktop/FYP/PSDP/Test_Dataset/nonDem2559.jpg\n"
     ]
    }
   ],
   "source": [
    "def load_and_predict(image_path, model, transform, device, class_names):\n",
    "    model.eval()\n",
    "    image = Image.open(image_path)# Convert to grayscale\n",
    "    image = transform(image)\n",
    "    image = image.repeat(3, 1, 1)  # Repeat the single channel three times to create a 3-channel image\n",
    "    image = image.unsqueeze(0).to(device)\n",
    "\n",
    "    with torch.no_grad():\n",
    "        outputs = model(image)\n",
    "        _, predicted = torch.max(outputs, 1)\n",
    "        predicted_class = class_names[predicted.item()]\n",
    "\n",
    "    return predicted_class\n",
    "\n",
    "# Class names\n",
    "class_names = ['Mild Demented', 'Moderate Demented', 'Non Demented', 'Very Mild Demented']\n",
    "\n",
    "Tk().withdraw()\n",
    "image_path = filedialog.askopenfilename()\n",
    "\n",
    "if image_path:\n",
    "    predicted_class = load_and_predict(image_path, model2, preprocess_transform, device, class_names)\n",
    "    print(f'Predicted class: {predicted_class}')\n",
    "    print(image_path)\n",
    "else:\n",
    "    print(\"No file was selected.\")"
   ]
  },
  {
   "cell_type": "code",
   "execution_count": 44,
   "id": "e67d3b0f",
   "metadata": {},
   "outputs": [
    {
     "name": "stderr",
     "output_type": "stream",
     "text": [
      "2024-02-07 23:29:56.959 python[86682:6646539] IMKClient Stall detected, *please Report* your user scenario attaching a spindump (or sysdiagnose) that captures the problem - (imkxpc_bundleIdentifierWithReply:) block performed very slowly (11.53 secs).\n",
      "2024-02-07 23:29:57.128 python[86682:6646539] +[CATransaction synchronize] called within transaction\n",
      "2024-02-07 23:29:57.258 python[86682:6646539] +[CATransaction synchronize] called within transaction\n",
      "2024-02-07 23:29:58.897 python[86682:6646539] +[CATransaction synchronize] called within transaction\n"
     ]
    },
    {
     "name": "stdout",
     "output_type": "stream",
     "text": [
      "Predicted class: Non Demented\n",
      "/Users/savin/Desktop/FYP/PSDP/Test_Dataset/nonDem2559.jpg\n"
     ]
    }
   ],
   "source": [
    "def load_and_predict(image_path, model, transform, device, class_names):\n",
    "    model.eval()\n",
    "    image = Image.open(image_path)# Convert to grayscale\n",
    "    image = transform(image) \n",
    "    image = image.repeat(3, 1, 1)  # Repeat the single channel three times to create a 3-channel image\n",
    "    image = image.unsqueeze(0).to(device)\n",
    "\n",
    "    with torch.no_grad():\n",
    "        outputs = model(image)\n",
    "        _, predicted = torch.max(outputs, 1)\n",
    "        predicted_class = class_names[predicted.item()]\n",
    "\n",
    "    return predicted_class\n",
    "\n",
    "# Class names\n",
    "class_names = ['Mild Demented', 'Moderate Demented', 'Non Demented', 'Very Mild Demented']\n",
    "\n",
    "Tk().withdraw()\n",
    "image_path = filedialog.askopenfilename()\n",
    "\n",
    "if image_path:\n",
    "    predicted_class = load_and_predict(image_path, ensemble_model, preprocess_transform, device, class_names)\n",
    "    print(f'Predicted class: {predicted_class}')\n",
    "    print(image_path)\n",
    "else:\n",
    "    print(\"No file was selected.\")"
   ]
  },
  {
   "cell_type": "markdown",
   "id": "0409e2b8",
   "metadata": {},
   "source": [
    "## Interpret Classification Result using Grad-CAM"
   ]
  },
  {
   "cell_type": "code",
   "execution_count": 45,
   "id": "4372732c",
   "metadata": {},
   "outputs": [
    {
     "data": {
      "image/png": "[encoded data removed]",
      "text/plain": [
       "<Figure size 720x360 with 2 Axes>"
      ]
     },
     "metadata": {
      "needs_background": "light"
     },
     "output_type": "display_data"
    }
   ],
   "source": [
    "# Preprocessing function\n",
    "def preprocess_image(image_path):\n",
    "    # Open the image file\n",
    "    image = Image.open(image_path)\n",
    "\n",
    "    # Convert the image to RGB if it is not already\n",
    "    if image.mode != 'RGB':\n",
    "        image = image.convert('RGB')\n",
    "\n",
    "    # Apply the preprocessing transforms\n",
    "    image_tensor = preprocess_transform(image).unsqueeze(0).to(device)\n",
    "\n",
    "    return image_tensor, image\n",
    "\n",
    "# Grad-CAM function\n",
    "def apply_gradcam(model, image_tensor, target_layer):\n",
    "    gradcam = GradCAM(model, target_layer)\n",
    "    mask, _ = gradcam(image_tensor)\n",
    "    heatmap, result = visualize_cam(mask, image_tensor)\n",
    "\n",
    "    return heatmap, result\n",
    "\n",
    "# Load and preprocess image\n",
    "input_image_path = image_path\n",
    "image_tensor, original_image = preprocess_image(input_image_path)\n",
    "\n",
    "# Apply Grad-CAM (adjust target layer as needed)\n",
    "target_layer = model1.conv6  # Example: last conv layer in features\n",
    "heatmap, cam_result = apply_gradcam(model1, image_tensor, target_layer)\n",
    "\n",
    "# Visualization\n",
    "plt.figure(figsize=(10, 5))\n",
    "plt.subplot(1, 2, 1)\n",
    "plt.imshow(original_image)\n",
    "plt.title('Original Image')\n",
    "plt.axis('off')\n",
    "\n",
    "plt.subplot(1, 2, 2)\n",
    "plt.imshow(cam_result.permute(1, 2, 0).cpu().numpy())\n",
    "plt.title('Grad-CAM')\n",
    "plt.axis('off')\n",
    "\n",
    "plt.show()"
   ]
  },
  {
   "cell_type": "code",
   "execution_count": null,
   "id": "46697135",
   "metadata": {},
   "outputs": [],
   "source": []
  }
 ],
 "metadata": {
  "kernelspec": {
   "display_name": "Python 3 (ipykernel)",
   "language": "python",
   "name": "python3"
  },
  "language_info": {
   "codemirror_mode": {
    "name": "ipython",
    "version": 3
   },
   "file_extension": ".py",
   "mimetype": "text/x-python",
   "name": "python",
   "nbconvert_exporter": "python",
   "pygments_lexer": "ipython3",
   "version": "3.9.7"
  }
 },
 "nbformat": 4,
 "nbformat_minor": 5
}
